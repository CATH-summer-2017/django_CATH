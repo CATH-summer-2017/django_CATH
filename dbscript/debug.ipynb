{
 "cells": [
  {
   "cell_type": "code",
   "execution_count": 1,
   "metadata": {
    "collapsed": true
   },
   "outputs": [],
   "source": [
    "### Models should be auto-loaded in shell_plus kernel\n",
    "# from tst.models import * "
   ]
  },
  {
   "cell_type": "code",
   "execution_count": 1,
   "metadata": {
    "collapsed": true
   },
   "outputs": [],
   "source": [
    "# q = classification.objects.filter(Class=1,arch=10,topo=10,homsf=10,s35=0)\n",
    "# classification.objects\n",
    "classification.homsf_objects.count()\n",
    "# homsf = classification.objects.exclude(homsf=0).filter(s35=0);\n",
    "d = domain.objects.all()[0]\n",
    "s = d.classification\n",
    "sf = s.parent\n",
    "homsf = sf.classification_set.all()\n",
    "\n",
    "# homsf_list = \n",
    "# print(d.domain_stat)"
   ]
  },
  {
   "cell_type": "code",
   "execution_count": null,
   "metadata": {
    "collapsed": true
   },
   "outputs": [],
   "source": []
  },
  {
   "cell_type": "code",
   "execution_count": 11,
   "metadata": {},
   "outputs": [
    {
     "name": "stdout",
     "output_type": "stream",
     "text": [
      "domain_stat object\n",
      "domain_stat object\n"
     ]
    }
   ],
   "source": [
    "try:\n",
    "    del sys.modules[domain_stat_fill.__module__]\n",
    "except: \n",
    "    pass\n",
    "\n",
    "\n",
    "from tst.utils_db import *\n",
    "\n",
    "\n",
    "import os\n",
    "\n",
    "env =init_env()\n",
    "\n",
    "try:\n",
    "    d.domain_stat\n",
    "except Exception as e:\n",
    "    print(e)\n",
    "domain_stat_null(d)\n",
    "try:\n",
    "    print d.domain_stat\n",
    "except Exception as e:\n",
    "    print(e)\n",
    "\n",
    "    \n",
    "# domain_stat_fill(d,env=env)    \n",
    "\n",
    "try:\n",
    "    domain_stat_fill(d,env = env)    \n",
    "    print d.domain_stat\n",
    "except Exception as e:\n",
    "    exc_type, exc_obj, exc_tb = sys.exc_info()\n",
    "    fname = os.path.split(exc_tb.tb_frame.f_code.co_filename)[1]\n",
    "    print(exc_type, fname, exc_tb.tb_lineno)\n",
    "\n"
   ]
  },
  {
   "cell_type": "code",
   "execution_count": 14,
   "metadata": {},
   "outputs": [
    {
     "data": {
      "text/plain": [
       "['__class__',\n",
       " '__delattr__',\n",
       " '__doc__',\n",
       " '__format__',\n",
       " '__getattribute__',\n",
       " '__hash__',\n",
       " '__init__',\n",
       " '__iter__',\n",
       " '__new__',\n",
       " '__reduce__',\n",
       " '__reduce_ex__',\n",
       " '__repr__',\n",
       " '__setattr__',\n",
       " '__sizeof__',\n",
       " '__str__',\n",
       " '__subclasshook__',\n",
       " 'next']"
      ]
     },
     "execution_count": 14,
     "metadata": {},
     "output_type": "execute_result"
    }
   ],
   "source": [
    "dir(enumerate([1,2]))\n"
   ]
  },
  {
   "cell_type": "code",
   "execution_count": 15,
   "metadata": {},
   "outputs": [
    {
     "name": "stdout",
     "output_type": "stream",
     "text": [
      "0 of 21155\n",
      "100 of 21155\n",
      "200 of 21155\n",
      "300 of 21155\n",
      "400 of 21155\n",
      "500 of 21155\n",
      "600 of 21155\n",
      "700 of 21155\n",
      "800 of 21155\n",
      "900 of 21155\n",
      "1000 of 21155\n",
      "1100 of 21155\n",
      "1200 of 21155\n",
      "1300 of 21155\n",
      "1400 of 21155\n",
      "1500 of 21155\n",
      "1600 of 21155\n",
      "1700 of 21155\n",
      "1800 of 21155\n",
      "1900 of 21155\n",
      "2000 of 21155\n",
      "2100 of 21155\n",
      "2200 of 21155\n",
      "2300 of 21155\n",
      "2400 of 21155\n",
      "read_pd_459W> Residue type  SEC not recognized. 'automodel' model building\n",
      "              will treat this residue as a rigid body.\n",
      "              To use real parameters, add the residue type to ${LIB}/restyp.lib,\n",
      "              its topology to ${LIB}/top_*.lib, and suitable forcefield\n",
      "              parameters to ${LIB}/par.lib.\n",
      "2500 of 21155\n",
      "2600 of 21155\n",
      "2700 of 21155\n",
      "2800 of 21155\n",
      "2900 of 21155\n",
      "3000 of 21155\n",
      "3100 of 21155\n",
      "3200 of 21155\n",
      "3300 of 21155\n",
      "3400 of 21155\n",
      "3500 of 21155\n",
      "3600 of 21155\n",
      "3700 of 21155\n",
      "3800 of 21155\n",
      "3900 of 21155\n",
      "4000 of 21155\n",
      "4100 of 21155\n",
      "4200 of 21155\n",
      "4300 of 21155\n",
      "4400 of 21155\n",
      "4500 of 21155\n",
      "4600 of 21155\n",
      "4700 of 21155\n",
      "4800 of 21155\n",
      "4900 of 21155\n",
      "5000 of 21155\n",
      "5100 of 21155\n",
      "5200 of 21155\n",
      "5300 of 21155\n",
      "5400 of 21155\n",
      "5500 of 21155\n",
      "5600 of 21155\n",
      "5700 of 21155\n",
      "5800 of 21155\n",
      "5900 of 21155\n",
      "6000 of 21155\n",
      "6100 of 21155\n",
      "6200 of 21155\n",
      "6300 of 21155\n",
      "6400 of 21155\n",
      "6500 of 21155\n",
      "6600 of 21155\n",
      "6700 of 21155\n",
      "6800 of 21155\n",
      "6900 of 21155\n",
      "7000 of 21155\n",
      "7100 of 21155\n",
      "7200 of 21155\n",
      "7300 of 21155\n",
      "7400 of 21155\n",
      "7500 of 21155\n",
      "7600 of 21155\n",
      "7700 of 21155\n",
      "7800 of 21155\n",
      "7900 of 21155\n",
      "8000 of 21155\n",
      "8100 of 21155\n",
      "8200 of 21155\n",
      "8300 of 21155\n",
      "8400 of 21155\n",
      "8500 of 21155\n",
      "8600 of 21155\n",
      "8700 of 21155\n",
      "8800 of 21155\n",
      "8900 of 21155\n",
      "9000 of 21155\n",
      "9100 of 21155\n",
      "9200 of 21155\n",
      "9300 of 21155\n",
      "9400 of 21155\n",
      "9500 of 21155\n",
      "9600 of 21155\n",
      "9700 of 21155\n",
      "9800 of 21155\n",
      "9900 of 21155\n",
      "10000 of 21155\n",
      "10100 of 21155\n",
      "10200 of 21155\n",
      "10300 of 21155\n",
      "10400 of 21155\n",
      "10500 of 21155\n",
      "10600 of 21155\n",
      "10700 of 21155\n",
      "10800 of 21155\n",
      "10900 of 21155\n",
      "read_pd_459W> Residue type  PYL not recognized. 'automodel' model building\n",
      "              will treat this residue as a rigid body.\n",
      "              To use real parameters, add the residue type to ${LIB}/restyp.lib,\n",
      "              its topology to ${LIB}/top_*.lib, and suitable forcefield\n",
      "              parameters to ${LIB}/par.lib.\n",
      "11000 of 21155\n",
      "11100 of 21155\n",
      "11200 of 21155\n",
      "11300 of 21155\n",
      "11400 of 21155\n",
      "11500 of 21155\n",
      "11600 of 21155\n",
      "11700 of 21155\n",
      "11800 of 21155\n",
      "11900 of 21155\n",
      "12000 of 21155\n",
      "12100 of 21155\n",
      "12200 of 21155\n",
      "12300 of 21155\n",
      "12400 of 21155\n",
      "12500 of 21155\n",
      "12600 of 21155\n",
      "12700 of 21155\n",
      "12800 of 21155\n",
      "12900 of 21155\n",
      "13000 of 21155\n",
      "13100 of 21155\n",
      "13200 of 21155\n",
      "13300 of 21155\n",
      "13400 of 21155\n",
      "13500 of 21155\n",
      "13600 of 21155\n",
      "13700 of 21155\n",
      "13800 of 21155\n",
      "13900 of 21155\n",
      "14000 of 21155\n",
      "14100 of 21155\n",
      "14200 of 21155\n",
      "14300 of 21155\n",
      "14400 of 21155\n",
      "14500 of 21155\n",
      "14600 of 21155\n",
      "14700 of 21155\n",
      "14800 of 21155\n",
      "14900 of 21155\n",
      "15000 of 21155\n",
      "15100 of 21155\n",
      "15200 of 21155\n",
      "15300 of 21155\n",
      "15400 of 21155\n",
      "15500 of 21155\n",
      "15600 of 21155\n",
      "15700 of 21155\n",
      "15800 of 21155\n",
      "15900 of 21155\n",
      "16000 of 21155\n",
      "16100 of 21155\n",
      "16200 of 21155\n",
      "16300 of 21155\n",
      "16400 of 21155\n",
      "16500 of 21155\n",
      "16600 of 21155\n",
      "16700 of 21155\n",
      "16800 of 21155\n",
      "16900 of 21155\n",
      "17000 of 21155\n",
      "17100 of 21155\n",
      "17200 of 21155\n",
      "17300 of 21155\n",
      "17400 of 21155\n",
      "17500 of 21155\n",
      "17600 of 21155\n",
      "17700 of 21155\n",
      "17800 of 21155\n",
      "17900 of 21155\n",
      "18000 of 21155\n",
      "18100 of 21155\n",
      "18200 of 21155\n",
      "18300 of 21155\n",
      "18400 of 21155\n",
      "18500 of 21155\n",
      "18600 of 21155\n",
      "18700 of 21155\n",
      "18800 of 21155\n",
      "18900 of 21155\n",
      "19000 of 21155\n",
      "19100 of 21155\n",
      "19200 of 21155\n",
      "19300 of 21155\n",
      "19400 of 21155\n",
      "19500 of 21155\n",
      "19600 of 21155\n",
      "19700 of 21155\n",
      "19800 of 21155\n",
      "19900 of 21155\n",
      "20000 of 21155\n",
      "20100 of 21155\n",
      "20200 of 21155\n",
      "20300 of 21155\n",
      "20400 of 21155\n",
      "20500 of 21155\n",
      "20600 of 21155\n",
      "20700 of 21155\n",
      "20800 of 21155\n",
      "20900 of 21155\n",
      "21000 of 21155\n",
      "21100 of 21155\n"
     ]
    }
   ],
   "source": [
    "from tst.utils_db import *\n",
    "lst = domain.objects.all()\n",
    "imax = len(lst)\n",
    "for i,d in enumerate(lst):\n",
    "    domain_stat_fill(d,env = env) \n",
    "    if not i % 100:\n",
    "        print('%d of %d'%(i,imax))"
   ]
  },
  {
   "cell_type": "code",
   "execution_count": 110,
   "metadata": {},
   "outputs": [
    {
     "data": {
      "text/plain": [
       "<classification: 2.40.50.140.147.0>"
      ]
     },
     "execution_count": 110,
     "metadata": {},
     "output_type": "execute_result"
    }
   ],
   "source": [
    "domain.objects.get(domain_id = '4aimA04').classification"
   ]
  },
  {
   "cell_type": "code",
   "execution_count": 27,
   "metadata": {
    "collapsed": true
   },
   "outputs": [],
   "source": [
    "import matplotlib.pyplot as plt\n",
    "\n",
    "import numpy as np"
   ]
  },
  {
   "cell_type": "code",
   "execution_count": 92,
   "metadata": {},
   "outputs": [
    {
     "data": {
      "text/plain": [
       "(0, 100)"
      ]
     },
     "execution_count": 92,
     "metadata": {},
     "output_type": "execute_result"
    },
    {
     "data": {
      "image/png": "[encoded data removed]",
      "text/plain": [
       "<matplotlib.figure.Figure at 0x7efd80d7fcd0>"
      ]
     },
     "metadata": {},
     "output_type": "display_data"
    }
   ],
   "source": [
    "homsfs = classification.homsf_objects.all()\n",
    "%matplotlib inline\n",
    "\n",
    "xs = [];\n",
    "ys = [];\n",
    "for hom in homsfs:\n",
    "    xs.append(hom.s35_count)\n",
    "    ys.append(hom.nDOPE_std)\n",
    "plt.close(\"all\")\n",
    "fig = plt.figure(figsize = [10,10])\n",
    "# ax1 = fig.add_subplot(111)\n",
    "\n",
    "ax1 = fig.add_subplot(221)\n",
    "ax1.plot(xs,ys,'x',3)\n",
    "ax1.set_xlim([0,100])\n",
    "#     plot()"
   ]
  },
  {
   "cell_type": "code",
   "execution_count": 93,
   "metadata": {
    "collapsed": true
   },
   "outputs": [],
   "source": [
    "%matplotlib inline\n",
    "homsfs = classification.homsf_objects.all().filter(s35_count__gte=100).order_by(\"-nDOPE_std\")"
   ]
  },
  {
   "cell_type": "code",
   "execution_count": 126,
   "metadata": {},
   "outputs": [
    {
     "name": "stdout",
     "output_type": "stream",
     "text": [
      "34\n"
     ]
    }
   ],
   "source": [
    "%matplotlib inline\n",
    "homsfs = classification.homsf_objects.all().filter(s35_count__lte=100,s35_count__gte=50).order_by(\"-nDOPE_avg\")\n",
    "# homsfs = classification.homsf_objects.all().filter(s35_count__gte=100)\n",
    "\n",
    "\n",
    "print(len(homsfs))"
   ]
  },
  {
   "cell_type": "code",
   "execution_count": null,
   "metadata": {
    "collapsed": true
   },
   "outputs": [],
   "source": []
  },
  {
   "cell_type": "code",
   "execution_count": 119,
   "metadata": {},
   "outputs": [
    {
     "data": {
      "text/plain": [
       "34"
      ]
     },
     "execution_count": 119,
     "metadata": {},
     "output_type": "execute_result"
    }
   ],
   "source": [
    "len(homsfs)"
   ]
  },
  {
   "cell_type": "code",
   "execution_count": 6,
   "metadata": {},
   "outputs": [
    {
     "name": "stdout",
     "output_type": "stream",
     "text": [
      "read_to_681_> topology.submodel read from topology file:        3\n"
     ]
    }
   ],
   "source": [
    "#!/usr/bin/env python\n",
    "from modeller import *\n",
    "from modeller.scripts import complete_pdb\n",
    "\n",
    "import argparse\n",
    "import os\n",
    "from os.path import join\n",
    "\n",
    "import matplotlib.pyplot as plt\n",
    "import numpy as np\n",
    "env = environ()\n",
    "env.edat.dynamic_sphere = False\n",
    "env.libs.topology.read(file='$(LIB)/top_heav.lib')\n",
    "env.libs.parameters.read(file='$(LIB)/par.lib')\n",
    "env.io.atom_files_directory = ['.','../atom_files','/home/shouldsee/Documents/repos/cathdb/domchop/pdbs/high_dope/']\n",
    "\n",
    "\n"
   ]
  },
  {
   "cell_type": "code",
   "execution_count": 143,
   "metadata": {
    "collapsed": true
   },
   "outputs": [],
   "source": [
    "def is_outlier(points, thresh=3.5):\n",
    "    \"\"\"\n",
    "    Returns a boolean array with True if points are outliers and False \n",
    "    otherwise.\n",
    "\n",
    "    Parameters:\n",
    "    -----------\n",
    "        points : An numobservations by numdimensions array of observations\n",
    "        thresh : The modified z-score to use as a threshold. Observations with\n",
    "            a modified z-score (based on the median absolute deviation) greater\n",
    "            than this value will be classified as outliers.\n",
    "\n",
    "    Returns:\n",
    "    --------\n",
    "        mask : A numobservations-length boolean array.\n",
    "\n",
    "    References:\n",
    "    ----------\n",
    "        Boris Iglewicz and David Hoaglin (1993), \"Volume 16: How to Detect and\n",
    "        Handle Outliers\", The ASQC Basic References in Quality Control:\n",
    "        Statistical Techniques, Edward F. Mykytka, Ph.D., Editor. \n",
    "    \"\"\"\n",
    "    if not isinstance(points,np.ndarray):\n",
    "        points = np.array(points)\n",
    "    if len(points.shape) == 1:\n",
    "        points = points[:,None]\n",
    "    median = np.median(points, axis=0)\n",
    "    diff = np.sum((points - median)**2, axis=-1)\n",
    "    diff = np.sqrt(diff)\n",
    "    med_abs_deviation = np.median(diff)\n",
    "\n",
    "    modified_z_score = 0.6745 * diff / med_abs_deviation\n",
    "\n",
    "    return modified_z_score > thresh"
   ]
  },
  {
   "cell_type": "code",
   "execution_count": 144,
   "metadata": {},
   "outputs": [
    {
     "data": {
      "text/plain": [
       "array([False, False, False, False], dtype=bool)"
      ]
     },
     "execution_count": 144,
     "metadata": {},
     "output_type": "execute_result"
    }
   ],
   "source": [
    "# len(mdl.residues)\n",
    "is_outlier([1,3,4,5])\n",
    "# type(np.array([]))\n",
    "# isinstance(np.array([1]),np.ndarray)"
   ]
  },
  {
   "cell_type": "code",
   "execution_count": 52,
   "metadata": {},
   "outputs": [
    {
     "name": "stdout",
     "output_type": "stream",
     "text": [
      "\n",
      "\n",
      "//Testing structure from 2je6I02.pdb, containing 88 residues\n",
      "iatmcls_286W> MODEL atom not classified:  SER:OXT  SER\n",
      "preppdf_453W> No fixed restraints selected; there may be some dynamic ones.\n",
      "preppdf_454W> Restraints file was probably not read; use restraints.append().\n",
      "2je6I02.pdb got a DOPE of -7407.044140\n",
      "\n",
      "\n",
      "//Testing structure from 2je6I02.pdb, containing 88 residues\n",
      "iatmcls_286W> MODEL atom not classified:  SER:OXT  SER\n",
      "preppdf_453W> No fixed restraints selected; there may be some dynamic ones.\n",
      "preppdf_454W> Restraints file was probably not read; use restraints.append().\n",
      "2je6I02.pdb got an average nDOPE of 6.425335\n",
      "\n",
      "\n",
      "//Testing structure from 4aimA04.pdb, containing 76 residues\n",
      "iatmcls_286W> MODEL atom not classified:  GLN:OXT  GLN\n",
      "preppdf_453W> No fixed restraints selected; there may be some dynamic ones.\n",
      "preppdf_454W> Restraints file was probably not read; use restraints.append().\n",
      "4aimA04.pdb got a DOPE of -4191.166530\n",
      "\n",
      "\n",
      "//Testing structure from 4aimA04.pdb, containing 76 residues\n",
      "iatmcls_286W> MODEL atom not classified:  GLN:OXT  GLN\n",
      "preppdf_453W> No fixed restraints selected; there may be some dynamic ones.\n",
      "preppdf_454W> Restraints file was probably not read; use restraints.append().\n",
      "4aimA04.pdb got an average nDOPE of 23.632673\n"
     ]
    },
    {
     "data": {
      "text/plain": [
       "-7407.0441402196884"
      ]
     },
     "execution_count": 52,
     "metadata": {},
     "output_type": "execute_result"
    }
   ],
   "source": [
    "pdbfile = '2je6I02.pdb'\n",
    "\n",
    "class pdb():\n",
    "    def __init__(self,pdbfile = None):\n",
    "        self.pdbfile = pdbfile\n",
    "        self.DOPE_profile = None;\n",
    "        self.nDOPE_profile = None\n",
    "        self.pdbname = os.path.basename(pdbfile);\n",
    "        \n",
    "        if self.pdbname.split('.')[-1]=='pdb':    \n",
    "            pass\n",
    "        else:\n",
    "            raise \"not a valid .pdb file\"\n",
    "        self.mdl = complete_pdb(env, self.pdbfile)\n",
    "        self.delim = \"\\n\\n//Testing structure from %s, containing %d residues\" % (self.pdbfile, len(self.mdl.residues))\n",
    "#         if self.pdbname.split('.')[-1]=='pdb':\n",
    "        \n",
    "    def get_DOPE_profile(self):\n",
    "        print(self.delim)\n",
    "        #         print(\"\\n\\n//Testing structure from %s\" % self.pdbfile)\n",
    "        sel = selection(self.mdl)\n",
    "        profile = sel.get_dope_profile()\n",
    "\n",
    "        # profile = mdl.get_normalized_dope_profile()\n",
    "\n",
    "        res_energy = [x.energy for x in profile];\n",
    "        factor = 10 ** ( \n",
    "            int(\n",
    "                np.log10(\n",
    "                    max( \n",
    "                        (abs(x) for x in res_energy)\n",
    "                        ) \n",
    "                    )\n",
    "                - 3  \n",
    "               )  + 1 \n",
    "            )\n",
    "        self.DOPE_profile = res_energy;\n",
    "        msg = \"%s got a DOPE of %f\" % (self.pdbname, np.sum(self.DOPE_profile))\n",
    "        print(msg)\n",
    "    def get_DOPEhr_profile(self):\n",
    "        print(self.delim)\n",
    "        \n",
    "#         print(\"\\n\\n//Testing structure from %s\" % self.pdbfile)\n",
    "        sel = selection(self.mdl)\n",
    "        profile = sel.get_dopehr_profile()\n",
    "\n",
    "        # profile = mdl.get_normalized_dope_profile()\n",
    "\n",
    "        res_energy = [x.energy for x in profile];\n",
    "        factor = 10 ** ( \n",
    "            int(\n",
    "                np.log10(\n",
    "                    max( \n",
    "                        (abs(x) for x in res_energy)\n",
    "                        ) \n",
    "                    )\n",
    "                - 3  \n",
    "               )  + 1 \n",
    "            )\n",
    "        self.DOPEhr_profile = res_energy;\n",
    "        msg = \"%s got a DOPE of %f\" % (self.pdbname, np.sum(self.DOPEhr_profile))\n",
    "        print(msg)\n",
    "\n",
    "    def get_nDOPE_profile(self):\n",
    "        print(self.delim)\n",
    "        \n",
    "#         print(\"\\n\\n//Testing structure from %s\" % self.pdbfile)\n",
    "        \n",
    "        profile = self.mdl.get_normalized_dope_profile()\n",
    "\n",
    "        res_energy = [x.energy for x in profile];\n",
    "        factor = 10 ** ( \n",
    "            int(\n",
    "                np.log10(\n",
    "                    max( \n",
    "                        (abs(x) for x in res_energy)\n",
    "                        ) \n",
    "                    )\n",
    "                - 3  \n",
    "               )  + 1 \n",
    "            )\n",
    "        self.nDOPE_profile = res_energy;\n",
    "        msg = \"%s got an average nDOPE of %f\" % (self.pdbname, np.mean(self.nDOPE_profile))\n",
    "        print(msg)\n",
    "\n",
    "    \n",
    "# print(len(profile))\n",
    "\n",
    "# np.sum(res_energy)\n",
    "\n",
    "p1 = pdb('2je6I02.pdb')\n",
    "p2 = pdb('4aimA04.pdb')\n",
    "for p in [p1,p2]:\n",
    "    p.get_DOPE_profile()\n",
    "    p.get_nDOPE_profile()\n",
    "np.sum(p1.DOPE_profile)"
   ]
  },
  {
   "cell_type": "code",
   "execution_count": 73,
   "metadata": {},
   "outputs": [
    {
     "name": "stdout",
     "output_type": "stream",
     "text": [
      "\n",
      "Multiple dynamic programming alignment (MALIGN):\n",
      "  Residue-residue metric  : $(LIB)/as1.sim.mat\n",
      "  ALIGN_BLOCK             :            1\n",
      "  Gap introduction penalty:    -900.0000\n",
      "  Gap extension penalty   :     -50.0000\n",
      "  Length of alignment     :           88\n",
      "10\n",
      "5\n",
      "-151.056945801\n",
      "-42.8250465393\n"
     ]
    }
   ],
   "source": [
    "# code =\"\"\n",
    "aln = alignment(env)\n",
    "# mdl.read(file=code,model_segment=('FIRST:@','END:'))\n",
    "code = p1.pdbfile\n",
    "aln.append_model(p1.mdl,align_codes=code,atom_files=code)\n",
    "code = p2.pdbfile\n",
    "aln.append_model(p2.mdl,align_codes=code,atom_files=code)\n",
    "\n",
    "# mdl.read(file=code,model_segment=('FIRST:@','END:'))\n",
    "# aln.append_model(mdl,align_codes=code,atom_files=code)\n",
    "\n",
    "aln.malign()\n",
    "# for pos in aln.positions:\n",
    "if 1:\n",
    "    pos = aln.positions[10]\n",
    "    obj = pos\n",
    "    res1 = obj.get_residue(aln[0])\n",
    "    res2 = obj.get_residue(aln[1])\n",
    "    \n",
    "    print(res1._num)\n",
    "    print(res2._num)\n",
    "    \n",
    "    print(p1.DOPE_profile[(res1._num)])\n",
    "    print(p2.DOPE_profile[(res2._num)])    "
   ]
  },
  {
   "cell_type": "code",
   "execution_count": 78,
   "metadata": {
    "scrolled": false
   },
   "outputs": [
    {
     "name": "stdout",
     "output_type": "stream",
     "text": [
      "88\n",
      "88\n",
      "-6687.83621633\n",
      "-4191.16653037\n"
     ]
    },
    {
     "data": {
      "text/plain": [
       "<matplotlib.legend.Legend at 0x7efd80f950d0>"
      ]
     },
     "execution_count": 78,
     "metadata": {},
     "output_type": "execute_result"
    },
    {
     "data": {
      "image/png": "[encoded data removed]",
      "text/plain": [
       "<matplotlib.figure.Figure at 0x7efd81634850>"
      ]
     },
     "metadata": {},
     "output_type": "display_data"
    }
   ],
   "source": [
    "%matplotlib inline \n",
    "plt.close(\"all\")\n",
    "fig = plt.figure(figsize = [10,10])\n",
    "ax1 = fig.add_subplot(221);\n",
    "ax2 = fig.add_subplot(222);\n",
    "ax3 = fig.add_subplot(223);\n",
    "ax4 = fig.add_subplot(224);\n",
    "print len(p1.DOPE_profile)\n",
    "print len(p1.nDOPE_profile)\n",
    "# ax1.hist(p1.DOPE_profile,np.linspace(-300,300,100));\n",
    "for p in [p1,p2]:\n",
    "    label = p.pdbname\n",
    "#     ax1.plot(p.DOPE_profile,p.nDOPE_profile,'x',2,label = p.pdbname)\n",
    "    ax2.hist(p.DOPE_profile,np.linspace(-300,300,50), label = p.pdbname,alpha = 0.5);\n",
    "    smt_pf = np.convolve(p.nDOPE_profile, [1./3 for x in range(3)],'valid');\n",
    "    ax3.plot(smt_pf, label = label)\n",
    "    \n",
    "#     ax3.plot(p.nDOPE_profile, label = label)\n",
    "    ax4.hist(p.nDOPE_profile,np.linspace(-300,300,50), label = p.pdbname);\n",
    "\n",
    "p.DOPE_profile\n",
    "# ax1.plot(p.DOPE_profile,p.nDOPE_profile,'x',2,label = p.pdbname)\n",
    "\n",
    "# if 1:\n",
    "#     pos = aln.positions[10]\n",
    "#     obj = pos\n",
    "sx = 0;\n",
    "sy = 0;\n",
    "xs = [];\n",
    "ys = [];\n",
    "# for pos in aln.positions:\n",
    "#     res1 = pos.get_residue(aln[0])\n",
    "#     res2 = pos.get_residue(aln[1])\n",
    "#     if res1 and res2:\n",
    "#         rnum1 = res1._num\n",
    "#         rnum2 = res2._num\n",
    "for pos in positions:\n",
    "    res1 = pos[0]\n",
    "    res2 = pos[1]\n",
    "    \n",
    "    if res1[0] and res2[0]:\n",
    "        rnum1 = res1[0];\n",
    "        rnum2 = res2[0];\n",
    "        dp1 = p1.DOPE_profile[(rnum1)]\n",
    "        dp2 = p2.DOPE_profile[(rnum2)]\n",
    "        x = (dp1+dp2)/np.sqrt(2);\n",
    "        y = (dp2-dp1)/np.sqrt(2);\n",
    "        xs += [x];\n",
    "        ys += [y];\n",
    "#         ax1.plot(x,y,'gx',2)\n",
    "        sx += dp1;\n",
    "        sy += dp2;\n",
    "ax1.plot(xs,ys,'gx',2)\n",
    "\n",
    "sx = 0;\n",
    "sy = 0;\n",
    "xs = [];\n",
    "ys = [];\n",
    "for pos in aln.positions:\n",
    "    res1 = pos.get_residue(aln[0])\n",
    "    res2 = pos.get_residue(aln[1])\n",
    "    if res1 and res2:\n",
    "        rnum1 = res1._num\n",
    "        rnum2 = res2._num\n",
    "        dp1 = p1.DOPE_profile[(rnum1)]\n",
    "        dp2 = p2.DOPE_profile[(rnum2)]\n",
    "        x = (dp1+dp2)/np.sqrt(2);\n",
    "        y = (dp2-dp1)/np.sqrt(2);\n",
    "        xs += [x];\n",
    "        ys += [y];\n",
    "#         ax1.plot(x,y,'gx',2)\n",
    "        sx += dp1;\n",
    "        sy += dp2;\n",
    "ax1.plot(xs,ys,'r.',1)\n",
    "# print(len(positions))\n",
    "# xs =\n",
    "print(sx)\n",
    "print(sy)\n",
    "ax1.plot([-300,100],[0,0])\n",
    "ax1.axis('equal')\n",
    "ax1.legend()\n",
    "ax2.legend()\n",
    "ax4.legend()"
   ]
  },
  {
   "cell_type": "code",
   "execution_count": null,
   "metadata": {
    "collapsed": true
   },
   "outputs": [],
   "source": [
    "def scatterplot_dict_overlap(xs1,y2s1,ids1,xs2,y2s2,ids2, colors = None,lbls=None, forced_lbls=None, regress = True, show = False,**kwargs):   \n",
    "#     if not lbls:\n",
    "#         lbls = ids\n",
    "    # if forced_lbls:\n",
    "    #     lbls = forced_lbls\n",
    "    #     print( \"lbls settled\")\n",
    "    # print( \"lbls not settled\")\n",
    "\n",
    "    # font = {'family' : 'normal',\n",
    "    #     'weight' : 'bold',\n",
    "    #     'size'   : 16}\n",
    "    # # matplotlib.rc('font', **font)\n",
    "    SMALL_SIZE = 12\n",
    "    MEDIUM_SIZE = 16\n",
    "    BIGGER_SIZE = 18\n",
    "    plt.rc('font', size=SMALL_SIZE)          # controls default text sizes\n",
    "    plt.rc('axes', titlesize=SMALL_SIZE)     # fontsize of the axes title\n",
    "    plt.rc('axes', labelsize=MEDIUM_SIZE)    # fontsize of the x and y labels\n",
    "    # plt.rc('axes', titleweight='bold')    # fontsize of the x and y labels\n",
    "    plt.rc('xtick', labelsize=SMALL_SIZE)    # fontsize of the tick labels\n",
    "    plt.rc('ytick', labelsize=SMALL_SIZE)    # fontsize of the tick labels\n",
    "    plt.rc('legend', fontsize=SMALL_SIZE)    # legend fontsize\n",
    "    plt.rc('figure', titlesize=BIGGER_SIZE)  # fontsize of the figure title\n",
    "\n",
    "\n",
    "    plt.rcParams['font.family'] = 'serif'\n",
    "    plt.rcParams['font.serif'] = 'Ubuntu'\n",
    "    plt.rcParams['font.monospace'] = 'Ubuntu Mono'\n",
    "    plt.rcParams['font.weight'] = 10\n",
    "    # plt.rcParams['font.size'] = 10\n",
    "    # plt.rcParams['axes.labelsize'] = 10\n",
    "    plt.rcParams['text.usetex']=False\n",
    "    plt.rcParams['axes.labelweight'] = 'bold'\n",
    "    plt.rcParams['axes.titleweight'] = 'bold'\n",
    "\n",
    "\n",
    "    idx = [not (x is None or y is None) for x,y in zip(xs2,y2s2)]\n",
    "    xs = [x for x,y in zip(xs2,idx) if y]\n",
    "    y2s = [x for x,y in zip(y2s2,idx) if y]\n",
    "    ids = [x for x,y in zip(ids2,idx) if y]\n",
    "    \n",
    "#     lbls=ids2\n",
    "#     xs = np.array(xs);\n",
    "#     y2s = np.array(y2s)\n",
    "    # \n",
    "    # xs = xs.flat[idx]\n",
    "    # print(len(idx))\n",
    "    # y2s = y2s.flat[idx]\n",
    "    # ids = [x for x,y in zip(ids,idx) if y]\n",
    "    # lbls = lbls[idx]\n",
    "    \n",
    "    msg = '';\n",
    "    plt.close()\n",
    "    siz = [450,400]\n",
    "    DPI=100.\n",
    "    fig = plt.figure(figsize = [x/float(DPI) for x in siz], dpi=DPI)\n",
    "    ax1 = fig.add_subplot(111,**kwargs)\n",
    "    points = ax1.scatter(xs,y2s, \n",
    "        # colors,\n",
    "#         edgecolor = 'b',facecolor = 'b',\n",
    "        edgecolor = 'r',facecolor = 'r',\n",
    "        marker ='o',\n",
    "        c = colors,\n",
    "         s =100,\n",
    "         alpha = 0.35,\n",
    "         # **kwargs\n",
    "         )\n",
    "    # if 1:\n",
    "    \n",
    "    \n",
    "    idx = [not (x is None or y is None) for x,y in zip(xs1,y2s1)]\n",
    "    xs = [x for x,y in zip(xs1,idx) if y]\n",
    "    y2s = [x for x,y in zip(y2s1,idx) if y]\n",
    "    ids = [x for x,y in zip(ids1,idx) if y]\n",
    "#     lbls=ids1\n",
    "    xs = np.array(xs);\n",
    "    y2s = np.array(y2s)\n",
    "    # \n",
    "    # xs = xs.flat[idx]\n",
    "    # print(len(idx))\n",
    "    # y2s = y2s.flat[idx]\n",
    "    # ids = [x for x,y in zip(ids,idx) if y]\n",
    "    # lbls = lbls[idx]\n",
    "    \n",
    "#     msg = '';\n",
    "#     plt.close()\n",
    "#     siz = [450,400]\n",
    "#     DPI=100.\n",
    "#     fig = plt.figure(figsize = [x/float(DPI) for x in siz], dpi=DPI)\n",
    "#     ax1 = fig.add_subplot(111,**kwargs)\n",
    "    points = ax1.scatter(xs,y2s, \n",
    "        # colors,\n",
    "        edgecolor = 'b',facecolor = 'b',\n",
    "        # edgecolor = 'r',facecolor = 'r',\n",
    "        marker ='o',\n",
    "        c = colors,\n",
    "         s =100,\n",
    "         alpha = 0.35,\n",
    "         # **kwargs\n",
    "         )\n",
    "    # if 1:\n",
    "    \n",
    "    \n",
    "    title = ''\n",
    "    if regress:\n",
    "        ((m,b),C) = np.polyfit(xs, y2s, 1, cov =True) ### This covariance seems different from the one generated by np.cov()\n",
    "        # (m,b) = np.polyfit(xs, y2s, 1, cov = False)\n",
    "        C = np.cov(xs,y2s)\n",
    "        r_sq = cov2corr(C).flat[1] ** 2\n",
    "  \n",
    "        res2  = y2s - ( m*xs + b)\n",
    "        outs = MAD_outlier(res2,3.0)\n",
    "        outs = (outs * (res2<0));\n",
    "        xso = xs[outs]\n",
    "        y2so = y2s[outs]\n",
    "        sc1 = ax1.scatter(xso,y2so,s=33,\n",
    "            color='r',\n",
    "            marker = 'x',\n",
    "            label='outlier num = %d'%sum(outs))\n",
    "\n",
    "        title += '''\n",
    "        y  = %5.3f * x + %5.3f , \n",
    "        R_squared=%3.3f '''% (m,b,r_sq)\n",
    "        xmm = np.array([min(xs),max(xs)])\n",
    "        ax1.plot(xmm, m*xmm + b, 'g--',label = 'linear regression fit')\n",
    "\n",
    "    oxlim = ax1.get_xlim()\n",
    "    oylim = ax1.get_ylim()\n",
    "    ax1.axis('auto')\n",
    "    axlim = ax1.get_xlim()\n",
    "    aylim = ax1.get_ylim()\n",
    "    ax1.set_xlim(oxlim)\n",
    "    ax1.set_ylim(oylim)\n",
    "\n",
    "    ax1.legend()\n",
    "    \n",
    "    # ax1.legend(bbox_to_anchor=(1.1, 1.05))\n",
    "    ax1.set_title(\n",
    "        title)\n",
    "\n",
    "    ax1.grid(True, which='both')\n",
    "    plt.tight_layout()\n",
    " \n",
    "    tooltip = mpld3.plugins.PointLabelTooltip(points, labels=lbls)\n",
    "    mpld3.plugins.connect(fig, tooltip)\n",
    "    mpld3.plugins.connect(fig, HelloWorld(points,lbls,ids))\n",
    "    mpld3.plugins.connect(fig, RectPlugin(xlim=axlim,ylim=aylim))\n",
    "    jdict = mpld3.fig_to_dict(fig);\n",
    "    jstr = json.dumps(jdict);\n",
    "\n",
    "    if show:\n",
    "        mpld3.show()\n",
    "    else:\n",
    "        plt.close(fig)\n",
    "        # fig.show()\n",
    "        # plt.close(\"all\")\n",
    "    return(jdict)"
   ]
  },
  {
   "cell_type": "code",
   "execution_count": 79,
   "metadata": {},
   "outputs": [
    {
     "name": "stdout",
     "output_type": "stream",
     "text": [
      "1765.41206533\n"
     ]
    }
   ],
   "source": [
    "#### Overlapping plot\n",
    "\n",
    "### plotting mahalanobis distance\n",
    "# del scatterplot_dict.__module__\n",
    "# from tst.utils import *\n",
    "# from tst.views import *\n",
    "from matplotlib import pyplot as plt\n",
    "dom1=\"3.30.497.10\"\n",
    "dom2=\"2.30.39.10\"\n",
    "\n",
    "sf1 = classification.objects.get_bytree(dom1)[0]\n",
    "sf2 = classification.objects.get_bytree(dom1)[0]\n",
    "fields=[\t\t\t'domain_stat__atom_count',\n",
    "\t\t\t'domain_stat__nbpair_count',\n",
    "\t\t\t'id',\n",
    "]\n",
    "\n",
    "fields = [\n",
    "\t\t\t'domain_stat__pcx',\n",
    "\t\t\t'domain_stat__pcy',\n",
    "\t\t\t'id',\n",
    "\t\t\t]\n",
    "xss=[];yss=[];lblss=[];css=[]\n",
    "\n",
    "\n",
    "# msg = '';\n",
    "# plt.close()\n",
    "# siz = [450,400]\n",
    "# DPI=100.\n",
    "# fig = plt.figure(figsize = [x/float(DPI) for x in siz], dpi=DPI)\n",
    "# ax1 = fig.add_subplot(111)\n",
    "# # points = ax1.scatter(xs,y2s, colors,\n",
    "\n",
    "sset = homsf2domain(dom1)\n",
    "\n",
    "\n",
    "\n",
    "(xs,ys,lbls)=zip(*sset.values_list(*fields))\n",
    "                     \n",
    "# xss+=xs\n",
    "# yss+=ys\n",
    "# lblss+=lbls\n",
    "# css+=len(xs)*[0]\n",
    "xss+=[xs]\n",
    "yss+=[ys]\n",
    "lblss+=[lbls]\n",
    "css+=[len(xs)*[0]]\n",
    "\n",
    "# ax1.scatter(xs,ys,color=1)\n",
    "\n",
    "sset = homsf2domain(dom2)\n",
    "                     \n",
    "(xs2,ys2,lbls2)=zip(*sset.values_list(*fields))\n",
    "# \n",
    "xss+=[xs2]\n",
    "yss+=[ys2]\n",
    "lblss+=[lbls2]\n",
    "css+=[len(xs2)*[2]]\n",
    "\n",
    "# ax1.scatter(xs,ys,color=2)\n",
    "\n",
    "# lsts = zip(*sset.values_list('parent__node_stat__Rsq_NBcount_Acount','domain__domain_stat__maha_dist','id'))\n",
    "# scatterplot_dict(*lsts, regress=0, show = 1)\n",
    "\n",
    "# subplot_kwargs = {\n",
    "# \t\t\t# 'xlim':[0,500],\n",
    "# \t\t\t'xlim':[0,500E1],\n",
    "# \t\t\t'ylim':[0,800E3],\n",
    "# \t\t\t'xlabel':'atom_count',\n",
    "# \t\t\t'ylabel':'Non-bonding pair count',\n",
    "# \t\t\t},\n",
    "\n",
    "subplot_kwargs={\n",
    "\t\t\t'xlim':[-5,10],\n",
    "\t\t\t'ylim':[-9,7],\n",
    "\t\t\t'xlabel': 'pcx (relative structure size)',\n",
    "\t\t\t'ylabel': 'pcy (packedness)',\n",
    "# \t\t\t\"regress\":False,\n",
    "\t\t\t}\n",
    "\n",
    "scatterplot_dict_overlap(xs,ys,lbls,\n",
    "                 xs2,ys2,lbls2,\n",
    "                 regress = 0, show = 1   , \n",
    "                 **subplot_kwargs\n",
    "                );\n"
   ]
  },
  {
   "cell_type": "code",
   "execution_count": 69,
   "metadata": {},
   "outputs": [
    {
     "name": "stdout",
     "output_type": "stream",
     "text": [
      "68\n"
     ]
    },
    {
     "data": {
      "text/plain": [
       "76"
      ]
     },
     "execution_count": 69,
     "metadata": {},
     "output_type": "execute_result"
    }
   ],
   "source": [
    "print rnum2\n",
    "len(p2.DOPE_profile)"
   ]
  },
  {
   "cell_type": "code",
   "execution_count": 45,
   "metadata": {},
   "outputs": [
    {
     "name": "stdout",
     "output_type": "stream",
     "text": [
      "hi\n"
     ]
    },
    {
     "data": {
      "text/plain": [
       "[622, 622]"
      ]
     },
     "execution_count": 45,
     "metadata": {},
     "output_type": "execute_result"
    }
   ],
   "source": [
    "if [None,None]:\n",
    "    print('hi')\n",
    "# print(rnum2)\n",
    "res2"
   ]
  },
  {
   "cell_type": "code",
   "execution_count": 44,
   "metadata": {},
   "outputs": [
    {
     "data": {
      "text/plain": [
       "19"
      ]
     },
     "execution_count": 44,
     "metadata": {},
     "output_type": "execute_result"
    }
   ],
   "source": [
    "# type(19 and None)\n",
    "100 and 19"
   ]
  },
  {
   "cell_type": "code",
   "execution_count": 26,
   "metadata": {
    "collapsed": true
   },
   "outputs": [],
   "source": [
    "if int('0'):\n",
    "    print('0')"
   ]
  },
  {
   "cell_type": "code",
   "execution_count": 61,
   "metadata": {
    "scrolled": true
   },
   "outputs": [
    {
     "name": "stdout",
     "output_type": "stream",
     "text": [
      "/home/shouldsee/Documents/repos/cathdb/domchop/pdbs/alignments\n",
      "2je6I02.pdb  4aimA04.pdb   88   76  81.35   76   86   21   2.89\n",
      "\n",
      "('65', '0', '0')\n",
      "('66', '0', '0')\n",
      "('67', '0', '0')\n",
      "('68', '0', '0')\n",
      "('69', '23', '621')\n",
      "('70', '24', '622')\n",
      "('71', '23', '623')\n",
      "('72', '10', '624')\n",
      "('73', '0', '0')\n",
      "('74', '36', '625')\n",
      "('75', '41', '626')\n",
      "('76', '50', '627')\n",
      "('77', '59', '628')\n",
      "('78', '59', '629')\n",
      "('79', '65', '630')\n",
      "('80', '80', '631')\n",
      "('81', '77', '632')\n",
      "('82', '66', '633')\n",
      "('83', '69', '634')\n",
      "('84', '58', '635')\n",
      "('85', '45', '636')\n",
      "('86', '29', '637')\n",
      "('87', '64', '638')\n",
      "('88', '73', '639')\n",
      "('89', '71', '640')\n",
      "('90', '67', '641')\n",
      "('91', '65', '642')\n",
      "('92', '52', '643')\n",
      "('93', '46', '644')\n",
      "('94', '22', '645')\n",
      "('95', '4', '646')\n",
      "('96', '25', '647')\n",
      "('97', '56', '648')\n",
      "('98', '54', '649')\n",
      "('99', '56', '650')\n",
      "('100', '61', '651')\n",
      "('101', '47', '652')\n",
      "('102', '42', '653')\n",
      "('103', '40', '654')\n",
      "('104', '42', '655')\n",
      "('105', '45', '656')\n",
      "('106', '18', '657')\n",
      "('107', '27', '658')\n",
      "('108', '14', '659')\n",
      "('109', '8', '660')\n",
      "('110', '14', '661')\n",
      "('111', '0', '0')\n",
      "('112', '0', '0')\n",
      "('113', '0', '0')\n",
      "('114', '21', '662')\n",
      "('115', '33', '663')\n",
      "('116', '2', '664')\n",
      "('117', '20', '665')\n",
      "('118', '10', '666')\n",
      "('119', '30', '667')\n",
      "('120', '21', '668')\n",
      "('121', '55', '669')\n",
      "('122', '69', '670')\n",
      "('123', '65', '671')\n",
      "('124', '67', '672')\n",
      "('125', '65', '673')\n",
      "('126', '67', '674')\n",
      "('127', '60', '675')\n",
      "('128', '51', '676')\n",
      "('129', '43', '677')\n",
      "('130', '40', '678')\n",
      "('131', '36', '679')\n",
      "('132', '21', '680')\n",
      "('133', '25', '681')\n",
      "('134', '5', '682')\n",
      "('135', '5', '683')\n",
      "('136', '16', '684')\n",
      "('137', '11', '685')\n",
      "('138', '25', '686')\n",
      "('139', '34', '687')\n",
      "('140', '41', '688')\n",
      "('141', '39', '689')\n",
      "('142', '37', '690')\n",
      "('143', '49', '691')\n",
      "('144', '32', '692')\n",
      "('145', '10', '693')\n",
      "('146', '24', '694')\n",
      "('147', '12', '695')\n",
      "('148', '0', '696')\n",
      "('149', '0', '0')\n",
      "('150', '0', '0')\n",
      "('151', '0', '0')\n",
      "('152', '0', '0')\n"
     ]
    }
   ],
   "source": [
    "# help(aln[0])\n",
    "# dir(aln[0])\n",
    "aln[0].atom_file\n",
    "import os\n",
    "\n",
    "def ssap(pdbfile1,pdbfile2):\n",
    "    print os.environ['CATH_TOOLS_ALN_PATH']\n",
    "    exec()\n",
    "reload(os)\n",
    "print os.environ['CATH_TOOLS_ALN_PATH']\n",
    "bashCommand = \"cath-ssap %s %s --aligndir %s\" %(p1.pdbname,p2.pdbname,os.environ['CATH_TOOLS_ALN_PATH'] )\n",
    "import subprocess\n",
    "process = subprocess.Popen(bashCommand.split(), stdout=subprocess.PIPE)\n",
    "output, error = process.communicate()\n",
    "print(output)\n",
    "positions = [];\n",
    "\n",
    "with open(os.path.join(os.environ['CATH_TOOLS_ALN_PATH'],p1.pdbname + p2.pdbname +'.list')) as f:\n",
    "    line = f.readline();\n",
    "    res1 = -1;\n",
    "    res2 = -1;\n",
    "    while line:\n",
    "        line = line.rstrip('\\n')\n",
    "#         print(line.split())\n",
    "        lst = line.split(); \n",
    "        print(lst[0],lst[4],lst[-1])\n",
    "        line = f.readline();\n",
    "        \n",
    "        col1 = int(lst[0]);\n",
    "        colm = int(lst[4]);\n",
    "        col2 = int(lst[-1]);\n",
    "        if col1:\n",
    "            res1 += 1;\n",
    "            res1a = res1;\n",
    "        else:\n",
    "            col1 = None;\n",
    "            res1a= None\n",
    "        if col2:\n",
    "            res2 += 1;\n",
    "            res2a = res2;\n",
    "        else:\n",
    "            col2 = None;\n",
    "            res2a= None;\n",
    "        positions.append([[res1a ,col1],\n",
    "                          [res2a ,col2],\n",
    "                          colm,\n",
    "                         ])\n",
    "        \n",
    "# f.open()\n",
    "# from modeller import *\n",
    "# modeller.sequence.Sequence\n",
    "# sequence.Sequence()"
   ]
  },
  {
   "cell_type": "code",
   "execution_count": 48,
   "metadata": {},
   "outputs": [
    {
     "data": {
      "text/plain": [
       "100"
      ]
     },
     "execution_count": 48,
     "metadata": {},
     "output_type": "execute_result"
    }
   ],
   "source": [
    "15 and 100"
   ]
  },
  {
   "cell_type": "code",
   "execution_count": 37,
   "metadata": {},
   "outputs": [
    {
     "data": {
      "text/plain": [
       "False"
      ]
     },
     "execution_count": 37,
     "metadata": {},
     "output_type": "execute_result"
    }
   ],
   "source": [
    "None or False"
   ]
  },
  {
   "cell_type": "code",
   "execution_count": 28,
   "metadata": {},
   "outputs": [
    {
     "data": {
      "text/plain": [
       "6"
      ]
     },
     "execution_count": 28,
     "metadata": {},
     "output_type": "execute_result"
    }
   ],
   "source": [
    "bool(10)+5"
   ]
  },
  {
   "cell_type": "code",
   "execution_count": 172,
   "metadata": {},
   "outputs": [
    {
     "name": "stdout",
     "output_type": "stream",
     "text": [
      "\n",
      "check_ali___> Checking the sequence-structure alignment. \n",
      "\n",
      "Implied intrachain target CA(i)-CA(i+1) distances longer than  8.0 angstroms:\n",
      "\n",
      "ALN_POS  TMPL  RID1  RID2  NAM1  NAM2     DIST\n",
      "----------------------------------------------\n",
      "     66     1   52    56      V     L    8.528\n",
      "     97     1   83    88      D     Q   11.532\n",
      "END OF TABLE\n"
     ]
    },
    {
     "data": {
      "text/plain": [
       "Residue 1:I (type GLY)"
      ]
     },
     "execution_count": 172,
     "metadata": {},
     "output_type": "execute_result"
    }
   ],
   "source": [
    "# help(aln)\n",
    "# aln.consensus(gap_penalties_1d=(0, 0.4), align_block=1)\n",
    "# aln.consensus(aln[0],aln[1])\n",
    "obj = aln.positions[0]\n",
    "aln.check()\n",
    "# dir(obj)\n",
    "obj.get_residue(aln[0])\n",
    "# obj.num\n",
    "# aln[0].get_num_equiv()\n",
    "# help(obj)\n",
    "# obj.get_residue()"
   ]
  },
  {
   "cell_type": "code",
   "execution_count": 92,
   "metadata": {},
   "outputs": [
    {
     "ename": "NameError",
     "evalue": "name 'input_dir' is not defined",
     "output_type": "error",
     "traceback": [
      "\u001b[0;31m---------------------------------------------------------------------------\u001b[0m",
      "\u001b[0;31mNameError\u001b[0m                                 Traceback (most recent call last)",
      "\u001b[0;32m<ipython-input-92-55dd43891092>\u001b[0m in \u001b[0;36m<module>\u001b[0;34m()\u001b[0m\n\u001b[0;32m----> 1\u001b[0;31m \u001b[0menv\u001b[0m\u001b[0;34m.\u001b[0m\u001b[0mio\u001b[0m\u001b[0;34m.\u001b[0m\u001b[0matom_files_directory\u001b[0m \u001b[0;34m=\u001b[0m \u001b[0;34m[\u001b[0m\u001b[0;34m'.'\u001b[0m\u001b[0;34m,\u001b[0m\u001b[0;34m'../atom_files'\u001b[0m\u001b[0;34m,\u001b[0m\u001b[0minput_dir\u001b[0m\u001b[0;34m]\u001b[0m\u001b[0;34m\u001b[0m\u001b[0m\n\u001b[0m\u001b[1;32m      2\u001b[0m \u001b[0;34m\u001b[0m\u001b[0m\n\u001b[1;32m      3\u001b[0m \u001b[0;34m\u001b[0m\u001b[0m\n\u001b[1;32m      4\u001b[0m \u001b[0;31m# dir()\u001b[0m\u001b[0;34m\u001b[0m\u001b[0;34m\u001b[0m\u001b[0m\n\u001b[1;32m      5\u001b[0m \u001b[0;31m# from django.db.models import Avg,StdDev\u001b[0m\u001b[0;34m\u001b[0m\u001b[0;34m\u001b[0m\u001b[0m\n",
      "\u001b[0;31mNameError\u001b[0m: name 'input_dir' is not defined"
     ]
    }
   ],
   "source": [
    "env.io.atom_files_directory = ['.','../atom_files',input_dir]\n",
    "\n",
    "\n",
    "# dir()\n",
    "# from django.db.models import Avg,StdDev\n",
    "# Variance()"
   ]
  },
  {
   "cell_type": "code",
   "execution_count": 9,
   "metadata": {
    "collapsed": true
   },
   "outputs": [],
   "source": [
    "from django.db.models import Avg,StdDev\n",
    "homsf_qset = classification.homsf_objects; \n",
    "homsf_qset = (homsf_qset.annotate(nDOPE_std=StdDev(\"classification__domain__nDOPE\"))\n",
    "              .annotate(nDOPE_avg=Avg(\"classification__domain__nDOPE\"))\n",
    "              .annotate(s35_count=Count(\"classification__parent__classification\"))\n",
    "             )\n",
    "\n",
    "# homsf.count()\n",
    "# domain.objects"
   ]
  },
  {
   "cell_type": "code",
   "execution_count": 11,
   "metadata": {},
   "outputs": [
    {
     "ename": "NameError",
     "evalue": "name 'nDOPE_avg' is not defined",
     "output_type": "error",
     "traceback": [
      "\u001b[0;31m---------------------------------------------------------------------------\u001b[0m",
      "\u001b[0;31mNameError\u001b[0m                                 Traceback (most recent call last)",
      "\u001b[0;32m<ipython-input-11-ee95f2d538ee>\u001b[0m in \u001b[0;36m<module>\u001b[0;34m()\u001b[0m\n\u001b[0;32m----> 1\u001b[0;31m \u001b[0mhomsf_list\u001b[0m \u001b[0;34m=\u001b[0m \u001b[0mclassification\u001b[0m\u001b[0;34m.\u001b[0m\u001b[0mhomsf_objects\u001b[0m\u001b[0;34m.\u001b[0m\u001b[0mfilter\u001b[0m\u001b[0;34m(\u001b[0m \u001b[0mQ\u001b[0m\u001b[0;34m(\u001b[0m \u001b[0mnDOPE_avg\u001b[0m\u001b[0;34m>\u001b[0m\u001b[0;36m1.0\u001b[0m \u001b[0;34m)\u001b[0m \u001b[0;34m|\u001b[0m \u001b[0mQ\u001b[0m\u001b[0;34m(\u001b[0m \u001b[0mnDOPE_std\u001b[0m\u001b[0;34m>\u001b[0m\u001b[0;36m0.1\u001b[0m \u001b[0;34m)\u001b[0m\u001b[0;34m)\u001b[0m\u001b[0;34m\u001b[0m\u001b[0m\n\u001b[0m\u001b[1;32m      2\u001b[0m \u001b[0mhomsf_list\u001b[0m\u001b[0;34m.\u001b[0m\u001b[0mcount\u001b[0m\u001b[0;34m(\u001b[0m\u001b[0;34m)\u001b[0m\u001b[0;34m\u001b[0m\u001b[0m\n",
      "\u001b[0;31mNameError\u001b[0m: name 'nDOPE_avg' is not defined"
     ]
    }
   ],
   "source": [
    "homsf_list = classification.homsf_objects.filter( Q( nDOPE_avg>1.0 ) | Q( nDOPE_std>0.1 ))\n",
    "homsf_list.count()"
   ]
  },
  {
   "cell_type": "code",
   "execution_count": 8,
   "metadata": {},
   "outputs": [
    {
     "data": {
      "text/plain": [
       "'/static/imgs/rasamol.png'"
      ]
     },
     "execution_count": 8,
     "metadata": {},
     "output_type": "execute_result"
    }
   ],
   "source": [
    "# from django.conf.urls.static import static\n",
    "from django.templatetags.static import static\n",
    "static(\"imgs/rasamol.png\")"
   ]
  },
  {
   "cell_type": "code",
   "execution_count": 2,
   "metadata": {
    "scrolled": false
   },
   "outputs": [
    {
     "data": {
      "text/plain": [
       "u'/tst/superfamily/1.3.4.5/'"
      ]
     },
     "execution_count": 2,
     "metadata": {},
     "output_type": "execute_result"
    }
   ],
   "source": [
    "from tst import views\n",
    "# reverse(views.homsf_s35_collection,args = {\"homsf_id\":1})\n",
    "reverse('domain_collection',args=['1.3.4.5'])\n",
    "\n",
    "\n",
    "\n",
    "# help(reverse)"
   ]
  },
  {
   "cell_type": "code",
   "execution_count": 10,
   "metadata": {},
   "outputs": [
    {
     "data": {
      "text/plain": [
       "{'Class': 2L,\n",
       " '_state': <django.db.models.base.ModelState at 0x7ff7f4300a50>,\n",
       " 'arch': 60L,\n",
       " 'homsf': 10L,\n",
       " 'id': 309449L,\n",
       " 'level_id': 5L,\n",
       " 'nDOPE_avg': -1.3932344727840804,\n",
       " 'nDOPE_std': 0.5276587358829742,\n",
       " 'parent_id': 312905L,\n",
       " 's100': 0L,\n",
       " 's35': 0L,\n",
       " 's35_count': 495616,\n",
       " 's60': 0L,\n",
       " 's95': 0L,\n",
       " 'topo': 40L,\n",
       " 'version_id': 1L}"
      ]
     },
     "execution_count": 10,
     "metadata": {},
     "output_type": "execute_result"
    }
   ],
   "source": [
    "homsf_qset = classification.homsf_objects.order_by(\"-s35_count\",\"-nDOPE_avg\");\n",
    "homsf_qset[0].__dict__\n",
    "# print(homsf_qset.manager)"
   ]
  },
  {
   "cell_type": "code",
   "execution_count": 9,
   "metadata": {},
   "outputs": [
    {
     "data": {
      "text/plain": [
       "<bound method domain.superfamily of <domain: domain object>>"
      ]
     },
     "execution_count": 9,
     "metadata": {},
     "output_type": "execute_result"
    }
   ],
   "source": [
    "d = domain.objects.all()[0]\n",
    "hasattr(d,'superfamily')\n",
    "getattr(d,'superfamily')"
   ]
  },
  {
   "cell_type": "code",
   "execution_count": 11,
   "metadata": {},
   "outputs": [
    {
     "data": {
      "text/plain": [
       "{'_db': None,\n",
       " '_fields': None,\n",
       " '_for_write': False,\n",
       " '_hints': {},\n",
       " '_iterable_class': django.db.models.query.ModelIterable,\n",
       " '_known_related_objects': {},\n",
       " '_prefetch_done': False,\n",
       " '_prefetch_related_lookups': (),\n",
       " '_result_cache': None,\n",
       " '_sticky_filter': False,\n",
       " 'model': tst.models.classification,\n",
       " 'query': <django.db.models.sql.query.Query at 0x7ff60c186b10>}"
      ]
     },
     "execution_count": 11,
     "metadata": {},
     "output_type": "execute_result"
    }
   ],
   "source": [
    "homsf_qset.__dict__"
   ]
  },
  {
   "cell_type": "code",
   "execution_count": 4,
   "metadata": {
    "collapsed": true
   },
   "outputs": [],
   "source": [
    "q = classification.objects.filter(Class=1,arch=20,topo=5,homsf=590,s35=0)"
   ]
  },
  {
   "cell_type": "code",
   "execution_count": 23,
   "metadata": {},
   "outputs": [
    {
     "data": {
      "text/plain": [
       "<django.db.models.manager.ManagerFromQuerySet at 0x7ff60c14cc10>"
      ]
     },
     "execution_count": 23,
     "metadata": {},
     "output_type": "execute_result"
    }
   ],
   "source": [
    "# dir(homsf_qset)\n",
    "# homsf_qset.as_manager()"
   ]
  },
  {
   "cell_type": "code",
   "execution_count": 15,
   "metadata": {},
   "outputs": [
    {
     "data": {
      "text/plain": [
       "dict_proxy({'Class': <django.db.models.query_utils.DeferredAttribute at 0x7ff60c396290>,\n",
       "            'DoesNotExist': tst.models.DoesNotExist,\n",
       "            'MultipleObjectsReturned': tst.models.MultipleObjectsReturned,\n",
       "            '__doc__': u'classification(id, Class, arch, topo, homsf, s35, s60, s95, s100, version, level, parent)',\n",
       "            u'__module__': 'tst.models',\n",
       "            '__str__': <function tst.models.__str__>,\n",
       "            '_meta': <Options for classification>,\n",
       "            'arch': <django.db.models.query_utils.DeferredAttribute at 0x7ff60c396250>,\n",
       "            'classification_set': <django.db.models.fields.related_descriptors.ReverseManyToOneDescriptor at 0x7ff60c396410>,\n",
       "            'domain_set': <django.db.models.fields.related_descriptors.ReverseManyToOneDescriptor at 0x7ff60c396d50>,\n",
       "            'find_depth': <function tst.models.find_depth>,\n",
       "            'get_s35cnt': <function tst.models.get_s35cnt>,\n",
       "            'homsf': <django.db.models.query_utils.DeferredAttribute at 0x7ff60c396090>,\n",
       "            'homsf_objects': <django.db.models.manager.ManagerDescriptor at 0x7ff60c386fd0>,\n",
       "            'id': <django.db.models.query_utils.DeferredAttribute at 0x7ff60c3963d0>,\n",
       "            'level': <django.db.models.fields.related_descriptors.ForwardManyToOneDescriptor at 0x7ff60c386f50>,\n",
       "            'level_id': <django.db.models.query_utils.DeferredAttribute at 0x7ff60c386f10>,\n",
       "            'node_dict': <function tst.models.node_dict>,\n",
       "            'objects': <django.db.models.manager.ManagerDescriptor at 0x7ff60c3961d0>,\n",
       "            'parent': <django.db.models.fields.related_descriptors.ForwardManyToOneDescriptor at 0x7ff60c386ed0>,\n",
       "            'parent_id': <django.db.models.query_utils.DeferredAttribute at 0x7ff60c386e90>,\n",
       "            's100': <django.db.models.query_utils.DeferredAttribute at 0x7ff60c396050>,\n",
       "            's35': <django.db.models.query_utils.DeferredAttribute at 0x7ff60c386f90>,\n",
       "            's60': <django.db.models.query_utils.DeferredAttribute at 0x7ff60c3962d0>,\n",
       "            's95': <django.db.models.query_utils.DeferredAttribute at 0x7ff60c396210>,\n",
       "            'superfamily': <function tst.models.superfamily>,\n",
       "            'topo': <django.db.models.query_utils.DeferredAttribute at 0x7ff60c3960d0>,\n",
       "            'version': <django.db.models.fields.related_descriptors.ForwardManyToOneDescriptor at 0x7ff60c396150>,\n",
       "            'version_id': <django.db.models.query_utils.DeferredAttribute at 0x7ff60c396110>})"
      ]
     },
     "execution_count": 15,
     "metadata": {},
     "output_type": "execute_result"
    }
   ],
   "source": [
    "homsf_qset.model.__dict__"
   ]
  },
  {
   "cell_type": "code",
   "execution_count": 45,
   "metadata": {},
   "outputs": [
    {
     "name": "stdout",
     "output_type": "stream",
     "text": [
      "0.187651157379\n",
      "0.0800468921661\n"
     ]
    }
   ],
   "source": [
    "from time import time\n",
    "from django.db import transaction\n",
    "\n",
    "#     if 1:\n",
    "if h.level.letter == 'H':\n",
    "    pass\n",
    "else:\n",
    "    print \"Node %s is not filled because it is not a homsf, but a '%s'\" % (str(h),h.level.letter)\n",
    "\n",
    "\n",
    "try:\n",
    "    nstat = h.node_stat\n",
    "except:\n",
    "    nstat = node_stat(node = h)\n",
    "    nstat.save()\n",
    "\n",
    "hset  = h.classification_set;\n",
    "\n",
    "\n",
    "### Compute statistics only if the set is larger than 10\n",
    "if hset.count() > 10:\n",
    "    hset = hset.annotate(Acount=Avg(\"domain__domain_stat__atom_count\"))\n",
    "    hset = hset.annotate(Rcount=Avg(\"domain__domain_stat__res_count\"))\n",
    "    hset = hset.annotate(NBcount=Avg(\"domain__domain_stat__nbpair_count\"))\n",
    "\n",
    "#     hset.domain\n",
    "    l = hset.values_list('Acount','Rcount','NBcount')\n",
    "    a = np.array(l)\n",
    "    sa = a\n",
    "#     sa = np.vstack([a[:,0],a[:,2]]).T ### Using only 'Acount' and 'NBcount', discard 'Rcount'\n",
    "    c = np.cov(sa.T)\n",
    "    C = cov2corr(c); ## utils.cov2corr\n",
    "\n",
    "    cinv = np.linalg.inv(c)\n",
    "    mu = np.mean(sa, axis = 0)\n",
    "\n",
    "\n",
    "    sset = hset ### rename to sset ,aka \"s35_set\"\n",
    "#     qset = domain_stat.objects.none()\n",
    "    qlst = []\n",
    "\n",
    "    t0 = time()\n",
    "\n",
    "\n",
    "    for s,pt in zip( sset ,sa):\n",
    "        dstat = s.domain.domain_stat\n",
    "        md = maha_dist( pt, mu, cinv)\n",
    "        dstat.maha_dist = md\n",
    "#         print(s.domain)\n",
    "#         print(dstat)\n",
    "#         print(md)\n",
    "#             qlst.append(dstat)\n",
    "#         dstat.save()\n",
    "\n",
    "\n",
    "\n",
    "    t1 = time()\n",
    "    with transaction.atomic():\n",
    "#     if 1:\n",
    "        for s,pt in zip( sset ,sa):\n",
    "            dstat = s.domain.domain_stat\n",
    "            md = maha_dist( pt, mu, cinv)\n",
    "            dstat.maha_dist = md\n",
    "            dstat.save()\n",
    "\n",
    "#     dstat_set = domain_stat.objects.filter(domain__in= hset.values_list('domain',flat = True))\n",
    "#     for dstat,pt in zip( dstat_set ,sa):\n",
    "# #             dstat = s.domain.domain_stat\n",
    "#         md = maha_dist( pt, mu, cinv)\n",
    "#         dstat.maha_dist = md\n",
    "#     dstat_set.update()\n",
    "\n",
    "\n",
    "    t2 = time()\n",
    "\n",
    "print(t1-t0)\n",
    "print(t2-t1)\n"
   ]
  },
  {
   "cell_type": "code",
   "execution_count": 46,
   "metadata": {},
   "outputs": [
    {
     "name": "stdout",
     "output_type": "stream",
     "text": [
      "0.898871043506\n"
     ]
    }
   ],
   "source": [
    "h = classification.objects.get_bytree('1.10.30.10')[0]\n",
    "hset = h.classification_set.all()\n",
    "dstat = domain_stat.objects.filter(domain__in= hset.values_list('domain',flat = True))[0]\n",
    "\n",
    "print dstat.maha_dist\n"
   ]
  },
  {
   "cell_type": "code",
   "execution_count": 43,
   "metadata": {
    "collapsed": true
   },
   "outputs": [],
   "source": [
    "dstat.maha_dist = None\n",
    "dstat.save()"
   ]
  },
  {
   "cell_type": "code",
   "execution_count": 1,
   "metadata": {
    "collapsed": true
   },
   "outputs": [],
   "source": [
    "from tst.utils_db import *\n",
    "h = classification.objects.get_bytree('1.10.30.10')[0]\n",
    "\n",
    "\n",
    "def maha_dist(pt, mu, cinv):\n",
    "    dd = pt - mu\n",
    "    md = dd.T.dot( cinv.dot( dd))\n",
    "    return md\n",
    "        \n",
    "def homsf_stat_fill(h):\n",
    "#     if 1:\n",
    "    if h.level.letter == 'H':\n",
    "        pass\n",
    "    else:\n",
    "        print \"Node %s is not filled because it is not a homsf, but a '%s'\" % (str(h),h.level.letter)\n",
    "\n",
    "\n",
    "    try:\n",
    "        nstat = h.node_stat\n",
    "    except:\n",
    "        nstat = node_stat(node = h)\n",
    "        nstat.save()\n",
    "\n",
    "    hset  = h.classification_set;\n",
    "\n",
    "\n",
    "    ### Compute statistics only if the set is larger than 10\n",
    "    if hset.count() > 10:\n",
    "        hset = hset.annotate(Acount=Avg(\"domain__domain_stat__atom_count\"))\n",
    "        hset = hset.annotate(Rcount=Avg(\"domain__domain_stat__res_count\"))\n",
    "        hset = hset.annotate(NBcount=Avg(\"domain__domain_stat__nbpair_count\"))\n",
    "\n",
    "    #     hset.domain\n",
    "        l = hset.values_list('Acount','Rcount','NBcount')\n",
    "        a = np.array(l)\n",
    "        sa = a\n",
    "    #     sa = np.vstack([a[:,0],a[:,2]]).T ### Using only 'Acount' and 'NBcount', discard 'Rcount'\n",
    "        c = np.cov(sa.T)\n",
    "        C = cov2corr(c); ## utils.cov2corr\n",
    "\n",
    "        cinv = np.linalg.inv(c)\n",
    "        mu = np.mean(sa, axis = 0)\n",
    "\n",
    "        dstat_set = hset.values_list('domain',flat = True)\n",
    "\n",
    "        sset = hset ### rename to sset ,aka \"s35_set\"\n",
    "    #     qset = domain_stat.objects.none()\n",
    "        qlst = []\n",
    "\n",
    "        for s,pt in zip( sset ,sa):\n",
    "            dstat = s.domain.domain_stat\n",
    "            md = maha_dist( pt, mu, cinv)\n",
    "            dstat.maha_dist = md\n",
    "    #         print(s.domain)\n",
    "    #         print(dstat)\n",
    "    #         print(md)\n",
    "            qlst.append(dstat)\n",
    "    #         dstat.save()\n",
    "    #     qset = list(chain(qset , [dstat]))\n",
    "\n",
    "    #         print type(qset)\n",
    "\n",
    "        nstat.Rsq_NBcount_Acount = C[0,2] ** 2\n",
    "        nstat.Rsq_NBcount_Rcount = C[1,2] ** 2\n",
    "    else:\n",
    "        nstat.Rsq_NBcount_Acount = None\n",
    "        nstat.Rsq_NBcount_Rcount = None\n",
    "        qlst = []\n",
    "\n",
    "    # help(qset.save)\n",
    "\n",
    "    # qset.save()\n",
    "    try:\n",
    "        nstat.save()\n",
    "        for q in qlst:\n",
    "            q.save()\n",
    "#         print 'success'\n",
    "        return 1\n",
    "    except Exception as e:\n",
    "#         print nstat.__dict__\n",
    "        print 'failed for ', str(e)\n",
    "        return 0"
   ]
  }
 ],
 "metadata": {
  "kernelspec": {
   "display_name": "Django Shell-Plus",
   "language": "python",
   "name": "django_extensions"
  },
  "language_info": {
   "codemirror_mode": {
    "name": "ipython",
    "version": 2
   },
   "file_extension": ".py",
   "mimetype": "text/x-python",
   "name": "python",
   "nbconvert_exporter": "python",
   "pygments_lexer": "ipython2",
   "version": "2.7.12"
  }
 },
 "nbformat": 4,
 "nbformat_minor": 2
}
