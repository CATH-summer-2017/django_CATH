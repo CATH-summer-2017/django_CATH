{
 "cells": [
  {
   "cell_type": "code",
   "execution_count": 3,
   "metadata": {},
   "outputs": [],
   "source": [
    "from Bio import SearchIO\n",
    "from Bio.SeqIO import *\n",
    "\n",
    "from tst.domutil.util import *\n",
    "from tst.utils_db import *\n",
    "\n",
    "\n",
    "os.environ[\"SEQlib\"] = full(\"$DATA/sequence-data\")"
   ]
  },
  {
   "cell_type": "code",
   "execution_count": 4,
   "metadata": {
    "collapsed": true
   },
   "outputs": [],
   "source": [
    "# reload(tst.domutil.util)\n",
    "%load_ext autoreload\n",
    "%autoreload 0"
   ]
  },
  {
   "cell_type": "code",
   "execution_count": 2,
   "metadata": {
    "collapsed": true
   },
   "outputs": [],
   "source": [
    "### Manually generated tmp.hmmpf and tmp.domtbl\n",
    "\n",
    "### search_\n",
    "wkdir = \"/data/sequence-data/\"\n",
    "hmm_profile = \"%s/tmp.hmmpf\" % wkdir\n",
    "hmm_domtbl = \"%s/tmp.domtbl\" % wkdir\n",
    "# CATH_S35\n",
    "\n",
    "# kwargs = {\"format\":\"hmmer3-domtab\"}\n",
    "tbl_format = \"hmmsearch3-domtab\""
   ]
  },
  {
   "cell_type": "code",
   "execution_count": 3,
   "metadata": {},
   "outputs": [
    {
     "data": {
      "text/plain": [
       "'/data/sequence-data'"
      ]
     },
     "execution_count": 3,
     "metadata": {},
     "output_type": "execute_result"
    }
   ],
   "source": [
    "import os\n",
    "os.environ[\"SEQlib\"]"
   ]
  },
  {
   "cell_type": "markdown",
   "metadata": {},
   "source": [
    "## import sequence database"
   ]
  },
  {
   "cell_type": "code",
   "execution_count": 82,
   "metadata": {},
   "outputs": [
    {
     "name": "stdout",
     "output_type": "stream",
     "text": [
      "first entry pointing to CATH_Ver:v4_1_0\n",
      "h_parser is <function seqheader_parse_cath at 0x7fcdc40de398>\n",
      "finshed import sequence database from /data/sequence-data/cath-domain-seqs-S100.fa\n",
      "0 instances of 80422 failed\n",
      "Ended after 56.2935 sec\n"
     ]
    }
   ],
   "source": [
    "debug = 1\n",
    "\n",
    "\n",
    "behave = \"import sequence database\"\n",
    "seqdb_file = full(\"$SEQlib/cath-domain-seqs-S100.fa\")\n",
    "\n",
    "from time import time\n",
    "t0 = time()\n",
    "useFisrt = 1\n",
    "failcount = 0\n",
    "\n",
    "with open( seqdb_file ) as handle:\n",
    "    iterator = FastaIO.SimpleFastaParser(handle)\n",
    "    c = counter(iterator, per=1000)\n",
    "with open( seqdb_file ) as handle:\n",
    "    iterator = FastaIO.SimpleFastaParser(handle)\n",
    "\n",
    "    with transaction.atomic():\n",
    "        for values in iterator:\n",
    "            try:\n",
    "#             if 1:\n",
    "                header,seq = values\n",
    "                if c.i == 0:\n",
    "                    (h_parser, seqDB_curr) = seqheader_guess_parser(header)\n",
    "                    print \"first entry pointing to %s\" % seqDB_curr\n",
    "                    print \"h_parser is\",h_parser\n",
    "                    \n",
    "                jdict = h_parser( header )\n",
    "                jdict[\"length\"] = len(seq)\n",
    "                if useFisrt:\n",
    "                    jdict[\"seqDB\"] = seqDB_curr\n",
    "                else:\n",
    "                    jdict[\"seqDB\"] = seqDB.objects.get(**jdict[\"seqDB\"])\n",
    "                seqobj = sequence(**jdict)\n",
    "                seqobj.save()\n",
    "            except Exception as e:\n",
    "                if debug: print >>sys.__stdout__,e,header\n",
    "                failcount += 1\n",
    "            c.count()\n",
    "        \n",
    "#         print(values)\n",
    "print \"finshed %s from %s\" % (behave, seqdb_file)\n",
    "\n",
    "print '%d instances of %d failed' % (failcount,c.imax)\n",
    "print('Ended after %.4f sec' % (time()-t0))  # len(lst)d\n",
    "failrate = failcount/float(c.imax) \n",
    "assert failrate < 0.1, 'fail rate is too high: expected < 10%%, actual: %2.2f%%' % failrate"
   ]
  },
  {
   "cell_type": "markdown",
   "metadata": {},
   "source": [
    "## Importing HMM profiles from .lib file"
   ]
  },
  {
   "cell_type": "code",
   "execution_count": 51,
   "metadata": {
    "collapsed": true
   },
   "outputs": [],
   "source": [
    "%autoreload 0\n"
   ]
  },
  {
   "cell_type": "code",
   "execution_count": 49,
   "metadata": {},
   "outputs": [
    {
     "data": {
      "text/plain": [
       "'16pkA01'"
      ]
     },
     "execution_count": 49,
     "metadata": {},
     "output_type": "execute_result"
    }
   ],
   "source": [
    "seqheader_parse_cath(p_header.findall(hmm_text)[0]).get(\"acc\")"
   ]
  },
  {
   "cell_type": "code",
   "execution_count": 50,
   "metadata": {
    "scrolled": true
   },
   "outputs": [
    {
     "name": "stdout",
     "output_type": "stream",
     "text": [
      "get() returned more than one domain -- it returned 2!\n",
      "get() returned more than one domain -- it returned 2!\n",
      "get() returned more than one domain -- it returned 2!\n",
      "get() returned more than one domain -- it returned 2!\n",
      "get() returned more than one domain -- it returned 2!\n",
      "get() returned more than one domain -- it returned 2!\n",
      "get() returned more than one domain -- it returned 2!\n",
      "get() returned more than one domain -- it returned 2!\n",
      "get() returned more than one domain -- it returned 2!\n",
      "get() returned more than one domain -- it returned 2!\n",
      "get() returned more than one domain -- it returned 2!\n",
      "get() returned more than one domain -- it returned 2!\n",
      "get() returned more than one domain -- it returned 2!\n",
      "get() returned more than one domain -- it returned 2!\n",
      "get() returned more than one domain -- it returned 2!\n",
      "get() returned more than one domain -- it returned 2!\n",
      "get() returned more than one domain -- it returned 2!\n",
      "get() returned more than one domain -- it returned 2!\n",
      "get() returned more than one domain -- it returned 2!\n",
      "get() returned more than one domain -- it returned 2!\n",
      "get() returned more than one domain -- it returned 2!\n",
      "get() returned more than one domain -- it returned 2!\n",
      "get() returned more than one domain -- it returned 2!\n",
      "get() returned more than one domain -- it returned 2!\n",
      "get() returned more than one domain -- it returned 2!\n",
      "get() returned more than one domain -- it returned 2!\n",
      "get() returned more than one domain -- it returned 2!\n",
      "get() returned more than one domain -- it returned 2!\n",
      "get() returned more than one domain -- it returned 2!\n",
      "get() returned more than one domain -- it returned 2!\n",
      "get() returned more than one domain -- it returned 2!\n",
      "get() returned more than one domain -- it returned 2!\n",
      "get() returned more than one domain -- it returned 2!\n",
      "get() returned more than one domain -- it returned 2!\n",
      "get() returned more than one domain -- it returned 2!\n",
      "get() returned more than one domain -- it returned 2!\n",
      "get() returned more than one domain -- it returned 2!\n",
      "get() returned more than one domain -- it returned 2!\n",
      "get() returned more than one domain -- it returned 2!\n",
      "get() returned more than one domain -- it returned 2!\n",
      "get() returned more than one domain -- it returned 2!\n",
      "get() returned more than one domain -- it returned 2!\n",
      "get() returned more than one domain -- it returned 2!\n",
      "get() returned more than one domain -- it returned 2!\n",
      "get() returned more than one domain -- it returned 2!\n",
      "get() returned more than one domain -- it returned 2!\n",
      "get() returned more than one domain -- it returned 2!\n",
      "get() returned more than one domain -- it returned 2!\n",
      "get() returned more than one domain -- it returned 2!\n",
      "get() returned more than one domain -- it returned 2!\n",
      "get() returned more than one domain -- it returned 2!\n",
      "get() returned more than one domain -- it returned 2!\n",
      "get() returned more than one domain -- it returned 2!\n",
      "get() returned more than one domain -- it returned 2!\n",
      "get() returned more than one domain -- it returned 2!\n",
      "get() returned more than one domain -- it returned 2!\n",
      "get() returned more than one domain -- it returned 2!\n",
      "get() returned more than one domain -- it returned 2!\n",
      "get() returned more than one domain -- it returned 2!\n",
      "get() returned more than one domain -- it returned 2!\n",
      "get() returned more than one domain -- it returned 2!\n",
      "get() returned more than one domain -- it returned 2!\n",
      "get() returned more than one domain -- it returned 2!\n",
      "get() returned more than one domain -- it returned 2!\n",
      "get() returned more than one domain -- it returned 2!\n",
      "get() returned more than one domain -- it returned 2!\n",
      "get() returned more than one domain -- it returned 2!\n",
      "get() returned more than one domain -- it returned 2!\n",
      "get() returned more than one domain -- it returned 2!\n",
      "get() returned more than one domain -- it returned 2!\n",
      "get() returned more than one domain -- it returned 2!\n",
      "get() returned more than one domain -- it returned 2!\n",
      "get() returned more than one domain -- it returned 2!\n",
      "get() returned more than one domain -- it returned 2!\n",
      "get() returned more than one domain -- it returned 2!\n",
      "get() returned more than one domain -- it returned 2!\n",
      "get() returned more than one domain -- it returned 2!\n",
      "finshed importing HMM profiles from /data/sequence-data/cath-S35-hmm3.lib\n",
      "77 instances of 21155 failed\n",
      "Ended after 343.5429 sec\n"
     ]
    }
   ],
   "source": [
    "from time import time\n",
    "from tst.domutil.util import *\n",
    "import re\n",
    "p_header = re.compile(\"NAME.*?\\n\")\n",
    "# from copy import copy\n",
    "hmmlib_file = full(\"$SEQlib/cath-S35-hmm3.lib\")\n",
    "# header_gen = (seqheader_parse_cath(line.rstrip(\"\\n\")[6:])[\"acc\"] for  index_hmmlib(hmmlib_file))\n",
    "behave = \"importing HMM profiles\"\n",
    "\n",
    "\n",
    "t0 = time()\n",
    "lst = parse_hmmlib( hmmlib_file )\n",
    "c = counter( lst)\n",
    "lst = parse_hmmlib( hmmlib_file )\n",
    "failcount = 0\n",
    "\n",
    "try:\n",
    "    with transaction.atomic():\n",
    "        for hmm_text in lst:\n",
    "            c.count()\n",
    "            acc = seqheader_parse_cath(\n",
    "                p_header.findall(hmm_text)[0]\n",
    "            ).get(\"acc\")\n",
    "#             acc = next(header_gen)\n",
    "            try:\n",
    "                cnode = domain.objects.get(domain_id = acc).classification\n",
    "                if cnode.hmmprofile_set.exists():\n",
    "                    pass\n",
    "                else:\n",
    "                    hmm = HMMprofile(\n",
    "                                cath_node_id = cnode.id,\n",
    "                                text = hmm_text,               \n",
    "                                )\n",
    "                    hmm.save()\n",
    "            except Exception as e:\n",
    "                print \"failed for %s for Exception:%s\" %( acc, e)\n",
    "                failcount += 1\n",
    "except Exception as e:\n",
    "    print \"early stop due to %s\" % e\n",
    "\n",
    "print \"finshed %s from %s\" % (behave, hmmlib_file)\n",
    "\n",
    "print '%d instances of %d failed' % (failcount,c.imax)\n",
    "print('Ended after %.4f sec' % (time()-t0))  # len(lst)d\n",
    "failrate = failcount/float(c.imax) \n",
    "assert failrate < 0.1, 'fail rate is too high: expected < 10%%, actual: %2.2f%%' % failrate"
   ]
  },
  {
   "cell_type": "markdown",
   "metadata": {},
   "source": [
    "## HMMsearch all the loaded HMM profiles (against CATHS100)"
   ]
  },
  {
   "cell_type": "code",
   "execution_count": 4,
   "metadata": {},
   "outputs": [],
   "source": [
    "%load_ext autoreload\n",
    "%autoreload 0"
   ]
  },
  {
   "cell_type": "code",
   "execution_count": 16,
   "metadata": {},
   "outputs": [
    {
     "data": {
      "text/plain": [
       "<psutil.Process(pid=25578, name='python') at 140139357836176>"
      ]
     },
     "execution_count": 16,
     "metadata": {},
     "output_type": "execute_result"
    }
   ],
   "source": [
    "# import psutil\n",
    "current_process # current_process = psutil.Process()\n",
    "# children = current_process.children(recursive=True)\n",
    "# for child in children:\n",
    "#     print('Child pid is {}'.format(child.pid))"
   ]
  },
  {
   "cell_type": "code",
   "execution_count": 6,
   "metadata": {
    "scrolled": true
   },
   "outputs": [
    {
     "name": "stdout",
     "output_type": "stream",
     "text": [
      "0 of 21078\n",
      "100 of 21078\n",
      "200 of 21078\n",
      "300 of 21078\n",
      "400 of 21078\n",
      "500 of 21078\n",
      "600 of 21078\n",
      "failed for HMM for 3.90.226.10.3.0  for get() returned more than one sequence -- it returned 2!\n",
      "700 of 21078\n",
      "800 of 21078\n"
     ]
    },
    {
     "name": "stderr",
     "output_type": "stream",
     "text": [
      "tst/domutil/util.py:319: RuntimeWarning: divide by zero encountered in log10\n",
      "  jdict[\"logCevalue\"] = np.log10(jdict.pop(\"evalue_cond\"))\n",
      "tst/domutil/util.py:320: RuntimeWarning: divide by zero encountered in log10\n",
      "  jdict[\"logIevalue\"] = np.log10(jdict.pop(\"evalue\"))\n"
     ]
    },
    {
     "name": "stdout",
     "output_type": "stream",
     "text": [
      "failed for HMM for 3.20.20.350.1.0  for (1054, \"Unknown column 'inf' in 'where clause'\")\n",
      "failed for HMM for 3.90.226.10.46.0  for get() returned more than one sequence -- it returned 2!\n",
      "900 of 21078\n",
      "1000 of 21078\n",
      "1100 of 21078\n",
      "failed for HMM for 3.60.20.10.29.0  for get() returned more than one sequence -- it returned 2!\n",
      "1200 of 21078\n",
      "1300 of 21078\n",
      "1400 of 21078\n",
      "failed for HMM for 3.20.70.20.1.0  for (1054, \"Unknown column 'inf' in 'where clause'\")\n",
      "1500 of 21078\n",
      "failed for HMM for 3.90.226.10.62.0  for get() returned more than one sequence -- it returned 2!\n",
      "1600 of 21078\n",
      "1700 of 21078\n",
      "1800 of 21078\n",
      "1900 of 21078\n",
      "failed for HMM for 1.20.1130.10.1.0  for (1054, \"Unknown column 'inf' in 'where clause'\")\n",
      "2000 of 21078\n",
      "2100 of 21078\n",
      "2200 of 21078\n",
      "2300 of 21078\n",
      "2400 of 21078\n",
      "2500 of 21078\n",
      "2600 of 21078\n",
      "failed for HMM for 3.90.1290.10.2.0  for get() returned more than one sequence -- it returned 2!\n",
      "2700 of 21078\n",
      "2800 of 21078\n",
      "2900 of 21078\n",
      "3000 of 21078\n",
      "3100 of 21078\n",
      "3200 of 21078\n",
      "failed for HMM for 3.90.226.10.19.0  for get() returned more than one sequence -- it returned 2!\n",
      "failed for HMM for 2.30.330.10.3.0  for get() returned more than one sequence -- it returned 2!\n",
      "3300 of 21078\n",
      "3400 of 21078\n",
      "3500 of 21078\n",
      "3600 of 21078\n",
      "3700 of 21078\n",
      "failed for HMM for 3.60.20.10.28.0  for get() returned more than one sequence -- it returned 2!\n",
      "3800 of 21078\n",
      "3900 of 21078\n",
      "4000 of 21078\n",
      "failed for HMM for 1.10.287.310.3.0  for get() returned more than one sequence -- it returned 2!\n",
      "failed for HMM for 3.20.70.20.2.0  for (1054, \"Unknown column 'inf' in 'where clause'\")\n",
      "4100 of 21078\n",
      "failed for HMM for 3.90.930.12.2.0  for get() returned more than one sequence -- it returned 2!\n",
      "failed for HMM for 3.60.20.10.2.0  for get() returned more than one sequence -- it returned 2!\n",
      "failed for HMM for 3.60.20.10.6.0  for get() returned more than one sequence -- it returned 2!\n",
      "failed for HMM for 3.60.20.10.11.0  for get() returned more than one sequence -- it returned 2!\n",
      "4200 of 21078\n",
      "failed for HMM for 3.60.20.10.12.0  for get() returned more than one sequence -- it returned 2!\n",
      "failed for HMM for 3.60.20.10.9.0  for get() returned more than one sequence -- it returned 2!\n",
      "failed for HMM for 3.60.20.10.10.0  for get() returned more than one sequence -- it returned 2!\n",
      "failed for HMM for 3.60.20.10.7.0  for get() returned more than one sequence -- it returned 2!\n",
      "failed for HMM for 3.60.20.10.13.0  for get() returned more than one sequence -- it returned 2!\n",
      "failed for HMM for 3.60.20.10.14.0  for get() returned more than one sequence -- it returned 2!\n",
      "failed for HMM for 3.60.20.10.3.0  for get() returned more than one sequence -- it returned 2!\n",
      "failed for HMM for 3.60.20.10.15.0  for get() returned more than one sequence -- it returned 2!\n",
      "failed for HMM for 3.60.20.10.20.0  for get() returned more than one sequence -- it returned 2!\n",
      "failed for HMM for 3.60.20.10.8.0  for get() returned more than one sequence -- it returned 2!\n",
      "4300 of 21078\n",
      "failed for HMM for 3.90.226.10.2.0  for get() returned more than one sequence -- it returned 2!\n",
      "4400 of 21078\n",
      "4500 of 21078\n",
      "4600 of 21078\n",
      "4700 of 21078\n",
      "4800 of 21078\n",
      "failed for HMM for 1.25.10.10.22.0  for (1054, \"Unknown column 'inf' in 'where clause'\")\n",
      "4900 of 21078\n",
      "5000 of 21078\n",
      "5100 of 21078\n",
      "5200 of 21078\n",
      "5300 of 21078\n",
      "failed for HMM for 2.30.30.30.5.0  for get() returned more than one sequence -- it returned 2!\n",
      "failed for HMM for 3.90.930.12.4.0  for get() returned more than one sequence -- it returned 2!\n",
      "failed for HMM for 3.100.10.10.1.0  for get() returned more than one sequence -- it returned 2!\n",
      "failed for HMM for 3.100.10.10.2.0  for get() returned more than one sequence -- it returned 2!\n",
      "failed for HMM for 1.10.287.310.1.0  for get() returned more than one sequence -- it returned 2!\n",
      "5400 of 21078\n",
      "failed for HMM for 3.90.930.12.9.0  for get() returned more than one sequence -- it returned 2!\n",
      "failed for HMM for 2.30.30.30.16.0  for get() returned more than one sequence -- it returned 2!\n",
      "5500 of 21078\n",
      "failed for HMM for 3.90.226.10.82.0  for get() returned more than one sequence -- it returned 2!\n",
      "5600 of 21078\n",
      "5700 of 21078\n",
      "5800 of 21078\n",
      "5900 of 21078\n",
      "6000 of 21078\n",
      "6100 of 21078\n",
      "failed for HMM for 3.30.70.100.16.0  for get() returned more than one sequence -- it returned 2!\n",
      "failed for HMM for 3.60.20.10.4.0  for get() returned more than one sequence -- it returned 2!\n",
      "failed for HMM for 3.60.20.10.16.0  for get() returned more than one sequence -- it returned 2!\n",
      "6200 of 21078\n",
      "failed for HMM for 3.90.226.10.38.0  for get() returned more than one sequence -- it returned 2!\n"
     ]
    },
    {
     "ename": "KeyboardInterrupt",
     "evalue": "",
     "output_type": "error",
     "traceback": [
      "\u001b[0;31m---------------------------------------------------------------------------\u001b[0m",
      "\u001b[0;31mKeyboardInterrupt\u001b[0m                         Traceback (most recent call last)",
      "\u001b[0;32m<ipython-input-6-1c8fcda66724>\u001b[0m in \u001b[0;36m<module>\u001b[0;34m()\u001b[0m\n\u001b[1;32m     48\u001b[0m                 \u001b[0;32mcontinue\u001b[0m\u001b[0;34m\u001b[0m\u001b[0m\n\u001b[1;32m     49\u001b[0m             \u001b[0;32mtry\u001b[0m\u001b[0;34m:\u001b[0m\u001b[0;34m\u001b[0m\u001b[0m\n\u001b[0;32m---> 50\u001b[0;31m                 \u001b[0mworker\u001b[0m\u001b[0;34m(\u001b[0m\u001b[0;34m)\u001b[0m\u001b[0;34m\u001b[0m\u001b[0m\n\u001b[0m\u001b[1;32m     51\u001b[0m \u001b[0;31m#                 hits = hmmsearch(hmm,\u001b[0m\u001b[0;34m\u001b[0m\u001b[0;34m\u001b[0m\u001b[0m\n\u001b[1;32m     52\u001b[0m \u001b[0;31m#                 seqDB_curr = seqDB_curr,\u001b[0m\u001b[0;34m\u001b[0m\u001b[0;34m\u001b[0m\u001b[0m\n",
      "\u001b[0;32m<ipython-input-6-1c8fcda66724>\u001b[0m in \u001b[0;36mworker\u001b[0;34m()\u001b[0m\n\u001b[1;32m     26\u001b[0m     \u001b[0mseqDB_curr\u001b[0m \u001b[0;34m=\u001b[0m \u001b[0mseqDB_curr\u001b[0m\u001b[0;34m,\u001b[0m\u001b[0;34m\u001b[0m\u001b[0m\n\u001b[1;32m     27\u001b[0m     \u001b[0mseqDB_file\u001b[0m \u001b[0;34m=\u001b[0m \u001b[0mseqDB_file\u001b[0m\u001b[0;34m,\u001b[0m\u001b[0;34m\u001b[0m\u001b[0m\n\u001b[0;32m---> 28\u001b[0;31m     \u001b[0mtmpdir\u001b[0m \u001b[0;34m=\u001b[0m \u001b[0;34m\"/tmp/tmp2\"\u001b[0m\u001b[0;34m\u001b[0m\u001b[0m\n\u001b[0m\u001b[1;32m     29\u001b[0m     )\n\u001b[1;32m     30\u001b[0m \u001b[0;34m\u001b[0m\u001b[0m\n",
      "\u001b[0;32m/home/shouldsee/Documents/repos/cathdb/test_envs/mtest_django_CATH/rootsite/tst/domutil/util.pyc\u001b[0m in \u001b[0;36mhmmsearch\u001b[0;34m(hmm, seqDB_curr, seqDB_file, tmpdir, tbl_format)\u001b[0m\n\u001b[1;32m    340\u001b[0m     \u001b[0;31m# print ' '.join(cmd)\u001b[0m\u001b[0;34m\u001b[0m\u001b[0;34m\u001b[0m\u001b[0m\n\u001b[1;32m    341\u001b[0m     \u001b[0;32mtry\u001b[0m\u001b[0;34m:\u001b[0m\u001b[0;34m\u001b[0m\u001b[0m\n\u001b[0;32m--> 342\u001b[0;31m         \u001b[0mqtext\u001b[0m \u001b[0;34m=\u001b[0m \u001b[0msubprocess\u001b[0m\u001b[0;34m.\u001b[0m\u001b[0mcheck_output\u001b[0m\u001b[0;34m(\u001b[0m \u001b[0mcmd\u001b[0m \u001b[0;34m)\u001b[0m\u001b[0;34m\u001b[0m\u001b[0m\n\u001b[0m\u001b[1;32m    343\u001b[0m     \u001b[0;32mexcept\u001b[0m \u001b[0mException\u001b[0m \u001b[0;32mas\u001b[0m \u001b[0me\u001b[0m\u001b[0;34m:\u001b[0m\u001b[0;34m\u001b[0m\u001b[0m\n\u001b[1;32m    344\u001b[0m         \u001b[0;32mprint\u001b[0m \u001b[0;34m'CMD is: %s'\u001b[0m \u001b[0;34m%\u001b[0m \u001b[0;34m(\u001b[0m\u001b[0;34m' '\u001b[0m\u001b[0;34m.\u001b[0m\u001b[0mjoin\u001b[0m\u001b[0;34m(\u001b[0m\u001b[0mcmd\u001b[0m\u001b[0;34m)\u001b[0m\u001b[0;34m)\u001b[0m\u001b[0;34m\u001b[0m\u001b[0m\n",
      "\u001b[0;32m/usr/lib/python2.7/subprocess.pyc\u001b[0m in \u001b[0;36mcheck_output\u001b[0;34m(*popenargs, **kwargs)\u001b[0m\n\u001b[1;32m    566\u001b[0m         \u001b[0;32mraise\u001b[0m \u001b[0mValueError\u001b[0m\u001b[0;34m(\u001b[0m\u001b[0;34m'stdout argument not allowed, it will be overridden.'\u001b[0m\u001b[0;34m)\u001b[0m\u001b[0;34m\u001b[0m\u001b[0m\n\u001b[1;32m    567\u001b[0m     \u001b[0mprocess\u001b[0m \u001b[0;34m=\u001b[0m \u001b[0mPopen\u001b[0m\u001b[0;34m(\u001b[0m\u001b[0mstdout\u001b[0m\u001b[0;34m=\u001b[0m\u001b[0mPIPE\u001b[0m\u001b[0;34m,\u001b[0m \u001b[0;34m*\u001b[0m\u001b[0mpopenargs\u001b[0m\u001b[0;34m,\u001b[0m \u001b[0;34m**\u001b[0m\u001b[0mkwargs\u001b[0m\u001b[0;34m)\u001b[0m\u001b[0;34m\u001b[0m\u001b[0m\n\u001b[0;32m--> 568\u001b[0;31m     \u001b[0moutput\u001b[0m\u001b[0;34m,\u001b[0m \u001b[0munused_err\u001b[0m \u001b[0;34m=\u001b[0m \u001b[0mprocess\u001b[0m\u001b[0;34m.\u001b[0m\u001b[0mcommunicate\u001b[0m\u001b[0;34m(\u001b[0m\u001b[0;34m)\u001b[0m\u001b[0;34m\u001b[0m\u001b[0m\n\u001b[0m\u001b[1;32m    569\u001b[0m     \u001b[0mretcode\u001b[0m \u001b[0;34m=\u001b[0m \u001b[0mprocess\u001b[0m\u001b[0;34m.\u001b[0m\u001b[0mpoll\u001b[0m\u001b[0;34m(\u001b[0m\u001b[0;34m)\u001b[0m\u001b[0;34m\u001b[0m\u001b[0m\n\u001b[1;32m    570\u001b[0m     \u001b[0;32mif\u001b[0m \u001b[0mretcode\u001b[0m\u001b[0;34m:\u001b[0m\u001b[0;34m\u001b[0m\u001b[0m\n",
      "\u001b[0;32m/usr/lib/python2.7/subprocess.pyc\u001b[0m in \u001b[0;36mcommunicate\u001b[0;34m(self, input)\u001b[0m\n\u001b[1;32m    790\u001b[0m                 \u001b[0mself\u001b[0m\u001b[0;34m.\u001b[0m\u001b[0mstdin\u001b[0m\u001b[0;34m.\u001b[0m\u001b[0mclose\u001b[0m\u001b[0;34m(\u001b[0m\u001b[0;34m)\u001b[0m\u001b[0;34m\u001b[0m\u001b[0m\n\u001b[1;32m    791\u001b[0m             \u001b[0;32melif\u001b[0m \u001b[0mself\u001b[0m\u001b[0;34m.\u001b[0m\u001b[0mstdout\u001b[0m\u001b[0;34m:\u001b[0m\u001b[0;34m\u001b[0m\u001b[0m\n\u001b[0;32m--> 792\u001b[0;31m                 \u001b[0mstdout\u001b[0m \u001b[0;34m=\u001b[0m \u001b[0m_eintr_retry_call\u001b[0m\u001b[0;34m(\u001b[0m\u001b[0mself\u001b[0m\u001b[0;34m.\u001b[0m\u001b[0mstdout\u001b[0m\u001b[0;34m.\u001b[0m\u001b[0mread\u001b[0m\u001b[0;34m)\u001b[0m\u001b[0;34m\u001b[0m\u001b[0m\n\u001b[0m\u001b[1;32m    793\u001b[0m                 \u001b[0mself\u001b[0m\u001b[0;34m.\u001b[0m\u001b[0mstdout\u001b[0m\u001b[0;34m.\u001b[0m\u001b[0mclose\u001b[0m\u001b[0;34m(\u001b[0m\u001b[0;34m)\u001b[0m\u001b[0;34m\u001b[0m\u001b[0m\n\u001b[1;32m    794\u001b[0m             \u001b[0;32melif\u001b[0m \u001b[0mself\u001b[0m\u001b[0;34m.\u001b[0m\u001b[0mstderr\u001b[0m\u001b[0;34m:\u001b[0m\u001b[0;34m\u001b[0m\u001b[0m\n",
      "\u001b[0;32m/usr/lib/python2.7/subprocess.pyc\u001b[0m in \u001b[0;36m_eintr_retry_call\u001b[0;34m(func, *args)\u001b[0m\n\u001b[1;32m    474\u001b[0m     \u001b[0;32mwhile\u001b[0m \u001b[0mTrue\u001b[0m\u001b[0;34m:\u001b[0m\u001b[0;34m\u001b[0m\u001b[0m\n\u001b[1;32m    475\u001b[0m         \u001b[0;32mtry\u001b[0m\u001b[0;34m:\u001b[0m\u001b[0;34m\u001b[0m\u001b[0m\n\u001b[0;32m--> 476\u001b[0;31m             \u001b[0;32mreturn\u001b[0m \u001b[0mfunc\u001b[0m\u001b[0;34m(\u001b[0m\u001b[0;34m*\u001b[0m\u001b[0margs\u001b[0m\u001b[0;34m)\u001b[0m\u001b[0;34m\u001b[0m\u001b[0m\n\u001b[0m\u001b[1;32m    477\u001b[0m         \u001b[0;32mexcept\u001b[0m \u001b[0;34m(\u001b[0m\u001b[0mOSError\u001b[0m\u001b[0;34m,\u001b[0m \u001b[0mIOError\u001b[0m\u001b[0;34m)\u001b[0m \u001b[0;32mas\u001b[0m \u001b[0me\u001b[0m\u001b[0;34m:\u001b[0m\u001b[0;34m\u001b[0m\u001b[0m\n\u001b[1;32m    478\u001b[0m             \u001b[0;32mif\u001b[0m \u001b[0me\u001b[0m\u001b[0;34m.\u001b[0m\u001b[0merrno\u001b[0m \u001b[0;34m==\u001b[0m \u001b[0merrno\u001b[0m\u001b[0;34m.\u001b[0m\u001b[0mEINTR\u001b[0m\u001b[0;34m:\u001b[0m\u001b[0;34m\u001b[0m\u001b[0m\n",
      "\u001b[0;31mKeyboardInterrupt\u001b[0m: "
     ]
    }
   ],
   "source": [
    "from time import time\n",
    "from tst.domutil.util import *\n",
    "import re\n",
    "import gc\n",
    "# p_header = re.compile(\"NAME.*?\\n\")\n",
    "# from copy import copy\n",
    "# hmmlib_file = full(\"$SEQlib/cath-S35-hmm3.lib\")\n",
    "# header_gen = (seqheader_parse_cath(line.rstrip(\"\\n\")[6:])[\"acc\"] for  index_hmmlib(hmmlib_file))\n",
    "seqDB_curr = seqDB.objects.get(name = 'CATH')\n",
    "seqDB_file = \"$SEQlib/cath-domain-seqs-S100.fa\"\n",
    "behave = \"HMMsearching profiles\"\n",
    "\n",
    "HMMprofile.objects.all()\n",
    "\n",
    "t0 = time()\n",
    "\n",
    "qset = HMMprofile.objects.order_by(\"id\")\n",
    "c = counter(range(qset.count()), per = 100)\n",
    "batches = batch_qs(qset, batch_size =500)\n",
    "# it = lst.iterator()\n",
    "failcount = 0\n",
    "\n",
    "# print \"hi\"\n",
    "def worker():\n",
    "    q_hits = hmmsearch(hmm,\n",
    "    seqDB_curr = seqDB_curr,\n",
    "    seqDB_file = seqDB_file,\n",
    "    tmpdir = \"/tmp/tmp2\"                \n",
    "    )\n",
    "\n",
    "    oldhits = hmm.hit4hmm2hsp_set.all()\n",
    "    for hit in q_hits:\n",
    "        hsp = hit[0] ### Assume only one dom per hit\n",
    "        jdict = hsp2jdict(hsp, query = hmm )\n",
    "        jdict[\"target_id\"] = sequence.objects.get( acc = jdict[\"target_id\"]).id\n",
    "\n",
    "        if not oldhits.filter(**jdict).exists():\n",
    "            hit_db = hit4hmm2hsp(**jdict)\n",
    "            hit_db.save()\n",
    "\n",
    "transaction.set_autocommit( False)\n",
    "if 1:\n",
    "# with transaction.atomic():\n",
    "    for batch in batches:\n",
    "        for hmm in batch:\n",
    "            c.count()\n",
    "            if c.i < 500:\n",
    "                continue\n",
    "            try:\n",
    "                worker()\n",
    "#                 hits = hmmsearch(hmm,\n",
    "#                 seqDB_curr = seqDB_curr,\n",
    "#                 seqDB_file = seqDB_file,\n",
    "#                 )\n",
    "            except Exception as e:\n",
    "                c.fail(\"failed for %s for %s\" % (hmm,e))\n",
    "#                 failcount += 1\n",
    "            if not c.i % c.per:\n",
    "                transaction.commit()\n",
    "\n",
    "\n",
    "\n",
    "print \"finshed %s from %s\" % (behave, hmmlib_file)\n",
    "print '%d instances of %d failed' % (c.f,c.imax)\n",
    "print('Ended after %.4f sec' % (time()-t0))  # len(lst)d\n",
    "failrate = c.f/float(c.imax) \n",
    "assert failrate < 0.1, 'fail rate is too high: expected < 10%%, actual: %2.2f%%' % failrate\n",
    "transaction.set_autocommit(True)\n"
   ]
  },
  {
   "cell_type": "code",
   "execution_count": 10,
   "metadata": {},
   "outputs": [
    {
     "data": {
      "text/plain": [
       "21078"
      ]
     },
     "execution_count": 10,
     "metadata": {},
     "output_type": "execute_result"
    }
   ],
   "source": [
    "# # import re\n",
    "# # p_header = re.compile(\"NAME.*?\\n\")\n",
    "# # p_header.findall(lst[2].text)\n",
    "#             hits = hmmsearch(hmm.text,\n",
    "#             seqDB_curr = seqDB_curr,\n",
    "#             seqDB_file = seqDB_file,\n",
    "#             )\n",
    "# hmm = lst[0]\n",
    "# len(lst)\n",
    "lst.count()"
   ]
  },
  {
   "cell_type": "code",
   "execution_count": null,
   "metadata": {
    "collapsed": true
   },
   "outputs": [],
   "source": []
  },
  {
   "cell_type": "code",
   "execution_count": 4,
   "metadata": {},
   "outputs": [
    {
     "data": {
      "text/plain": [
       "<QuerySet [<HMMprofile: HMM for 2.30.40.10.24.0 >, <HMMprofile: HMM for 3.40.50.300.361.0 >, <HMMprofile: HMM for 2.40.10.10.8.0 >, <HMMprofile: HMM for 2.40.10.10.16.0 >, <HMMprofile: HMM for 3.30.1120.60.1.0 >, <HMMprofile: HMM for 2.60.120.200.50.0 >, <HMMprofile: HMM for 2.80.10.50.72.0 >, <HMMprofile: HMM for 3.40.30.10.74.0 >, <HMMprofile: HMM for 3.40.30.10.125.0 >, <HMMprofile: HMM for 1.10.1200.30.2.0 >, <HMMprofile: HMM for 1.20.20.10.4.0 >, <HMMprofile: HMM for 4.10.220.40.1.0 >, <HMMprofile: HMM for 3.80.10.10.34.0 >, <HMMprofile: HMM for 3.30.1490.20.5.0 >, <HMMprofile: HMM for 1.10.1030.10.1.0 >, <HMMprofile: HMM for 3.40.50.20.8.0 >, <HMMprofile: HMM for 3.30.470.20.7.0 >, <HMMprofile: HMM for 3.40.50.1380.8.0 >, <HMMprofile: HMM for 3.50.30.20.1.0 >, <HMMprofile: HMM for 3.40.50.880.31.0 >, '...(remaining elements truncated)...']>"
      ]
     },
     "execution_count": 4,
     "metadata": {},
     "output_type": "execute_result"
    }
   ],
   "source": [
    "# batch_qs\n",
    "# lst.order_by(\"id\")"
   ]
  },
  {
   "cell_type": "code",
   "execution_count": 6,
   "metadata": {},
   "outputs": [],
   "source": [
    "# del hmmsearch.__module__\n",
    "del hmmsearch\n"
   ]
  },
  {
   "cell_type": "code",
   "execution_count": 4,
   "metadata": {},
   "outputs": [
    {
     "ename": "KeyError",
     "evalue": "'SEQlib'",
     "output_type": "error",
     "traceback": [
      "\u001b[0;31m---------------------------------------------------------------------------\u001b[0m",
      "\u001b[0;31mKeyError\u001b[0m                                  Traceback (most recent call last)",
      "\u001b[0;32m<ipython-input-4-21f1d52a2fe3>\u001b[0m in \u001b[0;36m<module>\u001b[0;34m()\u001b[0m\n\u001b[1;32m      1\u001b[0m \u001b[0;32mimport\u001b[0m \u001b[0mos\u001b[0m\u001b[0;34m\u001b[0m\u001b[0m\n\u001b[0;32m----> 2\u001b[0;31m \u001b[0mos\u001b[0m\u001b[0;34m.\u001b[0m\u001b[0menviron\u001b[0m\u001b[0;34m[\u001b[0m\u001b[0;34m\"SEQlib\"\u001b[0m\u001b[0;34m]\u001b[0m\u001b[0;34m\u001b[0m\u001b[0m\n\u001b[0m",
      "\u001b[0;32m/usr/lib/python2.7/UserDict.pyc\u001b[0m in \u001b[0;36m__getitem__\u001b[0;34m(self, key)\u001b[0m\n\u001b[1;32m     38\u001b[0m         \u001b[0;32mif\u001b[0m \u001b[0mhasattr\u001b[0m\u001b[0;34m(\u001b[0m\u001b[0mself\u001b[0m\u001b[0;34m.\u001b[0m\u001b[0m__class__\u001b[0m\u001b[0;34m,\u001b[0m \u001b[0;34m\"__missing__\"\u001b[0m\u001b[0;34m)\u001b[0m\u001b[0;34m:\u001b[0m\u001b[0;34m\u001b[0m\u001b[0m\n\u001b[1;32m     39\u001b[0m             \u001b[0;32mreturn\u001b[0m \u001b[0mself\u001b[0m\u001b[0;34m.\u001b[0m\u001b[0m__class__\u001b[0m\u001b[0;34m.\u001b[0m\u001b[0m__missing__\u001b[0m\u001b[0;34m(\u001b[0m\u001b[0mself\u001b[0m\u001b[0;34m,\u001b[0m \u001b[0mkey\u001b[0m\u001b[0;34m)\u001b[0m\u001b[0;34m\u001b[0m\u001b[0m\n\u001b[0;32m---> 40\u001b[0;31m         \u001b[0;32mraise\u001b[0m \u001b[0mKeyError\u001b[0m\u001b[0;34m(\u001b[0m\u001b[0mkey\u001b[0m\u001b[0;34m)\u001b[0m\u001b[0;34m\u001b[0m\u001b[0m\n\u001b[0m\u001b[1;32m     41\u001b[0m     \u001b[0;32mdef\u001b[0m \u001b[0m__setitem__\u001b[0m\u001b[0;34m(\u001b[0m\u001b[0mself\u001b[0m\u001b[0;34m,\u001b[0m \u001b[0mkey\u001b[0m\u001b[0;34m,\u001b[0m \u001b[0mitem\u001b[0m\u001b[0;34m)\u001b[0m\u001b[0;34m:\u001b[0m \u001b[0mself\u001b[0m\u001b[0;34m.\u001b[0m\u001b[0mdata\u001b[0m\u001b[0;34m[\u001b[0m\u001b[0mkey\u001b[0m\u001b[0;34m]\u001b[0m \u001b[0;34m=\u001b[0m \u001b[0mitem\u001b[0m\u001b[0;34m\u001b[0m\u001b[0m\n\u001b[1;32m     42\u001b[0m     \u001b[0;32mdef\u001b[0m \u001b[0m__delitem__\u001b[0m\u001b[0;34m(\u001b[0m\u001b[0mself\u001b[0m\u001b[0;34m,\u001b[0m \u001b[0mkey\u001b[0m\u001b[0;34m)\u001b[0m\u001b[0;34m:\u001b[0m \u001b[0;32mdel\u001b[0m \u001b[0mself\u001b[0m\u001b[0;34m.\u001b[0m\u001b[0mdata\u001b[0m\u001b[0;34m[\u001b[0m\u001b[0mkey\u001b[0m\u001b[0;34m]\u001b[0m\u001b[0;34m\u001b[0m\u001b[0m\n",
      "\u001b[0;31mKeyError\u001b[0m: 'SEQlib'"
     ]
    }
   ],
   "source": [
    "import os\n",
    "os.environ[\"SEQlib\"]"
   ]
  },
  {
   "cell_type": "code",
   "execution_count": 18,
   "metadata": {},
   "outputs": [],
   "source": [
    "# %load_ext reload\n",
    "# del tst.domutil.util\n",
    "%autoreload 2\n"
   ]
  },
  {
   "cell_type": "code",
   "execution_count": null,
   "metadata": {
    "collapsed": true
   },
   "outputs": [],
   "source": [
    "parser = SearchIO.parse( INPUT, tbl_format )\n",
    "c = counter(parser)\n"
   ]
  },
  {
   "cell_type": "code",
   "execution_count": null,
   "metadata": {
    "collapsed": true
   },
   "outputs": [],
   "source": [
    "# parser = SearchIO.parse( INPUT, tbl_format )\n"
   ]
  },
  {
   "cell_type": "code",
   "execution_count": 5,
   "metadata": {},
   "outputs": [
    {
     "name": "stdout",
     "output_type": "stream",
     "text": [
      "0 of -1\n"
     ]
    },
    {
     "ename": "KeyboardInterrupt",
     "evalue": "",
     "output_type": "error",
     "traceback": [
      "\u001b[0;31m---------------------------------------------------------------------------\u001b[0m",
      "\u001b[0;31mKeyboardInterrupt\u001b[0m                         Traceback (most recent call last)",
      "\u001b[0;32m<ipython-input-5-a4f989d49ab4>\u001b[0m in \u001b[0;36m<module>\u001b[0;34m()\u001b[0m\n\u001b[1;32m     38\u001b[0m                 \u001b[0mhsp\u001b[0m \u001b[0;34m=\u001b[0m \u001b[0mhit\u001b[0m\u001b[0;34m[\u001b[0m\u001b[0;36m0\u001b[0m\u001b[0;34m]\u001b[0m \u001b[0;31m### Assume only one dom per hit\u001b[0m\u001b[0;34m\u001b[0m\u001b[0m\n\u001b[1;32m     39\u001b[0m                 \u001b[0mjdict\u001b[0m \u001b[0;34m=\u001b[0m \u001b[0mhsp2jdict\u001b[0m\u001b[0;34m(\u001b[0m\u001b[0mhsp\u001b[0m\u001b[0;34m,\u001b[0m \u001b[0mquery\u001b[0m \u001b[0;34m=\u001b[0m \u001b[0mhmm\u001b[0m \u001b[0;34m)\u001b[0m\u001b[0;34m\u001b[0m\u001b[0m\n\u001b[0;32m---> 40\u001b[0;31m                 \u001b[0mjdict\u001b[0m\u001b[0;34m[\u001b[0m\u001b[0;34m\"target_id\"\u001b[0m\u001b[0;34m]\u001b[0m \u001b[0;34m=\u001b[0m \u001b[0msequence\u001b[0m\u001b[0;34m.\u001b[0m\u001b[0mobjects\u001b[0m\u001b[0;34m.\u001b[0m\u001b[0mget\u001b[0m\u001b[0;34m(\u001b[0m \u001b[0macc\u001b[0m \u001b[0;34m=\u001b[0m \u001b[0mjdict\u001b[0m\u001b[0;34m[\u001b[0m\u001b[0;34m\"target_id\"\u001b[0m\u001b[0;34m]\u001b[0m\u001b[0;34m)\u001b[0m\u001b[0;34m.\u001b[0m\u001b[0mid\u001b[0m\u001b[0;34m\u001b[0m\u001b[0m\n\u001b[0m\u001b[1;32m     41\u001b[0m \u001b[0;34m\u001b[0m\u001b[0m\n\u001b[1;32m     42\u001b[0m                 \u001b[0;32mif\u001b[0m \u001b[0;32mnot\u001b[0m \u001b[0moldhits\u001b[0m\u001b[0;34m.\u001b[0m\u001b[0mfilter\u001b[0m\u001b[0;34m(\u001b[0m\u001b[0;34m**\u001b[0m\u001b[0mjdict\u001b[0m\u001b[0;34m)\u001b[0m\u001b[0;34m.\u001b[0m\u001b[0mexists\u001b[0m\u001b[0;34m(\u001b[0m\u001b[0;34m)\u001b[0m\u001b[0;34m:\u001b[0m\u001b[0;34m\u001b[0m\u001b[0m\n",
      "\u001b[0;32m/home/shouldsee/.local/lib/python2.7/site-packages/django/db/models/manager.pyc\u001b[0m in \u001b[0;36mmanager_method\u001b[0;34m(self, *args, **kwargs)\u001b[0m\n\u001b[1;32m     83\u001b[0m         \u001b[0;32mdef\u001b[0m \u001b[0mcreate_method\u001b[0m\u001b[0;34m(\u001b[0m\u001b[0mname\u001b[0m\u001b[0;34m,\u001b[0m \u001b[0mmethod\u001b[0m\u001b[0;34m)\u001b[0m\u001b[0;34m:\u001b[0m\u001b[0;34m\u001b[0m\u001b[0m\n\u001b[1;32m     84\u001b[0m             \u001b[0;32mdef\u001b[0m \u001b[0mmanager_method\u001b[0m\u001b[0;34m(\u001b[0m\u001b[0mself\u001b[0m\u001b[0;34m,\u001b[0m \u001b[0;34m*\u001b[0m\u001b[0margs\u001b[0m\u001b[0;34m,\u001b[0m \u001b[0;34m**\u001b[0m\u001b[0mkwargs\u001b[0m\u001b[0;34m)\u001b[0m\u001b[0;34m:\u001b[0m\u001b[0;34m\u001b[0m\u001b[0m\n\u001b[0;32m---> 85\u001b[0;31m                 \u001b[0;32mreturn\u001b[0m \u001b[0mgetattr\u001b[0m\u001b[0;34m(\u001b[0m\u001b[0mself\u001b[0m\u001b[0;34m.\u001b[0m\u001b[0mget_queryset\u001b[0m\u001b[0;34m(\u001b[0m\u001b[0;34m)\u001b[0m\u001b[0;34m,\u001b[0m \u001b[0mname\u001b[0m\u001b[0;34m)\u001b[0m\u001b[0;34m(\u001b[0m\u001b[0;34m*\u001b[0m\u001b[0margs\u001b[0m\u001b[0;34m,\u001b[0m \u001b[0;34m**\u001b[0m\u001b[0mkwargs\u001b[0m\u001b[0;34m)\u001b[0m\u001b[0;34m\u001b[0m\u001b[0m\n\u001b[0m\u001b[1;32m     86\u001b[0m             \u001b[0mmanager_method\u001b[0m\u001b[0;34m.\u001b[0m\u001b[0m__name__\u001b[0m \u001b[0;34m=\u001b[0m \u001b[0mmethod\u001b[0m\u001b[0;34m.\u001b[0m\u001b[0m__name__\u001b[0m\u001b[0;34m\u001b[0m\u001b[0m\n\u001b[1;32m     87\u001b[0m             \u001b[0mmanager_method\u001b[0m\u001b[0;34m.\u001b[0m\u001b[0m__doc__\u001b[0m \u001b[0;34m=\u001b[0m \u001b[0mmethod\u001b[0m\u001b[0;34m.\u001b[0m\u001b[0m__doc__\u001b[0m\u001b[0;34m\u001b[0m\u001b[0m\n",
      "\u001b[0;32m/home/shouldsee/.local/lib/python2.7/site-packages/django/db/models/manager.pyc\u001b[0m in \u001b[0;36mget_queryset\u001b[0;34m(self)\u001b[0m\n\u001b[1;32m    149\u001b[0m         \u001b[0measily\u001b[0m \u001b[0mcustomize\u001b[0m \u001b[0mthe\u001b[0m \u001b[0mbehavior\u001b[0m \u001b[0mof\u001b[0m \u001b[0mthe\u001b[0m \u001b[0mManager\u001b[0m\u001b[0;34m.\u001b[0m\u001b[0;34m\u001b[0m\u001b[0m\n\u001b[1;32m    150\u001b[0m         \"\"\"\n\u001b[0;32m--> 151\u001b[0;31m         \u001b[0;32mreturn\u001b[0m \u001b[0mself\u001b[0m\u001b[0;34m.\u001b[0m\u001b[0m_queryset_class\u001b[0m\u001b[0;34m(\u001b[0m\u001b[0mmodel\u001b[0m\u001b[0;34m=\u001b[0m\u001b[0mself\u001b[0m\u001b[0;34m.\u001b[0m\u001b[0mmodel\u001b[0m\u001b[0;34m,\u001b[0m \u001b[0musing\u001b[0m\u001b[0;34m=\u001b[0m\u001b[0mself\u001b[0m\u001b[0;34m.\u001b[0m\u001b[0m_db\u001b[0m\u001b[0;34m,\u001b[0m \u001b[0mhints\u001b[0m\u001b[0;34m=\u001b[0m\u001b[0mself\u001b[0m\u001b[0;34m.\u001b[0m\u001b[0m_hints\u001b[0m\u001b[0;34m)\u001b[0m\u001b[0;34m\u001b[0m\u001b[0m\n\u001b[0m\u001b[1;32m    152\u001b[0m \u001b[0;34m\u001b[0m\u001b[0m\n\u001b[1;32m    153\u001b[0m     \u001b[0;32mdef\u001b[0m \u001b[0mall\u001b[0m\u001b[0;34m(\u001b[0m\u001b[0mself\u001b[0m\u001b[0;34m)\u001b[0m\u001b[0;34m:\u001b[0m\u001b[0;34m\u001b[0m\u001b[0m\n",
      "\u001b[0;32m/home/shouldsee/.local/lib/python2.7/site-packages/django/db/models/query.pyc\u001b[0m in \u001b[0;36m__init__\u001b[0;34m(self, model, query, using, hints)\u001b[0m\n\u001b[1;32m    163\u001b[0m         \u001b[0mself\u001b[0m\u001b[0;34m.\u001b[0m\u001b[0m_db\u001b[0m \u001b[0;34m=\u001b[0m \u001b[0musing\u001b[0m\u001b[0;34m\u001b[0m\u001b[0m\n\u001b[1;32m    164\u001b[0m         \u001b[0mself\u001b[0m\u001b[0;34m.\u001b[0m\u001b[0m_hints\u001b[0m \u001b[0;34m=\u001b[0m \u001b[0mhints\u001b[0m \u001b[0;32mor\u001b[0m \u001b[0;34m{\u001b[0m\u001b[0;34m}\u001b[0m\u001b[0;34m\u001b[0m\u001b[0m\n\u001b[0;32m--> 165\u001b[0;31m         \u001b[0mself\u001b[0m\u001b[0;34m.\u001b[0m\u001b[0mquery\u001b[0m \u001b[0;34m=\u001b[0m \u001b[0mquery\u001b[0m \u001b[0;32mor\u001b[0m \u001b[0msql\u001b[0m\u001b[0;34m.\u001b[0m\u001b[0mQuery\u001b[0m\u001b[0;34m(\u001b[0m\u001b[0mself\u001b[0m\u001b[0;34m.\u001b[0m\u001b[0mmodel\u001b[0m\u001b[0;34m)\u001b[0m\u001b[0;34m\u001b[0m\u001b[0m\n\u001b[0m\u001b[1;32m    166\u001b[0m         \u001b[0mself\u001b[0m\u001b[0;34m.\u001b[0m\u001b[0m_result_cache\u001b[0m \u001b[0;34m=\u001b[0m \u001b[0mNone\u001b[0m\u001b[0;34m\u001b[0m\u001b[0m\n\u001b[1;32m    167\u001b[0m         \u001b[0mself\u001b[0m\u001b[0;34m.\u001b[0m\u001b[0m_sticky_filter\u001b[0m \u001b[0;34m=\u001b[0m \u001b[0mFalse\u001b[0m\u001b[0;34m\u001b[0m\u001b[0m\n",
      "\u001b[0;32m/home/shouldsee/.local/lib/python2.7/site-packages/django/db/models/sql/query.pyc\u001b[0m in \u001b[0;36m__init__\u001b[0;34m(self, model, where)\u001b[0m\n\u001b[1;32m    141\u001b[0m         \u001b[0mself\u001b[0m\u001b[0;34m.\u001b[0m\u001b[0mtable_map\u001b[0m \u001b[0;34m=\u001b[0m \u001b[0;34m{\u001b[0m\u001b[0;34m}\u001b[0m     \u001b[0;31m# Maps table names to list of aliases.\u001b[0m\u001b[0;34m\u001b[0m\u001b[0m\n\u001b[1;32m    142\u001b[0m         \u001b[0mself\u001b[0m\u001b[0;34m.\u001b[0m\u001b[0mdefault_cols\u001b[0m \u001b[0;34m=\u001b[0m \u001b[0mTrue\u001b[0m\u001b[0;34m\u001b[0m\u001b[0m\n\u001b[0;32m--> 143\u001b[0;31m         \u001b[0mself\u001b[0m\u001b[0;34m.\u001b[0m\u001b[0mdefault_ordering\u001b[0m \u001b[0;34m=\u001b[0m \u001b[0mTrue\u001b[0m\u001b[0;34m\u001b[0m\u001b[0m\n\u001b[0m\u001b[1;32m    144\u001b[0m         \u001b[0mself\u001b[0m\u001b[0;34m.\u001b[0m\u001b[0mstandard_ordering\u001b[0m \u001b[0;34m=\u001b[0m \u001b[0mTrue\u001b[0m\u001b[0;34m\u001b[0m\u001b[0m\n\u001b[1;32m    145\u001b[0m         \u001b[0mself\u001b[0m\u001b[0;34m.\u001b[0m\u001b[0mused_aliases\u001b[0m \u001b[0;34m=\u001b[0m \u001b[0mset\u001b[0m\u001b[0;34m(\u001b[0m\u001b[0;34m)\u001b[0m\u001b[0;34m\u001b[0m\u001b[0m\n",
      "\u001b[0;31mKeyboardInterrupt\u001b[0m: "
     ]
    }
   ],
   "source": [
    "## Load HMMsearch results from an external file\n",
    "\n",
    "from time import time\n",
    "from tst.domutil.util import *\n",
    "from tst.utils_db import *\n",
    "from Bio import SearchIO\n",
    "# p_header = re.compile(\"NAME.*?\\n\")\n",
    "# from copy import copy\n",
    "# hmmlib_file = full(\"$SEQlib/cath-S35-hmm3.lib\")\n",
    "# header_gen = (seqheader_parse_cath(line.rstrip(\"\\n\")[6:])[\"acc\"] for  index_hmmlib(hmmlib_file))\n",
    "\n",
    "\n",
    "seqDB_curr = seqDB.objects.get(name = 'CATH')\n",
    "# seqDB_file = \"$SEQlib/cath-domain-seqs-S100.fa\"\n",
    "INPUT = \"/media/shouldsee/DATA_FENG/data/archive/CATHS100_v410.domtbl\"\n",
    "tbl_format = 'hmmsearch3-domtab'\n",
    "hmm_resultfile = INPUT\n",
    "behave = \"Loading HMMsearch results\"\n",
    "t0 = time()\n",
    "\n",
    "parser = SearchIO.parse( INPUT, tbl_format )\n",
    "c = counter(parser, INF = True)\n",
    "parser = SearchIO.parse( INPUT, tbl_format )\n",
    "\n",
    "# if 1:\n",
    "with transaction.atomic():\n",
    "    for q_hits in parser:\n",
    "#         q_hits = next(parser)\n",
    "    #     q_hits = next(parser)    \n",
    "        try:\n",
    "#         if 1:\n",
    "            q_hits.id = seqheader_parse_cath(q_hits.id)[\"acc\"]\n",
    "            hmm = domain.objects.get(domain_id = q_hits.id).classification.hmmprofile_set.first()\n",
    "            q_hits = q_hits.hit_map(acc_mapper_cath)\n",
    "\n",
    "            oldhits = hmm.hit4hmm2hsp_set.all()\n",
    "            for hit in q_hits:\n",
    "                hsp = hit[0] ### Assume only one dom per hit\n",
    "                jdict = hsp2jdict(hsp, query = hmm )\n",
    "                jdict[\"target_id\"] = sequence.objects.get( acc = jdict[\"target_id\"]).id\n",
    "                \n",
    "                if not oldhits.filter(**jdict).exists():\n",
    "                    hit_db = hit4hmm2hsp(**jdict)\n",
    "                    hit_db.save()\n",
    "#         try:\n",
    "#             pass\n",
    "        except Exception as e:\n",
    "            c.fail(\"Failed at %s for Exception:%s\" % (hmm, e))\n",
    "        finally:\n",
    "            c.count()\n",
    "    \n",
    "            \n",
    "c.finish()\n",
    "\n",
    "print \"finshed %s from %s\" % (behave, INPUT)\n",
    "print '%d instances of %d failed' % (c.f,c.imax)\n",
    "print('Ended after %.4f sec' % (time()-t0))  # len(lst)d\n",
    "failrate = c.f/float(c.imax) \n",
    "assert failrate < 0.1, 'fail rate is too high: expected < 10%%, actual: %2.2f%%' % failrate\n"
   ]
  },
  {
   "cell_type": "code",
   "execution_count": 45,
   "metadata": {},
   "outputs": [
    {
     "ename": "TypeError",
     "evalue": "%d format: a number is required, not NoneType",
     "output_type": "error",
     "traceback": [
      "\u001b[0;31m---------------------------------------------------------------------------\u001b[0m",
      "\u001b[0;31mTypeError\u001b[0m                                 Traceback (most recent call last)",
      "\u001b[0;32m<ipython-input-45-8377efcbb115>\u001b[0m in \u001b[0;36m<module>\u001b[0;34m()\u001b[0m\n\u001b[0;32m----> 1\u001b[0;31m \u001b[0;32mprint\u001b[0m \u001b[0;34m\"%d\"\u001b[0m \u001b[0;34m%\u001b[0m \u001b[0mNone\u001b[0m\u001b[0;34m\u001b[0m\u001b[0m\n\u001b[0m",
      "\u001b[0;31mTypeError\u001b[0m: %d format: a number is required, not NoneType"
     ]
    }
   ],
   "source": [
    "print \"%d\" % None"
   ]
  },
  {
   "cell_type": "code",
   "execution_count": 38,
   "metadata": {},
   "outputs": [
    {
     "data": {
      "text/plain": [
       "<HMMprofile: HMM for 3.40.50.1260.1.0 >"
      ]
     },
     "execution_count": 38,
     "metadata": {},
     "output_type": "execute_result"
    }
   ],
   "source": [
    "# domain.objects.get(domain_id = q_hits.id)\n",
    "# q_hits\n",
    "hmm\n",
    "# domain.objects.count()"
   ]
  },
  {
   "cell_type": "code",
   "execution_count": 12,
   "metadata": {
    "collapsed": true
   },
   "outputs": [],
   "source": [
    "hmmpf_file = full(\"$SEQlib/cath-S35-hmm3.lib\")\n",
    "# hmmpf_file = full(\"$SEQlib/tmp.hmmpf\")\n",
    "\n",
    "def search_idx(q_acc, fname, acc_func):\n",
    "    with open(fname, 'r') as f:\n",
    "        line = f.readline()\n",
    "        idx = 0\n",
    "        while line:\n",
    "#             header = line.rstrip(\"\\n\")[6:]\n",
    "#             acc = seqheader_parse_cath(header)[\"acc\"]\n",
    "            ac = acc_func(line)\n",
    "            if acc == q_acc:\n",
    "                break\n",
    "            \n",
    "            line = f.readline()\n",
    "            idx += 1\n",
    "        if not line:\n",
    "            return None\n",
    "        else:\n",
    "            return idx\n",
    "        \n",
    "        \n",
    "\n",
    "        \n",
    "import subprocess\n",
    "def search_lib( q_acc, fname = hmmpf_file, acc_func = None):\n",
    "    \n",
    "    ##### check whether an index file exists *.idx\n",
    "    idxfile = fname + '.idx'\n",
    "    if not os.path.isfile(idxfile):\n",
    "        subprocess.call(['cat',fname,'|','grep','NAME','>',idxfile])\n",
    "    if not acc_func:\n",
    "        acc_func = lambda line: seqheader_parse_cath(line.rstrip(\"\\n\")[6:])[\"acc\"]\n",
    "    \n",
    "    idx = search_idx(q_acc ,idxfile, acc_func)\n",
    "    print idx\n",
    "\n",
    "    if not idx:\n",
    "        return None\n",
    "    else:\n",
    "        with open(fname,'r') as f:\n",
    "            line = 1\n",
    "            cidx = 0\n",
    "#             ln = 0\n",
    "            buf = \"\"\n",
    "            while line:\n",
    "                line = f.readline()                \n",
    "                if cidx == idx:\n",
    "                    buf += line\n",
    "                if line.rstrip('\\n')=='//':\n",
    "                    cidx += 1\n",
    "                    if buf:\n",
    "                        return buf + line\n",
    "\n",
    "\n",
    "# p_acc = \"2y8gB00\"\n",
    "# dom = domain.objects.get(domain_id = p_acc)\n",
    "# print search_lib( p_acc )        \n",
    "# subprocess.call(['hmmscan', '--domtblout', 'output.txt', '/location/to/profile.hmm', 'input.proteins.fasta']\n",
    "\n",
    "### import scanning resultv\n",
    "                "
   ]
  },
  {
   "cell_type": "code",
   "execution_count": 5,
   "metadata": {
    "scrolled": false
   },
   "outputs": [
    {
     "name": "stdout",
     "output_type": "stream",
     "text": [
      "10234\n"
     ]
    }
   ],
   "source": [
    "class s35():\n",
    "    def __init__(self, domain_id, hmmlib_file = None):\n",
    "        try:\n",
    "            self.domain = domain.objects.get( domain_id = domain_id )\n",
    "            self.node = self.domain.classification\n",
    "        except Exception as e: \n",
    "            self.domain = None\n",
    "            self.node = None\n",
    "            print \"failed to init s35 for exception: %s\" % e\n",
    "        if self.node:\n",
    "            if hasattr(self.node,'HMMprofile'):\n",
    "                self.hmm = self.node.HMMprofile\n",
    "            else:\n",
    "                hmm_text = search_lib(domain_id, hmmlib_file)\n",
    "                hmm = HMMprofile(\n",
    "                    cath_node_id = self.node.id,\n",
    "                    text = hmm_text,               \n",
    "                    )\n",
    "                hmm.save()\n",
    "                self.hmm = hmm \n",
    "        else:\n",
    "            print \"not creating hmm profile in lack of hierarchy\"\n",
    "    def hmmsearch(self,**kwargs):\n",
    "        self.hitset =  hmmsearch(self.hmm ,**kwargs)\n",
    "        \n",
    "#         return\n",
    "\n",
    "if __name__==\"__main__\":\n",
    "    s35A = s35( \"2q09A01\", hmmlib_file = hmmpf_file)\n",
    "def hsp2jdict(hsp,query = None):\n",
    "    jdict = hsp.__dict__\n",
    "    jdict[\"query_id\"] = query.id\n",
    "#     print hsp.hit_id\n",
    "    jdict[\"target_id\"] = sequence.objects.get( acc = hsp.hit_id).id\n",
    "    it = jdict.pop('_items')\n",
    "    jdict.pop('domain_index')\n",
    "    jdict[\"start\"]=jdict.pop(\"env_start\")\n",
    "    jdict[\"end\"]=jdict.pop(\"env_end\")\n",
    "    jdict[\"logCevalue\"] = np.log10(jdict.pop(\"evalue_cond\"))\n",
    "    jdict[\"logIevalue\"] = np.log10(jdict.pop(\"evalue\"))\n",
    "    \n",
    "    return jdict\n",
    "\n",
    "# import gc\n",
    "# def hmmsearch(hmm,seqDB_curr = None, seqDB_file = None, tmpdir = \"/tmp\"):\n",
    "# if 1:\n",
    "#     tmpdir = \"/tmp\"\n",
    "#     hmm = s35A.hmm\n",
    "#     seqDB_file = full(\"$SEQlib/cath-domain-seqs-S100.fa\")\n",
    "def hmmsearch(hmm,seqDB_curr = None, seqDB_file = None, tmpdir = \"/tmp\"):\n",
    "#     if [\"seqDB_curr\"] in locals().keys():\n",
    "    if not seqDB_curr:\n",
    "        seqDB_curr = seqDB.objects.get(name = 'CATH')\n",
    "#         seqDB_file = seqDB_curr.filepath\n",
    "    if seqDB_file:\n",
    "        seqDB_file = full(seqDB_file)\n",
    "    def acc_mapper(hit):\n",
    "#         hit.query\n",
    "        hit.id = seqheader_parse_cath(hit.id)[\"acc\"]\n",
    "        return hit    \n",
    "\n",
    "    tmphmm = \"%s/hmm\" % tmpdir\n",
    "    with open(tmphmm,'w') as f:\n",
    "        f.write(hmm.text)\n",
    "    cmd = [\"hmmsearch\",\"--noali\",\"-o\",tmpdir+\"/log\",\"--domtblout\",tmpdir + \"/domtbl\", \n",
    "                                     tmphmm, seqDB_file,]\n",
    "#     print cmd\n",
    "    qtext = subprocess.check_output( cmd )\n",
    "    gc.collect()\n",
    "\n",
    "    parser = SearchIO.parse( tmpdir + \"/domtbl\", tbl_format )\n",
    "    q_hits = next(parser)\n",
    "    q_hits.id = seqheader_parse_cath(q_hits.id)[\"acc\"]\n",
    "\n",
    "    q_hits = q_hits.hit_map(acc_mapper)\n",
    "\n",
    "    oldhits = hmm.hit4hmm2hsp_set.all()\n",
    "    for hit in q_hits:\n",
    "        hsp = hit[0] ### Assume only one dom per hit\n",
    "        jdict = hsp2jdict(hsp, query = hmm )\n",
    "        jdict[\"target_id\"] = sequence.objects.get( acc = jdict[\"target_id\"]).id\n",
    "        if not oldhits.filter(**jdict).exists():\n",
    "            hit_db = hit4hmm2hsp(**jdict)\n",
    "            hit_db.save()\n",
    "#     hmm.hits.filter()\n",
    "#     dis_q = hmm.hit4hmm2hsp_set.distinct()\n",
    "\n",
    "#     dis_q = hmm.hit4hmm2hsp_set.distinct(\"target\")\n",
    "    dis_q = hmm.hit4hmm2hsp_set.values_list(\"target\",flat = True).distinct()\n",
    "    \n",
    "    q = hmm.hit4hmm2hsp_set.all()\n",
    "\n",
    "    if dis_q.count() < q.count():\n",
    "        q = q.exclude(id__in=list(dis_q.values_list(\"id\",flat = True)) )\n",
    "#         q.delete()\n",
    "#         dis_q.update()\n",
    "        \n",
    "    return hmm.hit4hmm2hsp_set"
   ]
  },
  {
   "cell_type": "code",
   "execution_count": 158,
   "metadata": {},
   "outputs": [
    {
     "name": "stdout",
     "output_type": "stream",
     "text": [
      "10234\n",
      "21154\n",
      "finished\n"
     ]
    }
   ],
   "source": [
    "s35A = s35( \"2q09A01\", hmmlib_file = hmmpf_file)\n",
    "s35B = s35( \"8ohmA03\", hmmlib_file = hmmpf_file)\n",
    "print \"finished\"\n",
    "\n",
    "with transaction.atomic():\n",
    "    s35A.hmmsearch(\n",
    "        seqDB_curr = seqDB.objects.get(name = 'CATH'),\n",
    "        seqDB_file = \"$SEQlib/cath-domain-seqs-S100.fa\",\n",
    "    )\n",
    "print s35A.hitset.count()\n",
    "\n",
    "with transaction.atomic():\n",
    "    s35B.hmmsearch(\n",
    "        seqDB_curr = seqDB.objects.get(name = 'CATH'),\n",
    "        seqDB_file = \"$SEQlib/cath-domain-seqs-S100.fa\",\n",
    "    )\n",
    "print s35B.hitset.count()\n",
    "\n",
    "print hit4hmm2hsp.objects.count()"
   ]
  }
 ],
 "metadata": {
  "kernelspec": {
   "display_name": "Django Shell-Plus",
   "language": "python",
   "name": "django_extensions"
  },
  "language_info": {
   "codemirror_mode": {
    "name": "ipython",
    "version": 2
   },
   "file_extension": ".py",
   "mimetype": "text/x-python",
   "name": "python",
   "nbconvert_exporter": "python",
   "pygments_lexer": "ipython2",
   "version": "2.7.12"
  }
 },
 "nbformat": 4,
 "nbformat_minor": 2
}
