{
 "cells": [
  {
   "cell_type": "code",
   "execution_count": 2,
   "metadata": {},
   "outputs": [
    {
     "name": "stderr",
     "output_type": "stream",
     "text": [
      "/home/shouldsee/.local/lib/python2.7/site-packages/Bio/SearchIO/__init__.py:211: BiopythonExperimentalWarning: Bio.SearchIO is an experimental submodule which may undergo significant changes prior to its future official release.\n",
      "  BiopythonExperimentalWarning)\n"
     ]
    }
   ],
   "source": [
    "from Bio import SearchIO"
   ]
  },
  {
   "cell_type": "code",
   "execution_count": 21,
   "metadata": {
    "collapsed": true
   },
   "outputs": [],
   "source": [
    "### Manually generated tmp.hmmpf and tmp.domtbl\n",
    "\n",
    "### \n",
    "wkdir = \"/data/sequence-data/\"\n",
    "hmm_profile = \"%s/tmp.hmmpf\" % wkdir\n",
    "hmm_domtbl = \"%s/tmp.domtbl\" % wkdir\n",
    "\n",
    "\n",
    "# kwargs = {\"format\":\"hmmer3-domtab\"}\n",
    "tbl_format = \"hmmsearch3-domtab\""
   ]
  },
  {
   "cell_type": "code",
   "execution_count": 32,
   "metadata": {
    "scrolled": true
   },
   "outputs": [
    {
     "name": "stdout",
     "output_type": "stream",
     "text": [
      "Program: <unknown program> (<unknown version>)\n",
      "  Query: cath|4_1_0|16pkA01/5-192 (174)\n",
      "         <unknown description>\n",
      " Target: <unknown target>\n",
      "   Hits: ----  -----  ----------------------------------------------------------\n",
      "            #  # HSP  ID + description\n",
      "         ----  -----  ----------------------------------------------------------\n",
      "            0      1  Q8R965.1/6-383  -\n",
      "            1      1  P36204.4/6-386  -\n",
      "            2      1  G0GCY5.1/6-382  -\n",
      "            3      1  E8N4J2.1/7-379  -\n",
      "            4      1  A4XKV2.1/9-390  -\n",
      "            5      1  A0A101H4Q5.1/7-379  -\n",
      "            6      1  A0A101ECE8.1/6-382  -\n",
      "            7      1  I7A1P3.1/10-391  -\n",
      "            8      1  Q67SW6.1/6-380  -\n",
      "            9      1  L7VTZ3.1/9-386  -\n",
      "           10      1  H9UJJ7.1/6-381  -\n",
      "           11      1  F6B4K7.1/6-382  -\n",
      "           12      1  A0A162N146.1/6-383  -\n",
      "           13      1  D7CPH0.1/4-381  -\n",
      "           14      1  F5L4M1.1/6-382  -\n",
      "           15      1  A0A0F2IYE7.1/8-386  -\n",
      "           16      1  F0S0X7.1/19-392  -\n",
      "           17      1  F3ZYC9.1/7-384  -\n",
      "           18      1  A0A078KT03.1/8-386  -\n",
      "           19      1  R6UND5.1/7-382  -\n",
      "           20      1  A0A101E7N8.1/6-380  -\n",
      "           21      1  U2DIP6.1/9-385  -\n",
      "           22      1  R8VT25.1/8-384  -\n",
      "           23      1  B8CYG2.1/5-382  -\n",
      "           24      1  C9R8T1.1/6-381  -\n",
      "           25      1  B8E2D3.1/10-385  -\n",
      "           26      1  A0A125YSW1.1/87-465  -\n",
      "           27      1  A0A0G1FY91.1/4-376  -\n",
      "           28      1  A1HSR2.1/6-383  -\n",
      "           29      1  A0A081SJB2.1/6-386  -\n",
      "           ~~~\n",
      "         1366      1  D4J405.1/8-201  -\n",
      "         1367      1  A0A0G1KIH1.1/275-365  -\n",
      "         1368      1  A0A0N5AA81.1/4-88  -\n",
      "Program: <unknown program> (<unknown version>)\n",
      "  Query: cath|4_1_0|16vpA00/47-402 (306)\n",
      "         <unknown description>\n",
      " Target: <unknown target>\n",
      "   Hits: ----  -----  ----------------------------------------------------------\n",
      "            #  # HSP  ID + description\n",
      "         ----  -----  ----------------------------------------------------------\n",
      "            0      1  P06492.1/44-386  -\n",
      "            1      1  P68336.1/42-384  -\n",
      "            2      1  Q77MR5.1/66-410  -\n",
      "            3      1  P09265.1/49-390  -\n",
      "            4      1  U6MH56.1/1188-1427  -\n",
      "            5      1  A0A0N9Z523.1/31-167  -\n",
      "            6      2  A0A0L8I6M6.1/10-253  -\n",
      "            7      2  F7Q2N3.1/230-460  -\n",
      "            8      1  A0A0F5H045.1/271-434  -\n",
      "            9      1  A0A0G3EJE3.1/5-353  -\n",
      "           10      1  R5Z8M8.1/20-245  -\n",
      "           11      1  N1JFM4.1/1-164  -\n",
      "           12      1  A0A137PDC9.1/526-777  -\n",
      "           13      1  A0A0M2U7Q0.1/1-512  -\n",
      "           14      1  T1FXZ9.1/71-129  -\n",
      "           15      1  H2KR31.1/20-151  -\n",
      "           16      2  R5FU20.1/240-416  -\n",
      "           17      2  A0A0T6A8M5.1/31-244  -\n",
      "           18      1  R5VA36.1/126-263  -\n",
      "           19      1  C3ZZX5.1/231-291  -\n",
      "           20      1  D5G6E4.1/636-797  -\n"
     ]
    }
   ],
   "source": [
    "parser = SearchIO.parse( hmm_domtbl, tbl_format)\n",
    "\n",
    "# SearchIO.parse?\n",
    "# q_hit = next(parser)\n",
    "i = 0\n",
    "for q_hits in parser:\n",
    "#     print q_hit.__dict__\n",
    "    print q_hits\n",
    "    i += 1\n",
    "    if i == 10:\n",
    "        break\n",
    "# SearchIO.parse"
   ]
  },
  {
   "cell_type": "code",
   "execution_count": null,
   "metadata": {
    "collapsed": true
   },
   "outputs": [],
   "source": []
  },
  {
   "cell_type": "code",
   "execution_count": null,
   "metadata": {
    "collapsed": true
   },
   "outputs": [],
   "source": [
    "# q_hit.to_dict\n",
    "# SearchIO.to_dict(q_hit)\n",
    "hit = q_hits[0]\n",
    "print hit\n",
    "# hit?\n",
    "# hit.\n",
    "hit.evalue\n",
    "hit.bitscore\n",
    "hit.id\n",
    "hit.query_id"
   ]
  },
  {
   "cell_type": "code",
   "execution_count": 45,
   "metadata": {},
   "outputs": [
    {
     "name": "stdout",
     "output_type": "stream",
     "text": [
      "Query: cath|4_1_0|16vpA00/47-402\n",
      "       <unknown description>\n",
      "  Hit: P06492.1/44-386 (343)\n",
      "       -\n",
      " HSPs: ----  --------  ---------  ------  ---------------  ---------------------\n",
      "          #   E-value  Bit score    Span      Query range              Hit range\n",
      "       ----  --------  ---------  ------  ---------------  ---------------------\n",
      "          0  1.1e-136     463.40       ?          [0:303]                [7:310]\n"
     ]
    },
    {
     "data": {
      "text/plain": [
       "'P06492.1/44-386'"
      ]
     },
     "execution_count": 45,
     "metadata": {},
     "output_type": "execute_result"
    }
   ],
   "source": [
    "### model.py\n",
    "class hit(object)\n",
    "# hit.proteindb"
   ]
  }
 ],
 "metadata": {
  "kernelspec": {
   "display_name": "Django Shell-Plus",
   "language": "python",
   "name": "django_extensions"
  },
  "language_info": {
   "codemirror_mode": {
    "name": "ipython",
    "version": 2
   },
   "file_extension": ".py",
   "mimetype": "text/x-python",
   "name": "python",
   "nbconvert_exporter": "python",
   "pygments_lexer": "ipython2",
   "version": "2.7.12"
  }
 },
 "nbformat": 4,
 "nbformat_minor": 2
}
