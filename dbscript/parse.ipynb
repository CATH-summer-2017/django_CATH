{
 "cells": [
  {
   "cell_type": "code",
   "execution_count": 1,
   "metadata": {},
   "outputs": [
    {
     "name": "stderr",
     "output_type": "stream",
     "text": [
      "/export/people/zcbtfge/Documents/repos/test_envs/django_CATH/local/lib/python2.7/site-packages/Bio/SearchIO/__init__.py:211: BiopythonExperimentalWarning: Bio.SearchIO is an experimental submodule which may undergo significant changes prior to its future official release.\n",
      "  BiopythonExperimentalWarning)\n"
     ]
    }
   ],
   "source": [
    "from Bio import SearchIO"
   ]
  },
  {
   "cell_type": "code",
   "execution_count": 31,
   "metadata": {},
   "outputs": [
    {
     "ename": "StopIteration",
     "evalue": "",
     "output_type": "error",
     "traceback": [
      "\u001b[0;31m---------------------------------------------------------------------------\u001b[0m",
      "\u001b[0;31mStopIteration\u001b[0m                             Traceback (most recent call last)",
      "\u001b[0;32m<ipython-input-31-d8ee7e081e0c>\u001b[0m in \u001b[0;36m<module>\u001b[0;34m()\u001b[0m\n\u001b[1;32m     56\u001b[0m \u001b[0;34m\u001b[0m\u001b[0m\n\u001b[1;32m     57\u001b[0m \u001b[0mg\u001b[0m \u001b[0;34m=\u001b[0m \u001b[0mSearchIO\u001b[0m\u001b[0;34m.\u001b[0m\u001b[0mparse\u001b[0m\u001b[0;34m(\u001b[0m \u001b[0mf\u001b[0m \u001b[0;34m,\u001b[0m\u001b[0;34m'hmmsearch3-domtab'\u001b[0m \u001b[0;34m)\u001b[0m\u001b[0;34m\u001b[0m\u001b[0m\n\u001b[0;32m---> 58\u001b[0;31m \u001b[0;32mprint\u001b[0m \u001b[0mnext\u001b[0m\u001b[0;34m(\u001b[0m\u001b[0mg\u001b[0m\u001b[0;34m)\u001b[0m\u001b[0;34m\u001b[0m\u001b[0m\n\u001b[0m\u001b[1;32m     59\u001b[0m \u001b[0;32mprint\u001b[0m \u001b[0mnext\u001b[0m\u001b[0;34m(\u001b[0m\u001b[0mg\u001b[0m\u001b[0;34m)\u001b[0m\u001b[0;34m\u001b[0m\u001b[0m\n",
      "\u001b[0;31mStopIteration\u001b[0m: "
     ]
    }
   ],
   "source": [
    "hi = '''cath|4_1_0|4jx4C02/537-824         -            288 cath|4_1_0|8abpA01/2-108_255-285 -            137       2.8   10.3   3.1   1   1     0.061       8.2    8.8   3.1    16   129    95   247    73   250 0.79 -\n",
    "cath|4_1_0|4jx4D02/537-824         -            288 cath|4_1_0|8abpA01/2-108_255-285 -            137       2.8   10.3   3.1   1   1     0.061       8.2    8.8   3.1    16   129    95   247    73   250 0.79 -\n",
    "cath|4_1_0|4jx5A02/537-824         -            288 cath|4_1_0|8abpA01/2-108_255-285 -            137       2.8   10.3   3.1   1   1     0.061       8.2    8.8   3.1    16   129    95   247    73   250 0.79 -\n",
    "cath|4_1_0|4jx5B02/537-824         -            288 cath|4_1_0|8abpA01/2-108_255-285 -            137       2.8   10.3   3.1   1   1     0.061       8.2    8.8   3.1    16   129    95   247    73   250 0.79 -\n",
    "cath|4_1_0|4jx5C02/537-824         -            288 cath|4_1_0|8abpA01/2-108_255-285 -            137       2.8   10.3   3.1   1   1     0.061       8.2    8.8   3.1    16   129    95   247    73   250 0.79 -\n",
    "cath|4_1_0|4jx5D02/537-824         -            288 cath|4_1_0|8abpA01/2-108_255-285 -            137       2.8   10.3   3.1   1   1     0.061       8.2    8.8   3.1    16   129    95   247    73   250 0.79 -\n",
    "cath|4_1_0|4locA02/537-824         -            288 cath|4_1_0|8abpA01/2-108_255-285 -            137       2.8   10.3   3.1   1   1     0.061       8.2    8.8   3.1    16   129    95   247    73   250 0.79 -\n",
    "cath|4_1_0|4locB02/537-824         -            288 cath|4_1_0|8abpA01/2-108_255-285 -            137       2.8   10.3   3.1   1   1     0.061       8.2    8.8   3.1    16   129    95   247    73   250 0.79 -\n",
    "cath|4_1_0|4locC02/537-824         -            288 cath|4_1_0|8abpA01/2-108_255-285 -            137       2.8   10.3   3.1   1   1     0.061       8.2    8.8   3.1    16   129    95   247    73   250 0.79 -\n",
    "cath|4_1_0|4locD02/537-824         -            288 cath|4_1_0|8abpA01/2-108_255-285 -            137       2.8   10.3   3.1   1   1     0.061       8.2    8.8   3.1    16   129    95   247    73   250 0.79 -\n",
    "cath|4_1_0|4m6vA02/537-824         -            288 cath|4_1_0|8abpA01/2-108_255-285 -            137       2.8   10.3   3.1   1   1     0.061       8.2    8.8   3.1    16   129    95   247    73   250 0.79 -\n",
    "cath|4_1_0|4m6vB02/537-824         -            288 cath|4_1_0|8abpA01/2-108_255-285 -            137       2.8   10.3   3.1   1   1     0.061       8.2    8.8   3.1    16   129    95   247    73   250 0.79 -\n",
    "cath|4_1_0|4m6vC02/537-824         -            288 cath|4_1_0|8abpA01/2-108_255-285 -            137       2.8   10.3   3.1   1   1     0.061       8.2    8.8   3.1    16   129    95   247    73   250 0.79 -\n",
    "cath|4_1_0|4m6vD02/537-824         -            288 cath|4_1_0|8abpA01/2-108_255-285 -            137       2.8   10.3   3.1   1   1     0.061       8.2    8.8   3.1    16   129    95   247    73   250 0.79 -\n",
    "cath|4_1_0|4mfdA02/537-824         -            288 cath|4_1_0|8abpA01/2-108_255-285 -            137       2.8   10.3   3.1   1   1     0.061       8.2    8.8   3.1    16   129    95   247    73   250 0.79 -\n",
    "cath|4_1_0|4mfdB02/537-824         -            288 cath|4_1_0|8abpA01/2-108_255-285 -            137       2.8   10.3   3.1   1   1     0.061       8.2    8.8   3.1    16   129    95   247    73   250 0.79 -\n",
    "cath|4_1_0|4mfdC02/537-824         -            288 cath|4_1_0|8abpA01/2-108_255-285 -            137       2.8   10.3   3.1   1   1     0.061       8.2    8.8   3.1    16   129    95   247    73   250 0.79 -\n",
    "cath|4_1_0|4mfdD02/537-824         -            288 cath|4_1_0|8abpA01/2-108_255-285 -            137       2.8   10.3   3.1   1   1     0.061       8.2    8.8   3.1    16   129    95   247    73   250 0.79 -\n",
    "cath|4_1_0|4mfeA02/537-824         -            288 cath|4_1_0|8abpA01/2-108_255-285 -            137       2.8   10.3   3.1   1   1     0.061       8.2    8.8   3.1    16   129    95   247    73   250 0.79 -\n",
    "cath|4_1_0|4mfeB02/537-824         -            288 cath|4_1_0|8abpA01/2-108_255-285 -            137       2.8   10.3   3.1   1   1     0.061       8.2    8.8   3.1    16   129    95   247    73   250 0.79 -\n",
    "cath|4_1_0|4mfeC02/537-824         -            288 cath|4_1_0|8abpA01/2-108_255-285 -            137       2.8   10.3   3.1   1   1     0.061       8.2    8.8   3.1    16   129    95   247    73   250 0.79 -\n",
    "cath|4_1_0|4mfeD02/537-824         -            288 cath|4_1_0|8abpA01/2-108_255-285 -            137       2.8   10.3   3.1   1   1     0.061       8.2    8.8   3.1    16   129    95   247    73   250 0.79 -\n",
    "cath|4_1_0|4mimA02/537-824         -            288 cath|4_1_0|8abpA01/2-108_255-285 -            137       2.8   10.3   3.1   1   1     0.061       8.2    8.8   3.1    16   129    95   247    73   250 0.79 -\n",
    "cath|4_1_0|4mimB02/537-824         -            288 cath|4_1_0|8abpA01/2-108_255-285 -            137       2.8   10.3   3.1   1   1     0.061       8.2    8.8   3.1    16   129    95   247    73   250 0.79 -\n",
    "cath|4_1_0|4mimC02/537-824         -            288 cath|4_1_0|8abpA01/2-108_255-285 -            137       2.8   10.3   3.1   1   1     0.061       8.2    8.8   3.1    16   129    95   247    73   250 0.79 -\n",
    "cath|4_1_0|4mimD02/537-824         -            288 cath|4_1_0|8abpA01/2-108_255-285 -            137       2.8   10.3   3.1   1   1     0.061       8.2    8.8   3.1    16   129    95   247    73   250 0.79 -\n",
    "cath|4_1_0|1q7cA00/2-244           -            244 cath|4_1_0|8abpA01/2-108_255-285 -            137       2.9   10.3   4.0   1   1       0.1        14    8.0   4.0    17    83    14    82     4   231 0.88 -\n",
    "cath|4_1_0|2qf7A04/517-826         -            310 cath|4_1_0|8abpA01/2-108_255-285 -            137       3.6    9.9   3.1   1   1     0.076        10    8.5   3.1    16   129   115   267    93   270 0.78 -\n",
    "cath|4_1_0|2qf7B05/517-826         -            310 cath|4_1_0|8abpA01/2-108_255-285 -            137       3.6    9.9   3.1   1   1     0.076        10    8.5   3.1    16   129   115   267    93   270 0.78 -\n",
    "cath|4_1_0|4mjmA00/4-470           -            336 cath|4_1_0|8abpA01/2-108_255-285 -            137       8.8    8.7   7.1   1   1      0.32        44    6.4   5.1    26   113   136   223   108   259 0.68 -\n",
    "cath|4_1_0|4lvuA00/18-271          -            254 cath|4_1_0|8abpA01/2-108_255-285 -            137       9.2    8.6   8.5   1   1      0.29        39    6.6   8.5    19    94    23   112    16   182 0.65 -\n",
    "cath|4_1_0|3kqnA03/431-451_484-625 -            163 cath|4_1_0|8ohmA03/431-451_484-624 -            140   1.1e-72  244.5   1.9   1   1   1.4e-76   1.3e-72  244.3   1.9     1   140    17   161    17   161 0.99 -\n",
    "cath|4_1_0|2f55A03/431-451_484-624 -            162 cath|4_1_0|8ohmA03/431-451_484-624 -            140   1.3e-72  244.3   1.3   1   1   1.7e-76   1.5e-72  244.1   1.3     1   140    17   161    17   161 0.99 -\n",
    "cath|4_1_0|2zjoA03/431-451_484-630 -            175 cath|4_1_0|8ohmA03/431-451_484-624 -            140     3e-72  243.1   2.2   1   1   3.9e-76   3.5e-72  242.9   2.2     1   140    17   161    17   161 0.99 -\n",
    "cath|4_1_0|1a1vA03/432-451_484-624 -            161 cath|4_1_0|8ohmA03/431-451_484-624 -            140   6.7e-72  242.0   1.5   1   1   8.5e-76   7.6e-72  241.8   1.5     1   140    16   160    16   160 0.99 -\n",
    "cath|4_1_0|1heiA03/432-451_484-620 -            157 cath|4_1_0|8ohmA03/431-451_484-624 -            140   4.9e-70  235.9   0.9   1   1   6.2e-74   5.6e-70  235.8   0.9     1   137    16   157    16   157 0.99 -\n",
    "cath|4_1_0|8ohmA03/431-451_484-624 -            162 cath|4_1_0|8ohmA03/431-451_484-624 -            140   6.3e-70  235.6   1.3   1   1     8e-74   7.1e-70  235.4   1.3     2   140    18   161    17   161 0.99 -\n",
    "cath|4_1_0|3o8bA05/487-620         -            134 cath|4_1_0|8ohmA03/431-451_484-624 -            140   1.7e-66  224.5   0.6   1   1   2.1e-70   1.8e-66  224.4   0.6     9   137     1   134     1   134 0.99 -\n",
    "cath|4_1_0|1mngA01/21-91           -             71 cath|4_1_0|8ohmA03/431-451_484-624 -            140      0.13   14.2   0.0   1   1   1.5e-05      0.13   14.2   0.0    62   102     8    50     2    69 0.82 -\n",
    "cath|4_1_0|1oy0A00/18-279          -            264 cath|4_1_0|8ohmA03/431-451_484-624 -            140      0.38   12.7   0.0   1   1   8.2e-05      0.73   11.8   0.0    62    90     2    30     2    37 0.90 -\n",
    "'''\n",
    "\n",
    "\n",
    "# hi = '''#                                                                                            --- full sequence --- -------------- this domain -------------   hmm coord   ali coord   env coord\n",
    "# # target name                    accession   tlen query name               accession   qlen   E-value  score  bias   #  of  c-Evalue  i-Evalue  score  bias  from    to  from    to  from    to  acc description of target\n",
    "# #            ------------------- ---------- -----     -------------------- ---------- ----- --------- ------ ----- --- --- --------- --------- ------ ----- ----- ----- ----- ----- ----- ----- ---- ---------------------\n",
    "# '''\n",
    "# with open('tmp','w') as f:\n",
    "#     f.write(hi)\n",
    "\n",
    "import io\n",
    "f = io.StringIO()\n",
    "f.write( unicode(hi) )\n",
    "\n",
    "# f.write( hi )\n",
    "\n",
    "g = SearchIO.parse( f ,'hmmsearch3-domtab' )\n",
    "print next(g)\n",
    "print next(g)"
   ]
  },
  {
   "cell_type": "code",
   "execution_count": 45,
   "metadata": {},
   "outputs": [
    {
     "data": {
      "text/plain": [
       "<__main__.Y at 0x7ff57f7de710>"
      ]
     },
     "execution_count": 45,
     "metadata": {},
     "output_type": "execute_result"
    }
   ],
   "source": [
    "class X(object):\n",
    "  def __init__(self, x):\n",
    "    pass\n",
    "\n",
    "  def doit(self, bar):\n",
    "    pass\n",
    "\n",
    "class Y(X):\n",
    "  def __init__(self):\n",
    "    super(Y, self).__init__(123)\n",
    "\n",
    "  def doit(self, foo):\n",
    "    return super(Y, self).doit(foo)\n",
    "# Y()"
   ]
  },
  {
   "cell_type": "code",
   "execution_count": 50,
   "metadata": {},
   "outputs": [],
   "source": [
    "# del fakefile\n",
    "# type(StringIO)\n",
    "StringIO?"
   ]
  },
  {
   "cell_type": "code",
   "execution_count": 68,
   "metadata": {
    "collapsed": true
   },
   "outputs": [],
   "source": [
    "with open('tmp','w') as f:\n",
    "    f.write(hi)\n",
    "l = open('tmp','r').readlines()"
   ]
  },
  {
   "cell_type": "code",
   "execution_count": 69,
   "metadata": {},
   "outputs": [],
   "source": [
    "from StringIO import StringIO\n",
    "class fakefile():\n",
    "    def __init__(self):\n",
    "#         super( fakefile , self)\n",
    "#         SuperClass.__init__()\n",
    "        self.s = StringIO()\n",
    "        self.write = self.s.write\n",
    "        self.read = self.s.getvalue\n",
    "        self.readlines = lambda : ['%s/n'%x for x in self.s.getvalue().splitlines()]\n",
    "#     def readlines(self):\n",
    "# #         s = \n",
    "#         self.readlines = self.s.getvalue()\n",
    "#     def write(self,s)\n",
    "#         self.\n",
    "#         self = StringIO\n",
    "    \n",
    "# dir(fakefile())\n",
    "f = fakefile()\n",
    "f.write(hi)\n",
    "f.readlines()\n",
    "# f.read()\n",
    "#     io.StringIO"
   ]
  },
  {
   "cell_type": "code",
   "execution_count": 35,
   "metadata": {
    "collapsed": true
   },
   "outputs": [],
   "source": []
  },
  {
   "cell_type": "code",
   "execution_count": 34,
   "metadata": {},
   "outputs": [
    {
     "name": "stdout",
     "output_type": "stream",
     "text": [
      "\n"
     ]
    }
   ],
   "source": [
    "f = io.StringIO()\n",
    "f.write( unicode(hi) )\n",
    "print f.read()\n",
    "# import io\n"
   ]
  },
  {
   "cell_type": "code",
   "execution_count": 12,
   "metadata": {},
   "outputs": [],
   "source": [
    "from tst.domutil.util import *\n",
    "INPUT = full('$SEQlib/hmm/CATHS100.domtbl')\n",
    "with open(INPUT,'r') as f:\n",
    "    g = f.readlines()"
   ]
  },
  {
   "cell_type": "code",
   "execution_count": 14,
   "metadata": {},
   "outputs": [
    {
     "data": {
      "text/plain": [
       "5538468"
      ]
     },
     "execution_count": 14,
     "metadata": {},
     "output_type": "execute_result"
    }
   ],
   "source": [
    "# type(g)\n",
    "len(g)"
   ]
  }
 ],
 "metadata": {
  "kernelspec": {
   "display_name": "Django Shell-Plus",
   "language": "python",
   "name": "django_extensions"
  },
  "language_info": {
   "codemirror_mode": {
    "name": "ipython",
    "version": 2
   },
   "file_extension": ".py",
   "mimetype": "text/x-python",
   "name": "python",
   "nbconvert_exporter": "python",
   "pygments_lexer": "ipython2",
   "version": "2.7.12"
  }
 },
 "nbformat": 4,
 "nbformat_minor": 2
}
