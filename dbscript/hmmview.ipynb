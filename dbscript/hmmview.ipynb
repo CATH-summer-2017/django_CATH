{
 "cells": [
  {
   "cell_type": "code",
   "execution_count": null,
   "metadata": {
    "collapsed": true
   },
   "outputs": [],
   "source": [
    "print hit4hmm2hsp.objects.count()\n",
    "# s35s = classification.objects.all()\n",
    "# s35 = s35s[12]"
   ]
  },
  {
   "cell_type": "code",
   "execution_count": 1,
   "metadata": {},
   "outputs": [
    {
     "name": "stderr",
     "output_type": "stream",
     "text": [
      "/export/people/zcbtfge/Documents/repos/test_envs/django_CATH/local/lib/python2.7/site-packages/subprocess32.py:472: RuntimeWarning: The _posixsubprocess module is not being used. Child process reliability may suffer if your program uses threads.\n",
      "  \"program uses threads.\", RuntimeWarning)\n",
      "/export/people/zcbtfge/Documents/repos/test_envs/django_CATH/local/lib/python2.7/site-packages/Bio/SearchIO/__init__.py:211: BiopythonExperimentalWarning: Bio.SearchIO is an experimental submodule which may undergo significant changes prior to its future official release.\n",
      "  BiopythonExperimentalWarning)\n"
     ]
    }
   ],
   "source": [
    "import matplotlib\n",
    "matplotlib.use(\"Agg\")\n",
    "from matplotlib import pyplot as plt\n",
    "%matplotlib inline\n",
    "\n",
    "import os\n",
    "os.environ[\"SEQlib\"] = '/data/sequence-data'\n",
    "os.environ[\"SEQlib\"] = '$repos/cathdb'\n",
    "import re\n",
    "\n",
    "p_hmmlen = re.compile('LENG  (\\d+)\\n')\n",
    "\n",
    "import numpy as np\n",
    "from tst.domutil.util import *\n",
    "from time import time"
   ]
  },
  {
   "cell_type": "code",
   "execution_count": 3,
   "metadata": {},
   "outputs": [
    {
     "name": "stdout",
     "output_type": "stream",
     "text": [
      "32.472258091\n"
     ]
    }
   ],
   "source": [
    "from time import time \n",
    "import cPickle as pk\n",
    "t0 = time()\n",
    "# pk.dump(D,open('CATHS100.pk','wb'))\n",
    "D = pk.load(open('data/CATHS100.pk','rb'))\n",
    "# np.ndarray?\n",
    "print time() - t0"
   ]
  },
  {
   "cell_type": "code",
   "execution_count": null,
   "metadata": {
    "collapsed": true
   },
   "outputs": [],
   "source": [
    "# hmms = HMMprofile.objects.all()[:200]\n",
    "oall_hmms = HMMprofile.objects.defer('text').all().annotate(hcount = Count('hits')).order_by('-hcount')"
   ]
  },
  {
   "cell_type": "code",
   "execution_count": null,
   "metadata": {
    "collapsed": true
   },
   "outputs": [],
   "source": [
    "lgs = [int(p_hmmlen.findall(hmm.text)[0]) for hmm in oall_hmms]"
   ]
  },
  {
   "cell_type": "code",
   "execution_count": null,
   "metadata": {
    "collapsed": true
   },
   "outputs": [],
   "source": [
    "hmms = HMMprofile.objects.all().order_by\n",
    "xs = []\n",
    "ys = []\n",
    "for hmm in hmms:\n",
    "    hmm_text = hmm.text\n",
    "    y = hmm.hits.count()\n",
    "    if y:\n",
    "        xs += [int(p_hmmlen.findall(hmm_text)[0])]\n",
    "        ys += [ y ]\n",
    "    \n",
    "kwargs = {}\n",
    "    \n",
    "plt.close()\n",
    "siz = [450,400]\n",
    "DPI=100.\n",
    "fig = plt.figure(figsize = [x/float(DPI) for x in siz], dpi=DPI)\n",
    "ax1 = fig.add_subplot(111,**kwargs)\n",
    "ax1.set_yscale('log')\n",
    "points = ax1.scatter(xs,ys, \n",
    "    # colors,\n",
    "    edgecolor = 'b',facecolor = 'b',\n",
    "    # edgecolor = 'r',facecolor = 'r',\n",
    "    marker ='o',\n",
    "    # c = colors,\n",
    "     s =100,\n",
    "     alpha = 0.15,\n",
    "     # **kwargs\n",
    "     )\n"
   ]
  },
  {
   "cell_type": "code",
   "execution_count": null,
   "metadata": {
    "collapsed": true
   },
   "outputs": [],
   "source": [
    "hmms = oall_hmms\n",
    "# xs = []\n",
    "# ys = []\n",
    "# for hmm in hmms:\n",
    "#     hmm_text = hmm.text\n",
    "#     y = hmm.hits.count()\n",
    "#     if y:\n",
    "#         xs += [int(p_hmmlen.findall(hmm_text)[0])]\n",
    "#         ys += [ y ]\n",
    "xdata  = hmms.values_list('hcount',flat = True)\n",
    "# xs = [x for x in xdata if x>10]"
   ]
  },
  {
   "cell_type": "code",
   "execution_count": null,
   "metadata": {
    "collapsed": true
   },
   "outputs": [],
   "source": [
    "kwargs = {}\n",
    "plt.close()\n",
    "siz = [450,400]\n",
    "DPI=100.\n",
    "fig = plt.figure(figsize = [x/float(DPI) for x in siz], dpi=DPI)\n",
    "ax1 = fig.add_subplot(111,**kwargs)\n",
    "# ax1.set_yscale('log')\n",
    "# ax1.set_xscale('log')\n",
    "xs = np.maximum(0,np.log(1+np.array(xdata)))\n",
    "bins = ax1.hist(xs,300, \n",
    "    # colors,\n",
    "    edgecolor = 'b',facecolor = 'b',\n",
    "    # edgecolor = 'r',facecolor = 'r',\n",
    "#     marker ='o',\n",
    "    # c = colors,\n",
    "#      s =100,\n",
    "#      alpha = 0.15,\n",
    "     # **kwargs\n",
    "     )"
   ]
  },
  {
   "cell_type": "code",
   "execution_count": 10,
   "metadata": {
    "scrolled": true
   },
   "outputs": [
    {
     "name": "stdout",
     "output_type": "stream",
     "text": [
      "0 of 6563388\n"
     ]
    },
    {
     "ename": "IndexError",
     "evalue": "list index out of range",
     "output_type": "error",
     "traceback": [
      "\u001b[0;31m---------------------------------------------------------------------------\u001b[0m",
      "\u001b[0;31mIndexError\u001b[0m                                Traceback (most recent call last)",
      "\u001b[0;32m<ipython-input-10-b358479beaf4>\u001b[0m in \u001b[0;36m<module>\u001b[0;34m()\u001b[0m\n\u001b[1;32m     14\u001b[0m \u001b[0;31m#     xct =\u001b[0m\u001b[0;34m\u001b[0m\u001b[0;34m\u001b[0m\u001b[0m\n\u001b[1;32m     15\u001b[0m     \u001b[0mx\u001b[0m \u001b[0;34m=\u001b[0m \u001b[0mhcounts\u001b[0m\u001b[0;34m[\u001b[0m\u001b[0mxi\u001b[0m\u001b[0;34m]\u001b[0m\u001b[0;34m\u001b[0m\u001b[0m\n\u001b[0;32m---> 16\u001b[0;31m     \u001b[0my\u001b[0m \u001b[0;34m=\u001b[0m \u001b[0mhcounts\u001b[0m\u001b[0;34m[\u001b[0m\u001b[0myi\u001b[0m\u001b[0;34m]\u001b[0m\u001b[0;34m\u001b[0m\u001b[0m\n\u001b[0m\u001b[1;32m     17\u001b[0m \u001b[0;34m\u001b[0m\u001b[0m\n\u001b[1;32m     18\u001b[0m     \u001b[0mxs\u001b[0m\u001b[0;34m.\u001b[0m\u001b[0mappend\u001b[0m\u001b[0;34m(\u001b[0m \u001b[0mx\u001b[0m \u001b[0;34m)\u001b[0m\u001b[0;34m\u001b[0m\u001b[0m\n",
      "\u001b[0;31mIndexError\u001b[0m: list index out of range"
     ]
    }
   ],
   "source": [
    "from tst.domutil.util import *\n",
    "# its = D.iteritems()\n",
    "its = using_tocoo_izip(D)\n",
    "\n",
    "xs = []\n",
    "ys = []\n",
    "zs = []\n",
    "sfbools = [];\n",
    "\n",
    "c = counter(range(6563388),per = 100000)\n",
    "\n",
    "for xi,yi,inter_ct in its:\n",
    "    c.count()\n",
    "#     xct = \n",
    "    x = hcounts[xi]\n",
    "    y = hcounts[yi]\n",
    "\n",
    "    xs.append( x )\n",
    "    ys.append( y )\n",
    "    zs.append(inter_ct)\n",
    "    sfbools.append(sfs[xi]==sfs[yi])\n",
    "#     normz = log10()\n",
    "# print next(its)\n",
    "# print next(its)\n",
    "\n",
    "# ys "
   ]
  },
  {
   "cell_type": "code",
   "execution_count": null,
   "metadata": {
    "collapsed": true
   },
   "outputs": [],
   "source": [
    "xss = np.log10(np.array(xs)+1)\n",
    "yss = np.log10(np.array(ys)+1)\n",
    "zss = np.log10(np.array(zs)+1)"
   ]
  },
  {
   "cell_type": "code",
   "execution_count": null,
   "metadata": {
    "collapsed": true
   },
   "outputs": [],
   "source": [
    "normz = (xss+yss)/2.-zss"
   ]
  },
  {
   "cell_type": "code",
   "execution_count": null,
   "metadata": {
    "collapsed": true
   },
   "outputs": [],
   "source": [
    "import sys\n",
    "print >>sys.__stdout__, next(D.iteritems())"
   ]
  },
  {
   "cell_type": "code",
   "execution_count": null,
   "metadata": {
    "collapsed": true
   },
   "outputs": [],
   "source": [
    "from scipy.sparse import *\n",
    "import numpy as np\n",
    "\n",
    "Dnorm = coo_matrix( (normz ,zip(*[k for k,v in D.items()]) ),shape = D.shape, dtype = 'float')\n",
    "\n",
    "\n"
   ]
  },
  {
   "cell_type": "code",
   "execution_count": null,
   "metadata": {
    "collapsed": true
   },
   "outputs": [],
   "source": [
    "c = counter([],INF=1)\n",
    "\n",
    "cx = X   \n",
    "# for i,j,v in itertools.izip(cx.row, cx.col, cx.data):\n",
    "#     c.count()\n",
    "#     print (i,j,v)\n",
    "for x,y,v in using_tocoo_izip(Dnorm):\n",
    "    c.count()\n",
    "    print>>sys.__stdout__, x,y,v\n",
    "    if c.i == 10:\n",
    "        break\n",
    "    "
   ]
  },
  {
   "cell_type": "code",
   "execution_count": null,
   "metadata": {
    "collapsed": true
   },
   "outputs": [],
   "source": [
    "import cPickle as pk\n",
    "t0 = time()\n",
    "# pdata = [xs,ys,zs,sfbools]\n",
    "pk.dump(Dnorm,open('data/Dnorm','wb'))\n",
    "# pdata  =  pk.load(open('pdata','rb'))\n",
    "# (xs,ys,zs,sfbools) = pdata;\n",
    "\n",
    "print>>sys.__stdout__, time()-t0\n",
    "print \"finished\""
   ]
  },
  {
   "cell_type": "code",
   "execution_count": null,
   "metadata": {
    "collapsed": true
   },
   "outputs": [],
   "source": []
  },
  {
   "cell_type": "code",
   "execution_count": null,
   "metadata": {
    "collapsed": true
   },
   "outputs": [],
   "source": [
    "# kde([[1,2],[12,4],[3,6]])\n",
    "colors = kde([xss,yss,zss])"
   ]
  },
  {
   "cell_type": "code",
   "execution_count": null,
   "metadata": {
    "collapsed": true
   },
   "outputs": [],
   "source": [
    "import matplotlib\n",
    "%matplotlib inline\n",
    "from matplotlib import cm\n",
    "from matplotlib import pyplot as plt\n",
    "from mpl_toolkits.mplot3d import Axes3D\n",
    "kwargs = {\n",
    "    'projection':'3d',\n",
    "}\n",
    "plt.close()\n",
    "siz = [450,400]\n",
    "DPI=100.\n",
    "fig = plt.figure(figsize = [x/float(DPI) for x in siz], dpi=DPI)\n",
    "ax1 = fig.add_subplot(111,**kwargs)\n",
    "# idx = range(1000)\n",
    "N = 1000\n",
    "xss = np.array(xs)\n",
    "yss = np.array(ys) \n",
    "zss = np.array(zs)\n",
    "\n",
    "idx = sfbools\n",
    "xss = np.delete(xss,idx)\n",
    "yss = np.delete(yss,idx)\n",
    "zss = np.delete(zss,idx)\n",
    "\n",
    "xss= np.array(xss[:N])\n",
    "yss = np.array(yss[:N])\n",
    "zss = np.array(zss[:N])\n",
    "\n",
    "xss = np.log10(xss+1)\n",
    "yss = np.log10(yss+1)\n",
    "zss = np.log10(zss+1)\n",
    "\n",
    "xyz = np.vstack([xss,yss,zss])\n",
    "kde = stats.gaussian_kde(xyz)\n",
    "# ax1.set_zlim([0,2000])\n",
    "\n",
    "ax1.scatter(xss,yss,zss,'.',3, c = kde([xss,yss,zss]))\n",
    "\n",
    "X = np.linspace(xss.min(), xss.max(),30)\n",
    "Y = np.linspace(yss.min(), yss.max(),30)\n",
    "# Z = np.linspace(zss.min(), zss.max(),30)\n",
    "# Y = np.arange(-5, 5, 0.25)\n",
    "X, Y = np.meshgrid(X, Y)\n",
    "Z = (X + Y) / 2 - 2\n",
    "surf = ax1.plot_surface(X, Y, Z, cmap=cm.coolwarm, alpha = 0.5, \n",
    "                       linewidth=0, antialiased=False)"
   ]
  },
  {
   "cell_type": "code",
   "execution_count": null,
   "metadata": {
    "collapsed": true
   },
   "outputs": [],
   "source": [
    "anim_0 = anim\n",
    "HTML(anim_0.to_html5_video())"
   ]
  },
  {
   "cell_type": "code",
   "execution_count": null,
   "metadata": {
    "collapsed": true
   },
   "outputs": [],
   "source": [
    "fig = plt.figure(figsize = [x/float(DPI) for x in siz], dpi=DPI)\n",
    "ax1 = fig.add_subplot(111,**kwargs)\n",
    "\n",
    "def init():\n",
    "#     ax1 = fig.add_subplot(111,**kwargs)\n",
    "    pts = ax1.scatter(xss,yss,zss,'.',3, c = kde([xss,yss,zss]))# for angle in range(0, 360):\n",
    "    surf = ax1.plot_surface(X, Y, Z, cmap=cm.coolwarm, alpha = 0.5, \n",
    "                       linewidth=0, antialiased=False)\n",
    "    return (fig,)\n",
    "\n",
    "\n",
    "def animate(i):\n",
    "#     angle = i*0.5\n",
    "#     pts = ax1.scatter(xss,yss,zss,'.',3, c = kde([xss,yss,zss]))# for angle in range(0, 360):\n",
    "#     ax1.view_init(30, angle\n",
    "    ax1.view_init(elev=10., azim=i*10)\n",
    "#     plt.draw()\n",
    "#     plt.pause(.001)\n",
    "    return (fig,)\n",
    "anim = animation.FuncAnimation(fig, animate, init_func=init,\n",
    "                               frames=360, interval=20, blit=True);\n",
    "HTML(anim.to_html5_video())"
   ]
  },
  {
   "cell_type": "code",
   "execution_count": null,
   "metadata": {
    "collapsed": true
   },
   "outputs": [],
   "source": [
    "animation.FuncAnimation?"
   ]
  },
  {
   "cell_type": "code",
   "execution_count": null,
   "metadata": {
    "collapsed": true
   },
   "outputs": [],
   "source": [
    "anim_2 = anim\n",
    "HTML(anim_2.to_html5_video())"
   ]
  },
  {
   "cell_type": "code",
   "execution_count": null,
   "metadata": {
    "collapsed": true
   },
   "outputs": [],
   "source": [
    "\n",
    "from matplotlib import animation, rc\n",
    "from IPython.display import HTML\n",
    "\n",
    "fig = plt.figure(figsize = [x/float(DPI) for x in siz], dpi=DPI)\n",
    "ax1 = fig.add_subplot(111,**kwargs)\n",
    "ax1.scatter(xss,yss,zss,'.',3, c = kde([xss,yss,zss]))# for angle in range(0, 360):\n",
    "\n",
    "for angle in range(0, 360):\n",
    "    ax1.view_init(30, angle)\n",
    "    plt.draw()\n",
    "    plt.pause(.001)\n",
    "angle = 110\n",
    "ax1.view_init(30, angle)\n",
    "# plt.draw()\n",
    "# plt.show()\n",
    "# plt.pause(.001)\n",
    "# print \n",
    "# ax1.set_yscale('log')\n",
    "# ax1.set_xscale('log')\n",
    "# ax1.xaxis.set_scale('log')\n",
    "# ax1.yaxis.set_scale('log')"
   ]
  },
  {
   "cell_type": "code",
   "execution_count": null,
   "metadata": {
    "collapsed": true
   },
   "outputs": [],
   "source": [
    "for angle in range(0, 360):\n",
    "    ax1.view_init(30, angle)\n",
    "    plt.draw()\n",
    "#     plt.show()\n",
    "    plt.pause(.001)"
   ]
  },
  {
   "cell_type": "code",
   "execution_count": null,
   "metadata": {
    "collapsed": true
   },
   "outputs": [],
   "source": [
    "import cPickle as pk\n",
    "t0 = time()\n",
    "# pdata = [xs,ys,zs,sfbools]\n",
    "# pk.dump(pdata,open('pdata','wb'))\n",
    "pdata  =  pk.load(open('pdata','rb'))\n",
    "(xs,ys,zs,sfbools) = pdata;\n",
    "\n",
    "print time()-t0\n",
    "print \"finished\""
   ]
  },
  {
   "cell_type": "code",
   "execution_count": null,
   "metadata": {
    "collapsed": true
   },
   "outputs": [],
   "source": [
    "x = np.array(xs)\n",
    "y = np.array(ys)\n",
    "z = np.array(zs)\n",
    "idx = z>10"
   ]
  },
  {
   "cell_type": "code",
   "execution_count": null,
   "metadata": {
    "collapsed": true
   },
   "outputs": [],
   "source": [
    "print sum(idx)"
   ]
  },
  {
   "cell_type": "code",
   "execution_count": null,
   "metadata": {
    "collapsed": true
   },
   "outputs": [],
   "source": [
    "x = np.log(x[idx]+1)\n",
    "y = np.log(y[idx]+1)\n",
    "z = np.log(z[idx]+1)"
   ]
  },
  {
   "cell_type": "code",
   "execution_count": null,
   "metadata": {
    "collapsed": true
   },
   "outputs": [],
   "source": [
    "# sum(sfbools)\n",
    "np.where(sfbools) == 0"
   ]
  },
  {
   "cell_type": "code",
   "execution_count": null,
   "metadata": {
    "collapsed": true
   },
   "outputs": [],
   "source": [
    "\n",
    "import sys  \n",
    "reload(sys)  \n",
    "sys.setdefaultencoding('utf8')\n"
   ]
  },
  {
   "cell_type": "code",
   "execution_count": null,
   "metadata": {
    "collapsed": true,
    "scrolled": true
   },
   "outputs": [],
   "source": [
    "import numpy as np\n",
    "from scipy import stats\n",
    "from mayavi import mlab\n",
    "\n",
    "\n",
    "mlab.init_notebook(width = 800,height = 800)\n",
    "\n",
    "N = 1000\n",
    "\n",
    "x = np.array(xs)\n",
    "y = np.array(ys)\n",
    "z = np.array(zs)\n",
    "\n",
    "idx = sfbools\n",
    "x = np.delete(x,idx)\n",
    "y = np.delete(y,idx)\n",
    "z = np.delete(z,idx)\n",
    "x = np.array(x[:N])\n",
    "y = np.array(y[:N])\n",
    "z = np.array(z[:N])\n",
    "x = np.log(x+1)\n",
    "y = np.log(y+1)\n",
    "z = np.log(z+1)\n",
    "\n",
    "xyz = np.vstack([x,y,z])\n",
    "kde = stats.gaussian_kde(xyz)\n",
    "\n",
    "figure = mlab.figure('DensityPlot', size=(1280, 720))\n",
    "figure.scene.disable_render = True\n",
    "\n",
    "density = kde(xyz)\n",
    "pts = mlab.points3d(x, y, z, density, scale_mode='none', scale_factor=0.07) \n",
    "mask = pts.glyph.mask_points\n",
    "mask.maximum_number_of_points = x.size\n",
    "mask.on_ratio = 1\n",
    "# pts.glyph.mask_input_points = True\n",
    "figure.scene.disable_render = False \n",
    "# mlab.axes()\n",
    "# mlab.show()\n",
    "# mlab.outline()\n",
    "pts"
   ]
  },
  {
   "cell_type": "code",
   "execution_count": null,
   "metadata": {
    "collapsed": true
   },
   "outputs": [],
   "source": [
    "# Evaluate kde on a grid\n",
    "xmin, ymin, zmin = x.min(), y.min(), z.min()\n",
    "xmax, ymax, zmax = x.max(), y.max(), z.max()\n",
    "xi, yi, zi = np.mgrid[xmin:xmax:30j, ymin:ymax:30j, zmin:zmax:30j]\n",
    "coords = np.vstack([item.ravel() for item in [xi, yi, zi]]) \n",
    "density = kde(coords).reshape(xi.shape)\n",
    "\n",
    "# Plot scatter with mayavi\n",
    "figure = mlab.figure('DensityPlot')\n",
    "\n",
    "grid = mlab.pipeline.scalar_field(xi, yi, zi, density)\n",
    "MIN = density.min()\n",
    "MAX = density.max()\n",
    "mlab.pipeline.volume(grid, vmin=MIN, vmax=MIN + .5*(MAX-MIN))"
   ]
  },
  {
   "cell_type": "code",
   "execution_count": null,
   "metadata": {
    "collapsed": true
   },
   "outputs": [],
   "source": []
  },
  {
   "cell_type": "code",
   "execution_count": null,
   "metadata": {
    "collapsed": true
   },
   "outputs": [],
   "source": [
    "from mayavi import mlab\n",
    "mlab.init_notebook()\n",
    "s = mlab.test_plot3d()\n",
    "s\n"
   ]
  },
  {
   "cell_type": "code",
   "execution_count": null,
   "metadata": {
    "collapsed": true
   },
   "outputs": [],
   "source": [
    "import numpy as np\n",
    "from scipy import stats\n",
    "from mayavi import mlab\n",
    "\n",
    "# mu, sigma = 0, 0.1 \n",
    "# x = 10*np.random.normal(mu, sigma, 500)\n",
    "# y = 10*np.random.normal(mu, sigma, 500)\n",
    "# z = 10*np.random.normal(mu, sigma, 500)\n",
    "\n",
    "xyz = np.vstack([x,y,z])\n",
    "kde = stats.gaussian_kde(xyz)\n",
    "density = kde(xyz)\n",
    "\n"
   ]
  },
  {
   "cell_type": "code",
   "execution_count": null,
   "metadata": {
    "collapsed": true
   },
   "outputs": [],
   "source": [
    "figure = mlab.figure('DensityPlot',size = [600,600])\n",
    "figure.scene.disable_render = True\n",
    "\n",
    "pts = mlab.points3d(x, y, z, density, scale_mode='none', scale_factor=0.07) \n",
    "mask = pts.glyph.mask_points\n",
    "mask.maximum_number_of_points = x.size\n",
    "mask.on_ratio = 1\n",
    "# pts.glyph.mask_input_points = True\n",
    "figure.scene.disable_render = False \n",
    "mlab.axes()\n",
    "# mlab.show()\n",
    "# mlab.outline()\n",
    "pts"
   ]
  },
  {
   "cell_type": "code",
   "execution_count": null,
   "metadata": {
    "collapsed": true
   },
   "outputs": [],
   "source": [
    "del figure\n",
    "# import gc \n",
    "# gc.collect()"
   ]
  },
  {
   "cell_type": "code",
   "execution_count": null,
   "metadata": {
    "collapsed": true
   },
   "outputs": [],
   "source": [
    "from scipy.spatial.distance import *\n",
    "# from sklearn.metrics.pairwise import pairwise_distances as pdist\n",
    "# def ISS(us,vs):\n",
    "# #     u.hits\n",
    "#     D = []\n",
    "#     for ui,u in enumerate(us):\n",
    "#         for v in vs[ui:]:\n",
    "#             D.append(0)\n",
    "# #             D.append(u.)\n",
    "# #             D.append(0)\n",
    "#     D = squareform(D)\n",
    "# #     print D.dims\n",
    "#     return D\n",
    "\n",
    "\n",
    "def ISS(u,v):\n",
    "    u = u[0]; v = v[0]\n",
    "#     print u[0]\n",
    "#     u_hitids = u.hits.values_list(\"id\",flat = True)\n",
    "#     v_hitids = v.hits.values_list(\"id\",flat = True)\n",
    "    d = float((u.hits.all() & v.hits.all() ).count())/ (u.hits.count() * v.hits.count() + 1)\n",
    "#     d = u.hits.count()\n",
    "    return d\n",
    "def ISS(u,v):\n",
    "#     c.count()\n",
    "    u = u[0]; v = v[0]\n",
    "    ulen = len(u)\n",
    "    vlen = len(v)\n",
    "#     if ulen <= vlen:\n",
    "#         inter_count = sum(u_curr in v for u_curr in u )\n",
    "#     else:\n",
    "#         inter_count = sum(u_curr in u for u_curr in v )\n",
    "    inter_count = len(set(u) & set(v))\n",
    "    d = 1 - float(2*inter_count)/(ulen+vlen+1)\n",
    "\n",
    "    return d"
   ]
  },
  {
   "cell_type": "code",
   "execution_count": null,
   "metadata": {
    "collapsed": true,
    "scrolled": true
   },
   "outputs": [],
   "source": [
    "X = np.expand_dims(\n",
    "    np.array(\n",
    "    [list(\n",
    "        hmm.hits.values_list(\"id\", flat = True)\n",
    "    )\n",
    "     for hmm in hmms]\n",
    "), axis = 1)\n",
    "\n",
    "t0 = time()\n",
    "c = counter(range(X.size**2/2))\n",
    "\n",
    "dm = pdist( X = X,metric =  ISS)\n",
    "# D = squareform(dm)\n",
    "print time()-t0\n",
    "# X[0]"
   ]
  },
  {
   "cell_type": "code",
   "execution_count": null,
   "metadata": {
    "collapsed": true
   },
   "outputs": [],
   "source": [
    "hmms = HMMprofile.objects.all()[:200]\n",
    "X = np.expand_dims(\n",
    "    np.array(\n",
    "    [list(\n",
    "        hmm.hits.values_list(\"id\", flat = True)\n",
    "    )\n",
    "     for hmm in hmms]\n",
    "), axis = 1)\n",
    "\n"
   ]
  },
  {
   "cell_type": "code",
   "execution_count": null,
   "metadata": {
    "collapsed": true
   },
   "outputs": [],
   "source": [
    "t0 = time()\n",
    "c = counter(range(X.size**2/2))\n",
    "\n",
    "dm = pdist( X = X,metric =  ISS)\n",
    "# D = squareform(dm)\n",
    "print time()-t0"
   ]
  },
  {
   "cell_type": "code",
   "execution_count": null,
   "metadata": {
    "collapsed": true
   },
   "outputs": [],
   "source": [
    "t0 = time()\n",
    "c = counter(range(len(X)**2/2),per = 1E3)\n",
    "from multiprocessing import *\n",
    "\n",
    "\n",
    "def batch(X,batch_size = 5 ):\n",
    "    lst = []\n",
    "    i = 0\n",
    "    for x in X:\n",
    "        i += 1\n",
    "        lst += [x]\n",
    "        if not i % batch_size:\n",
    "            yield lst\n",
    "            lst = []\n",
    "# print next(g)\n",
    "\n",
    "def queue_gen(X):\n",
    "    i = 0\n",
    "    for ui,u in enumerate(X):\n",
    "        for v in X[ui+1:]:\n",
    "            i += 1\n",
    "            yield [u,v]\n",
    "\n",
    "g  = batch(queue_gen(X),5)\n",
    "\n",
    "    \n",
    "def ISS0(x):\n",
    "#     c.count()\n",
    "    return(ISS(*x))\n",
    "def ISS1(xs):\n",
    "#     c.count()\n",
    "    return([ISS(*x) for x in xs] )\n",
    "\n",
    "# if 1:\n",
    "N = 10\n",
    "t0 = time()\n",
    "for i in range(N):\n",
    "    if __name__ == '__main__':\n",
    "        p = Pool(5)\n",
    "        dm = (p.map_async(ISS0, (queue_gen(X))))\n",
    "        dm = dm.get()\n",
    "    #     sum(p.map(ISS1, batch(queue_gen(X)), 200),[] )\n",
    "        p.close()\n",
    "print time()-t0 \n",
    "t0 = time()\n",
    "for i in range(N):\n",
    "    if __name__ == '__main__':\n",
    "        p = Pool(5)\n",
    "#         dm1 = (p.map(ISS0, (queue_gen(X)), chunksize = 5))\n",
    "        dm1 = (p.map(ISS0, (queue_gen(X)), ))\n",
    "    #     sum(p.map(ISS1, batch(queue_gen(X)), 200),[] )\n",
    "        p.close()\n",
    "print time()-t0 \n",
    "t0 = time()\n",
    "for i in range(N):\n",
    "    if __name__ == '__main__':\n",
    "        dm2 = pdist(X,ISS)\n",
    "print time()-t0 "
   ]
  },
  {
   "cell_type": "code",
   "execution_count": null,
   "metadata": {
    "collapsed": true
   },
   "outputs": [],
   "source": [
    "for i in range(10):\n",
    "    if __name__ == '__main__':\n",
    "        p = Pool(7)\n",
    "#         r = (p.map(ISS0, (queue_gen(X))))\n",
    "        sum(p.map(ISS1, batch(queue_gen(X)), 100),[] )\n",
    "        p.close()\n",
    "print time()-t0 "
   ]
  },
  {
   "cell_type": "code",
   "execution_count": null,
   "metadata": {
    "collapsed": true
   },
   "outputs": [],
   "source": [
    "all_hmms = HMMprofile.objects.annotate(hcount = Count(\"hits\"))"
   ]
  },
  {
   "cell_type": "code",
   "execution_count": null,
   "metadata": {
    "collapsed": true
   },
   "outputs": [],
   "source": [
    "# hmms = all_hmms.exclude(hcount__lte=0)\n",
    "print hmms.count()"
   ]
  },
  {
   "cell_type": "code",
   "execution_count": null,
   "metadata": {
    "collapsed": true
   },
   "outputs": [],
   "source": [
    "sDB = seqDB.objects.get(name = 'CATH')\n",
    "sDB.sequence_set.count()\n",
    "seq = sDB.sequence_set.first()\n",
    "# seq.HMMprofile\n",
    "# seq.hmmprofile\n",
    "# dir(seq)\n",
    "seq.hmmprofile_set.count()"
   ]
  },
  {
   "cell_type": "code",
   "execution_count": null,
   "metadata": {
    "collapsed": true
   },
   "outputs": [],
   "source": [
    "ids = HMMprofile.objects.values_list('id',flat = True)\n",
    "print max(ids)- min(ids)\n",
    "print min(ids)\n",
    "print len(ids)\n"
   ]
  },
  {
   "cell_type": "code",
   "execution_count": null,
   "metadata": {
    "collapsed": true
   },
   "outputs": [],
   "source": [
    "a = np.ndarray(shape = [21086,21086],dtype = 'int')\n",
    "# np.ndarray?\n",
    "# a[0]"
   ]
  },
  {
   "cell_type": "code",
   "execution_count": null,
   "metadata": {
    "collapsed": true
   },
   "outputs": [],
   "source": [
    "c = counter(range(sDB.sequence_set.count()))\n",
    "seqset_all = sDB.sequence_set.all()\n",
    "\n",
    "import itertools as it\n",
    "def pair_gen(seqset_all):\n",
    "    c = counter(range(seqset_all.count()))\n",
    "    batches = batch_qs( seqset_all, 500)\n",
    "    for seqset in batches:\n",
    "        \n",
    "#             hmmids = seq.values_list(\"hmmprofile\",flat =True)\n",
    "        for seq in seqset:\n",
    "            c.count()\n",
    "            hmmids = seq.hmmprofile_set.values_list(\"id\",flat = True)\n",
    "            pairs = it.combinations(sorted(hmmids),2)\n",
    "            for p in pairs:\n",
    "                yield p\n",
    "\n",
    "                \n",
    "from collections import Counter\n",
    "import multiprocessing as mp\n",
    "\n",
    "\n",
    "\n",
    "t0 = time()    \n",
    "g = pair_gen(seqset_all.all())\n",
    "counts = Counter(g)\n",
    "print time()-t0\n",
    "# set(g)"
   ]
  },
  {
   "cell_type": "code",
   "execution_count": null,
   "metadata": {
    "collapsed": true
   },
   "outputs": [],
   "source": [
    "from scipy.sparse import *\n",
    "# D = csr_matrix(zip(*counts.keys()),counts.values())\n",
    "# D = dok_matrix((21086,21086),dtype = np.int)\n",
    "\n",
    "t0 = time()    \n",
    "c=counter(counts,per=10000)\n",
    "for (x,y),v in counts.iteritems():\n",
    "    c.count()\n",
    "    D[x-1,y-1] = v\n",
    "print time()-t0"
   ]
  },
  {
   "cell_type": "code",
   "execution_count": null,
   "metadata": {
    "collapsed": true
   },
   "outputs": [],
   "source": [
    "cD = D.to_cs"
   ]
  },
  {
   "cell_type": "code",
   "execution_count": null,
   "metadata": {
    "collapsed": true
   },
   "outputs": [],
   "source": [
    "g = pair_gen(seqset_all.all()[:2000])\n",
    "\n",
    "for i in range(10):\n",
    "    if __name__ == '__main__':\n",
    "        p = Pool(7)\n",
    "#         r = (p.map(ISS0, (queue_gen(X))))\n",
    "        sum(p.map(ISS1, batch(queue_gen(X)), 100),[] )\n",
    "        p.close()\n",
    "\n",
    "for x,y in g:\n",
    "#     print x,y\n",
    "    a[x-1,y-1] += 1\n",
    "    "
   ]
  },
  {
   "cell_type": "code",
   "execution_count": null,
   "metadata": {
    "collapsed": true
   },
   "outputs": [],
   "source": [
    "# from itertools\n",
    "import itertools as it\n",
    "print hmmids.count()\n",
    "\n",
    "pairs = it.combinations(sorted(hmmids[:20]),2)\n",
    "for p in pairs:\n",
    "    yield p"
   ]
  },
  {
   "cell_type": "code",
   "execution_count": null,
   "metadata": {
    "collapsed": true
   },
   "outputs": [],
   "source": [
    "X = np.expand_dims(\n",
    "    np.array(\n",
    "    [list(\n",
    "        hmm.hits.values_list(\"id\", flat = True)\n",
    "    )\n",
    "     for hmm in hmms]\n",
    "), axis = 1)"
   ]
  },
  {
   "cell_type": "code",
   "execution_count": null,
   "metadata": {
    "collapsed": true
   },
   "outputs": [],
   "source": []
  },
  {
   "cell_type": "code",
   "execution_count": null,
   "metadata": {
    "collapsed": true
   },
   "outputs": [],
   "source": [
    "us = X\n",
    "vs = X\n",
    "dm = []\n",
    "\n",
    "for ui,u in enumerate(us):\n",
    "    for v in vs[ui:]:\n",
    "        dm.append( ISS(u,v) )\n",
    "D = squareform(dm)"
   ]
  },
  {
   "cell_type": "code",
   "execution_count": null,
   "metadata": {
    "collapsed": true
   },
   "outputs": [],
   "source": [
    "# dm.size\n",
    "\n",
    "# None in []"
   ]
  },
  {
   "cell_type": "code",
   "execution_count": null,
   "metadata": {
    "collapsed": true
   },
   "outputs": [],
   "source": [
    "D.shape"
   ]
  },
  {
   "cell_type": "code",
   "execution_count": null,
   "metadata": {
    "collapsed": true
   },
   "outputs": [],
   "source": [
    "us = X\n",
    "vs = X\n",
    "# x =\n",
    "# D = []\n",
    "# for ui,u in enumerate(us):\n",
    "#     for v in vs[ui:]:\n",
    "#         D.append(0)\n",
    "# D = squareform(D)\n",
    "# # print D.dims\n",
    "\n",
    "# dm = pdist( X, ISS)\n",
    "# D = squareform(dm)\n",
    "plt.close()\n",
    "siz = [450,400]\n",
    "DPI=100.\n",
    "fig = plt.figure(figsize = [x/float(DPI) for x in siz], dpi=DPI)\n",
    "ax1 = fig.add_subplot(111,**kwargs)\n",
    "imDmat = ax1.imshow(D)\n",
    "plt.colorbar(imDmat)\n",
    "# X.shape\n",
    "# dm = cdist( X.T,X.T, ISS)\n",
    "# np.array(list(hmms))"
   ]
  },
  {
   "cell_type": "code",
   "execution_count": null,
   "metadata": {
    "collapsed": true
   },
   "outputs": [],
   "source": [
    "plt.close()\n",
    "siz = [450,400]\n",
    "DPI=100.\n",
    "fig = plt.figure(figsize = [x/float(DPI) for x in siz], dpi=DPI)\n",
    "ax1 = fig.add_subplot(111,**kwargs)\n",
    "imdata = np.log(D)\n",
    "imDmat = ax1.imshow(imdata)\n",
    "plt.colorbar(imDmat)"
   ]
  },
  {
   "cell_type": "code",
   "execution_count": null,
   "metadata": {
    "collapsed": true
   },
   "outputs": [],
   "source": [
    "hmm1.hit4hmm2hsp_set"
   ]
  },
  {
   "cell_type": "code",
   "execution_count": null,
   "metadata": {
    "collapsed": true
   },
   "outputs": [],
   "source": [
    "# hmm1.hits.count()\n",
    "# hmm2.hits.count()"
   ]
  },
  {
   "cell_type": "code",
   "execution_count": null,
   "metadata": {
    "collapsed": true
   },
   "outputs": [],
   "source": [
    "hmm1.hits.all().count()"
   ]
  },
  {
   "cell_type": "code",
   "execution_count": 1,
   "metadata": {},
   "outputs": [
    {
     "ename": "NameError",
     "evalue": "name 'hmm1' is not defined",
     "output_type": "error",
     "traceback": [
      "\u001b[0;31m---------------------------------------------------------------------------\u001b[0m",
      "\u001b[0;31mNameError\u001b[0m                                 Traceback (most recent call last)",
      "\u001b[0;32m<ipython-input-1-ace4b3f4db2b>\u001b[0m in \u001b[0;36m<module>\u001b[0;34m()\u001b[0m\n\u001b[1;32m      1\u001b[0m \u001b[0;31m# os.path.isfile(full(\"$PDBlib/1a41A01\"))\u001b[0m\u001b[0;34m\u001b[0m\u001b[0;34m\u001b[0m\u001b[0m\n\u001b[0;32m----> 2\u001b[0;31m \u001b[0mhmm1\u001b[0m\u001b[0;34m.\u001b[0m\u001b[0mhits\u001b[0m\u001b[0;34m.\u001b[0m\u001b[0mall\u001b[0m\u001b[0;34m(\u001b[0m\u001b[0;34m)\u001b[0m\u001b[0;34m\u001b[0m\u001b[0m\n\u001b[0m",
      "\u001b[0;31mNameError\u001b[0m: name 'hmm1' is not defined"
     ]
    }
   ],
   "source": [
    "# os.path.isfile(full(\"$PDBlib/1a41A01\"))\n",
    "hmm1.hits.all()"
   ]
  },
  {
   "cell_type": "code",
   "execution_count": null,
   "metadata": {
    "collapsed": true,
    "scrolled": true
   },
   "outputs": [],
   "source": [
    "inter_hitseq = hmm1.hits.all() & hmm2.hits.all()\n",
    "hits1 = hmm1.hit4hmm2hsp_set.filter(target__in = inter_hitseq)\n",
    "hits2 = hmm2.hit4hmm2hsp_set.filter(target__in = inter_hitseq)\n",
    "fmt = \"%s,\\t domain:%s\\t length:%s,\\t hitnum:%d\"\n",
    "print \"intersection count is\",inter_hitseq.count()\n",
    "print  fmt %(hmm1,hmm1.cath_node.domain, p_hmmlen.findall(hmm1.text)[0], hmm1.hits.count() )\n",
    "print fmt % (hmm2,hmm2.cath_node.domain, p_hmmlen.findall(hmm2.text)[0], hmm2.hits.count() )\n",
    "for i,j in zip(hits1,hits2):\n",
    "    try:\n",
    "        node =  domain.objects.get(domain_id = i.target.acc).classification\n",
    "    except:\n",
    "        node = ''\n",
    "    print i.target.acc,i.bitscore,\n",
    "    print j.target.acc,j.bitscore\n",
    "#     print node\n",
    "    print i.start,j.start\n",
    "    print i.end,j.end"
   ]
  },
  {
   "cell_type": "code",
   "execution_count": null,
   "metadata": {
    "collapsed": true
   },
   "outputs": [],
   "source": [
    "hmm1.cath_node.parent"
   ]
  },
  {
   "cell_type": "code",
   "execution_count": null,
   "metadata": {
    "collapsed": true
   },
   "outputs": [],
   "source": [
    "def largest_indices(ary, n):\n",
    "    \"\"\"Returns the n largest indices from a numpy array.\"\"\"\n",
    "    flat = ary.flatten()\n",
    "    indices = np.argpartition(flat, -n)[-n:]\n",
    "    indices = indices[np.argsort(-flat[indices])]\n",
    "    return np.unravel_index(indices, ary.shape)\n",
    "# D[largest_indices(D,10)]\n",
    "D = squareform(dm)\n",
    "tD = np.triu(D[-2000:,-2000:])\n",
    "\n",
    "lst = zip(*largest_indices(tD,20000))\n",
    "len(D)"
   ]
  },
  {
   "cell_type": "code",
   "execution_count": null,
   "metadata": {
    "collapsed": true
   },
   "outputs": [],
   "source": [
    "# hmms.count()\n",
    "D[-1,-2]"
   ]
  },
  {
   "cell_type": "code",
   "execution_count": null,
   "metadata": {
    "collapsed": true,
    "scrolled": true
   },
   "outputs": [],
   "source": [
    "c = counter(lst,per = 1)\n",
    "i = 0\n",
    "for idxx,idxy in lst:\n",
    "#     print\n",
    "    hmm1 = hmms[idxx]\n",
    "    hmm2 = hmms[idxy]\n",
    "#     if hmm1.cath_node.parent == hmm2.cath_node.parent:\n",
    "    cnode1 = hmm1.cath_node\n",
    "    cnode2 = hmm2.cath_node\n",
    "    if cnode1.Class == cnode2.Class:\n",
    "        continue\n",
    "    c.count()   \n",
    "    \n",
    "    if c.i >= 2:\n",
    "        i+=1\n",
    "        print hmm1\n",
    "        print hmm2\n",
    "        print D[idxx,idxy]\n",
    "        print hmm1.hits.count() + hmm2.hits.count()\n",
    "        print \"http://xhits.cathdb.info/crosshits.php?sf2=%s&sf1=%s&db_source=Crosshits_v4_1_0\"%(cnode1.superfamily(),cnode2.superfamily())\n",
    "        if i == 2:\n",
    "            break"
   ]
  },
  {
   "cell_type": "code",
   "execution_count": null,
   "metadata": {
    "collapsed": true
   },
   "outputs": [],
   "source": [
    "for hmm in [hmm1,hmm2]:\n",
    "    print hmm.cath_node.domain\n",
    "    print '\\n'.join(hmm.text.splitlines()[:10])\n",
    "    print \n",
    "# print '\\n'.join(hmm2.text.splitlines()[:10])"
   ]
  },
  {
   "cell_type": "code",
   "execution_count": null,
   "metadata": {
    "collapsed": true
   },
   "outputs": [],
   "source": [
    "xs = []\n",
    "ys = []\n",
    "for hmm in hmms:\n",
    "    hmm_text = hmm.text\n",
    "    y = hmm.hits.count()\n",
    "    if y:\n",
    "        xs += [int(p_hmmlen.findall(hmm_text)[0])]\n",
    "        ys += [ y ]\n",
    "    \n",
    "kwargs = {}\n",
    "    \n",
    "plt.close()\n",
    "siz = [450,400]\n",
    "DPI=100.\n",
    "fig = plt.figure(figsize = [x/float(DPI) for x in siz], dpi=DPI)\n",
    "ax1 = fig.add_subplot(111,**kwargs)\n",
    "ax1.set_yscale('log')\n",
    "points = ax1.scatter(xs,ys, \n",
    "    # colors,\n",
    "    edgecolor = 'b',facecolor = 'b',\n",
    "    # edgecolor = 'r',facecolor = 'r',\n",
    "    marker ='o',\n",
    "    # c = colors,\n",
    "     s =100,\n",
    "     alpha = 0.15,\n",
    "     # **kwargs\n",
    "     )\n"
   ]
  },
  {
   "cell_type": "code",
   "execution_count": null,
   "metadata": {
    "collapsed": true,
    "scrolled": false
   },
   "outputs": [],
   "source": [
    "import subprocess\n",
    "tmpdir = \"/tmp/prc\"\n",
    "prcfmt = \"http://update.cathdb.info/api/data/hmm/%s.prc\"\n",
    "dom  = hmm1.cath_node.domain\n",
    "subprocess.check_call([\"wget\",prcfmt%dom,\"-O\",\"%s/%s.prc\"%(tmpdir,dom)])\n",
    "dom =  hmm2.cath_node.domain\n",
    "subprocess.check_call([\"wget\",prcfmt%dom,\"-O\",\"%s/%s.prc\"%(tmpdir,dom)])"
   ]
  },
  {
   "cell_type": "code",
   "execution_count": null,
   "metadata": {
    "collapsed": true
   },
   "outputs": [],
   "source": [
    "hmms = HMMprofile.objects.all()[:100]"
   ]
  },
  {
   "cell_type": "code",
   "execution_count": null,
   "metadata": {
    "collapsed": true
   },
   "outputs": [],
   "source": [
    "seqs  = sequence.objects.values_list('acc').annotate(ct= Count('acc'))"
   ]
  },
  {
   "cell_type": "code",
   "execution_count": null,
   "metadata": {
    "collapsed": true
   },
   "outputs": [],
   "source": [
    "seqdup = seqs.filter(ct__gt=1)\n",
    "seqdup = sequence.objects.filter(acc__in=[x for x,y in seqdup])\n",
    "# print seqdup.count()"
   ]
  },
  {
   "cell_type": "code",
   "execution_count": null,
   "metadata": {
    "collapsed": true
   },
   "outputs": [],
   "source": [
    "seqdup.delete()\n",
    "# print seqdup.filter(hmmprofile__isnull=True).count()\n",
    "# ss = sequence.objects.filter(acc=seqdup[0][0])\n",
    "# ss.filter(hmmprofile__isnull=True).count()\n",
    "# for s in ss:\n",
    "#     print s.hmmprofile_set.count()"
   ]
  },
  {
   "cell_type": "code",
   "execution_count": null,
   "metadata": {
    "collapsed": true
   },
   "outputs": [],
   "source": [
    "# from tst.domutil.util import *\n",
    "# from tst.utils_db import *\n",
    "\n",
    "# # hmm = s35.hmmprofile_set.first()\n",
    "# hmms = HMMprofile.objects.all()\n",
    "# hmm = hmms[6]\n",
    "# hmm.cath_node\n",
    "\n",
    "# # print hmm.text\n",
    "\n",
    "# seqDB_curr = seqDB.objects.get(name = 'CATH')\n",
    "# seqDB_file = \"$SEQlib/cath-domain-seqs-S100.fa\"\n",
    "\n",
    "# q_hits = hmmsearch(hmm,\n",
    "# seqDB_curr = seqDB_curr,\n",
    "# seqDB_file = seqDB_file,\n",
    "# tmpdir = \"/tmp/tmp2\"                \n",
    "# )\n",
    "\n",
    "# oldhits = hmm.hit4hmm2hsp_set.all()\n",
    "# for hit in q_hits:\n",
    "#     hsp = hit[0] ### Assume only one dom per hit\n",
    "#     jdict = hsp2jdict(hsp, query = hmm )\n",
    "#     jdict[\"target_id\"] = sequence.objects.get( acc = jdict[\"target_id\"]).id\n",
    "\n",
    "#     if not oldhits.filter(**jdict).exists():\n",
    "#         hit_db = hit4hmm2hsp(**jdict)\n",
    "#         hit_db.save()\n",
    "\n",
    "# # print hmm"
   ]
  },
  {
   "cell_type": "code",
   "execution_count": null,
   "metadata": {
    "collapsed": true
   },
   "outputs": [],
   "source": [
    "print sequence.objects.count()\n",
    "%load_ext autoreload\n",
    "%autoreload 0\n",
    "%autoreload 1\n",
    "%autoreload 2\n",
    "%autoreload 3\n",
    "\n",
    "\n",
    "import os\n",
    "os.environ['SEQlib'] = '/media/DATA/Documents/repos/cathdb/'\n"
   ]
  },
  {
   "cell_type": "code",
   "execution_count": null,
   "metadata": {
    "collapsed": true
   },
   "outputs": [],
   "source": [
    "p_cathheader = re.compile('\\|([0-9,a-z,A-Z]*)\\/')\n",
    "with open(seqdb_file,'r') as f:\n",
    "    buf = f.read() \n",
    "m  =p_cathheader.findall(buf)\n",
    "# m  =p_cathheader.search(buf)\n",
    "# next(m)\n",
    "# m.groups()[0]\n",
    "sum(len(x) for x in m)/float(len(m))\n",
    "# dir(m)\n",
    "# m.string\n",
    "# print m.groupdict()\n",
    "# print len(m)\n",
    "# print len(set(m))"
   ]
  },
  {
   "cell_type": "code",
   "execution_count": null,
   "metadata": {
    "collapsed": true
   },
   "outputs": [],
   "source": [
    "from tst.utils_db import *\n",
    "from Bio.SeqIO import FastaIO\n",
    "debug = 1\n",
    "\n",
    "\n",
    "behave = \"import sequence database\"\n",
    "seqdb_file = full(\"$SEQlib/cath-domain-seqs-S100.fa\")\n",
    "# seqDB_curr = verify_exist_entry( seqDB, {'name' : 'test_CATH' })\n",
    "# seqDB_curr = verify_exist_entry( {'name' : 'test_CATH',\n",
    "#                                  'version': 'test'}, seqDB)\n",
    "seqDB_curr = seqDB.objects.get(name='CATH')\n",
    "\n",
    "from time import time\n",
    "t0 = time()\n",
    "useFisrt = 1\n",
    "failcount = 0\n",
    "lst = {\n",
    " '3hf9c00',\n",
    " '3hf9e00',\n",
    " '3hf9g00',\n",
    " '3hf9h00',\n",
    " '3hf9j00',\n",
    " '3hf9l00',\n",
    " '3hf9n00',\n",
    " '3hf9p00',\n",
    " '3hf9r00',\n",
    " '3hf9t00',\n",
    " '3hf9x00',\n",
    " '3hf9z00',\n",
    " '3lo3a00',\n",
    " '3lo3b00',\n",
    " '4il6z00'}\n",
    "with open( seqdb_file ) as handle:\n",
    "    iterator = FastaIO.SimpleFastaParser(handle)\n",
    "    c = counter(iterator, per=1000)\n",
    "with open( seqdb_file ) as handle:\n",
    "    iterator = FastaIO.SimpleFastaParser(handle)\n",
    "\n",
    "    with transaction.atomic():\n",
    "        for values in iterator:\n",
    "            try:\n",
    "#             if 1:\n",
    "                header,seq = values\n",
    "                if c.i == 0:\n",
    "                    (h_parser, _) = seqheader_guess_parser(header)\n",
    "                    print \"first entry pointing to %s\" % seqDB_curr\n",
    "                    print \"h_parser is\",h_parser\n",
    "                    \n",
    "                jdict = h_parser( header )\n",
    "                jdict[\"length\"] = len(seq)\n",
    "                \n",
    "                if useFisrt:\n",
    "                    jdict[\"seqDB\"] = seqDB_curr\n",
    "                else:\n",
    "                    jdict[\"seqDB\"] = seqDB.objects.get(**jdict[\"seqDB\"])\n",
    "#                 worker()\n",
    "#                 if jdict['acc']=='3hf9c00':\n",
    "                if jdict['acc'] in lst:\n",
    "                    print \"im here\"\n",
    "                    local_worker(jdict)\n",
    "#             try:\n",
    "                pass\n",
    "            except Exception as e:\n",
    "                if debug: print e,header\n",
    "                failcount += 1\n",
    "            c.count()\n",
    "        \n",
    "#         print(values)\n",
    "print \"finshed %s from %s\" % (behave, seqdb_file)\n",
    "\n",
    "print '%d instances of %d failed' % (failcount,c.imax)\n",
    "print('Ended after %.4f sec' % (time()-t0))  # len(lst)d\n",
    "failrate = failcount/float(c.imax) \n",
    "assert failrate < 0.1, 'fail rate is too high: expected < 10%%, actual: %2.2f%%' % (failrate*100)"
   ]
  },
  {
   "cell_type": "code",
   "execution_count": null,
   "metadata": {
    "collapsed": true
   },
   "outputs": [],
   "source": [
    "def local_worker(jdict):\n",
    "    seqobjs = seqDB_curr.sequence_set.filter(**jdict)\n",
    "    if seqobjs.exists():\n",
    "        print \"passed\"\n",
    "        pass\n",
    "    else:\n",
    "        seqobj = sequence(**jdict)\n",
    "        seqobj.save()\n",
    "        print \"inserted\""
   ]
  },
  {
   "cell_type": "code",
   "execution_count": null,
   "metadata": {
    "collapsed": true
   },
   "outputs": [],
   "source": [
    "# print jdict \n",
    "jdict['acc'] = '3hf9c00'\n",
    "seqobjs = seqDB_curr.sequence_set.filter(acc__exact = '3hf9t00')\n",
    "print seqobjs[0]\n"
   ]
  },
  {
   "cell_type": "code",
   "execution_count": null,
   "metadata": {
    "collapsed": true
   },
   "outputs": [],
   "source": [
    "acclst0 = set(m)\n",
    "acclst = set(seqDB_curr.sequence_set.values_list(\"acc\",flat = True))\n",
    "print acclst0-acclst"
   ]
  },
  {
   "cell_type": "code",
   "execution_count": null,
   "metadata": {
    "collapsed": true
   },
   "outputs": [],
   "source": [
    "sequence.objects.count()"
   ]
  }
 ],
 "metadata": {
  "kernelspec": {
   "display_name": "Django Shell-Plus",
   "language": "python",
   "name": "django_extensions"
  },
  "language_info": {
   "codemirror_mode": {
    "name": "ipython",
    "version": 2
   },
   "file_extension": ".py",
   "mimetype": "text/x-python",
   "name": "python",
   "nbconvert_exporter": "python",
   "pygments_lexer": "ipython2",
   "version": "2.7.12"
  }
 },
 "nbformat": 4,
 "nbformat_minor": 2
}
