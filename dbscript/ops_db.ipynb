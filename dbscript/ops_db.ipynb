{
 "cells": [
  {
   "cell_type": "markdown",
   "metadata": {
    "collapsed": true
   },
   "source": [
    "#### This notebook contains routines for constructing a database from raw data downloaded from cathdb.info/download and CATH-API\n",
    "\n"
   ]
  },
  {
   "cell_type": "code",
   "execution_count": 1,
   "metadata": {},
   "outputs": [
    {
     "name": "stdout",
     "output_type": "stream",
     "text": [
      "putative\n"
     ]
    }
   ],
   "source": [
    "from tst.utils_db import *\n",
    "\n",
    "\n",
    "### Specify the version tag of your session...\n",
    "### Create a new tag if not existing\n",
    "v_curr = verify_version('putative')\n",
    "\n",
    "print(v_curr)\n",
    "\n"
   ]
  },
  {
   "cell_type": "code",
   "execution_count": 27,
   "metadata": {
    "collapsed": true
   },
   "outputs": [],
   "source": [
    "#### Debug failed attempts of domain_stat_fill()\n",
    "\n",
    "# # dname = flst[0]\n",
    "# dname = '3rfwA01'\n",
    "# d = domain.objects.get(domain_id = dname)\n",
    "# try:\n",
    "#     domain_stat_fill(d,env = env) \n",
    "# except Exception as e:\n",
    "#     flst.append(d.domain_id)\n",
    "#     print(\"Unable to process %s for %s\" % (d.domain_id, str(e)))"
   ]
  },
  {
   "cell_type": "code",
   "execution_count": null,
   "metadata": {
    "collapsed": true,
    "scrolled": true
   },
   "outputs": [],
   "source": [
    "### Attempt to calculate structure-based statistics for a collection of domains\n",
    "\n",
    "#from tst.utils_db import *\n",
    "\n",
    "dset = domain.objects.filter( classification__version = v_curr )\n",
    "# dset = dset.annotate(version = 'classification__version')\n",
    "\n",
    "#### Initialise env for modeller, and specify the path to search for pdbs\n",
    "env =init_env()\n",
    "\n",
    "lst = dset\n",
    "imax = len(lst)\n",
    "flst = []\n",
    "\n",
    "for i,d in enumerate(lst):\n",
    "    try:\n",
    "        domain_stat_fill(d,env = env) \n",
    "    except Exception as e:\n",
    "        flst.append(d.domain_id)\n",
    "        print(\"Unable to process %s for %s\" % (d.domain_id, str(e)))\n",
    "    if not i % 100:\n",
    "        print('%d of %d'%(i,imax))"
   ]
  },
  {
   "cell_type": "code",
   "execution_count": 2,
   "metadata": {
    "scrolled": true
   },
   "outputs": [
    {
     "name": "stdout",
     "output_type": "stream",
     "text": [
      "0 of 6874\n",
      "100 of 6874\n",
      "200 of 6874\n",
      "300 of 6874\n",
      "400 of 6874\n",
      "500 of 6874\n",
      "600 of 6874\n",
      "700 of 6874\n",
      "800 of 6874\n",
      "900 of 6874\n",
      "1000 of 6874\n",
      "1100 of 6874\n",
      "1200 of 6874\n",
      "1300 of 6874\n",
      "1400 of 6874\n",
      "1500 of 6874\n",
      "1600 of 6874\n",
      "1700 of 6874\n",
      "1800 of 6874\n",
      "1900 of 6874\n",
      "2000 of 6874\n",
      "2100 of 6874\n",
      "2200 of 6874\n",
      "2300 of 6874\n",
      "2400 of 6874\n",
      "2500 of 6874\n",
      "2600 of 6874\n",
      "2700 of 6874\n",
      "2800 of 6874\n",
      "2900 of 6874\n",
      "3000 of 6874\n",
      "3100 of 6874\n",
      "3200 of 6874\n",
      "3300 of 6874\n",
      "3400 of 6874\n",
      "3500 of 6874\n",
      "3600 of 6874\n",
      "3700 of 6874\n",
      "3800 of 6874\n",
      "3900 of 6874\n",
      "4000 of 6874\n",
      "4100 of 6874\n",
      "4200 of 6874\n",
      "4300 of 6874\n",
      "4400 of 6874\n",
      "4500 of 6874\n",
      "4600 of 6874\n",
      "4700 of 6874\n",
      "4800 of 6874\n",
      "4900 of 6874\n",
      "5000 of 6874\n",
      "5100 of 6874\n",
      "5200 of 6874\n",
      "5300 of 6874\n",
      "5400 of 6874\n",
      "5500 of 6874\n",
      "5600 of 6874\n",
      "5700 of 6874\n",
      "5800 of 6874\n",
      "5900 of 6874\n",
      "6000 of 6874\n",
      "6100 of 6874\n",
      "6200 of 6874\n",
      "6300 of 6874\n",
      "6400 of 6874\n",
      "6500 of 6874\n",
      "6600 of 6874\n",
      "6700 of 6874\n",
      "6800 of 6874\n",
      "0 instances failed\n",
      "Ended after 216.3868\n"
     ]
    }
   ],
   "source": [
    "#### Calculate superfamily-based statistics\n",
    "\n",
    "from time import time\n",
    "t0 = time()\n",
    "from tst.utils_db import *\n",
    "\n",
    "level_curr = level.objects.get(letter = 'H')\n",
    "# node_set =  classification.objects.filter(version = v_curr)\n",
    "node_set =  classification.objects.filter(version__id__lte = v_curr.id)\n",
    "\n",
    "\n",
    "\n",
    "lst = node_set.filter(level = level_curr)\n",
    "\n",
    "c = counter(lst, per = 100)\n",
    "\n",
    "failcount = 0\n",
    "for d in lst:\n",
    "    c.count()\n",
    "    with transaction.atomic():\n",
    "#     if 1:\n",
    "        failcount += homsf_stat_fill(d) == 0\n",
    "\n",
    "print '%d instances failed' % failcount\n",
    "print('Ended after %.4f' % (time()-t0))  # len(lst)\n",
    "# homsf_stat_fill(lst[0])\n",
    "# print(str(lst[0]))"
   ]
  },
  {
   "cell_type": "code",
   "execution_count": 1,
   "metadata": {},
   "outputs": [
    {
     "name": "stdout",
     "output_type": "stream",
     "text": [
      "1.10.30.10.0\n"
     ]
    }
   ],
   "source": [
    "h = classification.objects.get_bytree('1.10.30.10')[0]\n",
    "# print(h)\n",
    "# classification.objects.get_bytree"
   ]
  },
  {
   "cell_type": "code",
   "execution_count": 5,
   "metadata": {},
   "outputs": [
    {
     "name": "stdout",
     "output_type": "stream",
     "text": [
      "(235,)\n"
     ]
    }
   ],
   "source": [
    "from sklearn.preprocessing import StandardScaler\n",
    "from sklearn.decomposition import PCA\n",
    "from sklearn.pipeline import Pipeline\n",
    "\n",
    "import numpy as np\n",
    "\n",
    "data = np.random.randn(20, 40)\n",
    "\n",
    "pipeline = Pipeline([\n",
    "    ('pca', PCA(n_components=2)),\n",
    "    ('scaling', StandardScaler()),\n",
    "                    ])\n",
    "\n",
    "pipeline.fit_transform(data)\n",
    "data.shape\n",
    "\n",
    "sset = h.classification_set.all()\n",
    "(xs,ys,lbls) = zip(*sset.values_list('domain__domain_stat__atom_count','domain__domain_stat__nbpair_count','id'))\n",
    "data = np.array([xs,ys])\n",
    "# lbls\n",
    "nd = pipeline.fit_transform(data.T)\n",
    "xs = nd[:,0]\n",
    "ys = nd[:,1]\n",
    "# print nd.shape\n",
    "# print data.shape\n",
    "# scatterplot_dict(xs,ys,lbls, regress = 0, show = 1)\n",
    "\n",
    "pip_pc_std = Pipeline([\n",
    "    ('pca', PCA(n_components=2)),\n",
    "    ('scaling', StandardScaler()),\n",
    "                    ])\n",
    "pcdata = pip_pc_std.fit_transform(data.T)\n",
    "pcxs,pcys = pcdata.T\n",
    "# pcy = pcdata[:,1]\n",
    "print pcxs.shape\n",
    "(pcxs**2+pcys**2) - np.array(sset.values_list('domain__domain_stat__maha_dist')).T\n",
    "# def pc_std(data):"
   ]
  },
  {
   "cell_type": "code",
   "execution_count": 7,
   "metadata": {
    "collapsed": true
   },
   "outputs": [],
   "source": [
    "from tst.utils import *\n",
    "\n",
    "h = classification.objects.get_bytree('1.10.30.10')[0]\n",
    "sset = h.classification_set\n",
    "\n",
    "(xs,ys,lbls) = zip(*sset.values_list('domain__domain_stat__atom_count','domain__domain_stat__nbpair_count','id'))\n",
    "# results = PCA(data)"
   ]
  },
  {
   "cell_type": "code",
   "execution_count": 2,
   "metadata": {},
   "outputs": [
    {
     "name": "stdout",
     "output_type": "stream",
     "text": [
      "1\n"
     ]
    }
   ],
   "source": [
    "from tst.utils_db import *\n",
    "h = classification.objects.get_bytree(\"2.40.50.140\")[0]\n",
    "print homsf_stat_fill(h)"
   ]
  },
  {
   "cell_type": "code",
   "execution_count": 1,
   "metadata": {},
   "outputs": [
    {
     "ename": "ImportError",
     "evalue": "No module named tst.utils",
     "output_type": "error",
     "traceback": [
      "\u001b[0;31m---------------------------------------------------------------------------\u001b[0m",
      "\u001b[0;31mImportError\u001b[0m                               Traceback (most recent call last)",
      "\u001b[0;32m<ipython-input-1-ecc3020df450>\u001b[0m in \u001b[0;36m<module>\u001b[0;34m()\u001b[0m\n\u001b[1;32m      1\u001b[0m \u001b[0;31m### plotting mahalanobis distance\u001b[0m\u001b[0;34m\u001b[0m\u001b[0;34m\u001b[0m\u001b[0m\n\u001b[1;32m      2\u001b[0m \u001b[0;31m# del scatterplot_dict.__module__\u001b[0m\u001b[0;34m\u001b[0m\u001b[0;34m\u001b[0m\u001b[0m\n\u001b[0;32m----> 3\u001b[0;31m \u001b[0;32mfrom\u001b[0m \u001b[0mtst\u001b[0m\u001b[0;34m.\u001b[0m\u001b[0mutils\u001b[0m \u001b[0;32mimport\u001b[0m \u001b[0;34m*\u001b[0m\u001b[0;34m\u001b[0m\u001b[0m\n\u001b[0m\u001b[1;32m      4\u001b[0m \u001b[0;34m\u001b[0m\u001b[0m\n\u001b[1;32m      5\u001b[0m \u001b[0mh\u001b[0m \u001b[0;34m=\u001b[0m \u001b[0mclassification\u001b[0m\u001b[0;34m.\u001b[0m\u001b[0mobjects\u001b[0m\u001b[0;34m.\u001b[0m\u001b[0mget_bytree\u001b[0m\u001b[0;34m(\u001b[0m\u001b[0;34m'1.10.30.10'\u001b[0m\u001b[0;34m)\u001b[0m\u001b[0;34m[\u001b[0m\u001b[0;36m0\u001b[0m\u001b[0;34m]\u001b[0m\u001b[0;34m\u001b[0m\u001b[0m\n",
      "\u001b[0;31mImportError\u001b[0m: No module named tst.utils"
     ]
    }
   ],
   "source": [
    "### plotting mahalanobis distance\n",
    "# del scatterplot_dict.__module__\n",
    "from tst.utils import *\n",
    "\n",
    "h = classification.objects.get_bytree('1.10.30.10')[0]\n",
    "sset = h.classification_set\n",
    "\n",
    "(xs,ys,lbls) = zip(*sset.values_list('parent__node_stat__Rsq_NBcount_Acount','domain__domain_stat__maha_dist','id'))\n",
    "\n",
    "# lsts = zip(*sset.values_list('parent__node_stat__Rsq_NBcount_Acount','domain__domain_stat__maha_dist','id'))\n",
    "# scatterplot_dict(*lsts, regress=0, show = 1)\n",
    "scatterplot_dict(xs,ys,lbls, regress = 0, show = 1)\n"
   ]
  },
  {
   "cell_type": "code",
   "execution_count": 40,
   "metadata": {},
   "outputs": [
    {
     "name": "stdout",
     "output_type": "stream",
     "text": [
      "('start at', None)\n",
      "[]\n",
      "0.000247001647949\n",
      "2.40.500.20.0\n",
      "0.0172209739685\n"
     ]
    }
   ],
   "source": [
    "### Benchmarking object retrival in tree-structured database\n",
    "### Compared naive search \".get()\"  against \".get_bytree()\"\n",
    "### Consider using Django-mptt instead of writing custom functions\n",
    "\n",
    "# node = '1.10.40.30.0'\n",
    "# node = '1.10.60.10.3'\n",
    "# levels=['Class',\n",
    "# 'arch',\n",
    "# 'topo',\n",
    "# 'homsf',\n",
    "# 's35',\n",
    "# 's60',\n",
    "# 's95',\n",
    "# 's100'];\n",
    "\n",
    "node = '2.40.500.20.0'\n",
    "qdict = dict(zip(levels,node.split('.')))\n",
    "c0 = None\n",
    "# c0 = classification.objects.get(**dict(zip(levels,node.split('.')[:2]+['0'])))\n",
    "from time import time\n",
    "\n",
    "n = 2\n",
    "t0=time()\n",
    "for i in range(n):\n",
    "    try:\n",
    "        c1 = classification.objects.get(**qdict)\n",
    "    except:\n",
    "        c1 = [];\n",
    "# print\n",
    "t1=time()\n",
    "for i in range(n):\n",
    "    c2 = classification.objects.get_bytree(node,qnode = c0)[0]\n",
    "t2=time()    \n",
    "print('start at',c0)\n",
    "print(c1)\n",
    "print(t1-t0)\n",
    "print(c2)\n",
    "print(t2-t1)"
   ]
  },
  {
   "cell_type": "code",
   "execution_count": 5,
   "metadata": {
    "collapsed": true
   },
   "outputs": [],
   "source": [
    "#### Fetch data from cathdb.info\n",
    "\n",
    "import urllib2\n",
    "\n",
    "from StringIO import StringIO\n",
    "import gzip\n",
    "\n",
    "\n",
    "putative_s35_url = 'http://download.cathdb.info/cath/releases/daily-release/newest/cath-b-s35-newest.gz'\n",
    "\n",
    "request = urllib2.Request( putative_s35_url )\n",
    "# request.add_header('Accept-encoding', 'gzip')\n",
    "response = urllib2.urlopen(request)\n",
    "# if response.info().get('Content-Encoding') == 'gz':\n",
    "if 1:\n",
    "    buf = StringIO(response.read())\n",
    "    f = gzip.GzipFile(fileobj=buf)\n",
    "    data = f.read()# len(f)\n",
    "# type(f)\n",
    "# help(f)\n",
    "# lines = data.splitlines()"
   ]
  },
  {
   "cell_type": "code",
   "execution_count": 5,
   "metadata": {},
   "outputs": [
    {
     "name": "stdout",
     "output_type": "stream",
     "text": [
      "<QuerySet [<classification: 2.40.500.10.0>]>\n"
     ]
    }
   ],
   "source": [
    "node = '2.40.500.0'\n",
    "qdict = dict(zip(levels,node.split('.')))\n",
    "c1 = classification.objects.filter(**qdict)\n",
    "for c in c1:\n",
    "# c1\n",
    "#     print(c)\n",
    "    if c.classification_set.all().exists():\n",
    "        print(c.classification_set.all())\n",
    "    else:\n",
    "        c.delete()\n",
    "        print('no domain')"
   ]
  },
  {
   "cell_type": "code",
   "execution_count": 2,
   "metadata": {},
   "outputs": [
    {
     "data": {
      "text/plain": [
       "[None, 'root', 'Class', 'arch', 'topo', 'homsf', 's35', 's60', 's95', 's100']"
      ]
     },
     "execution_count": 2,
     "metadata": {},
     "output_type": "execute_result"
    }
   ],
   "source": [
    "# c2.classification_set.all()\n",
    "levels"
   ]
  },
  {
   "cell_type": "code",
   "execution_count": 4,
   "metadata": {},
   "outputs": [
    {
     "ename": "NameError",
     "evalue": "name 'c2' is not defined",
     "output_type": "error",
     "traceback": [
      "\u001b[0;31m---------------------------------------------------------------------------\u001b[0m",
      "\u001b[0;31mNameError\u001b[0m                                 Traceback (most recent call last)",
      "\u001b[0;32m<ipython-input-4-d9ea7813c482>\u001b[0m in \u001b[0;36m<module>\u001b[0;34m()\u001b[0m\n\u001b[1;32m      5\u001b[0m \u001b[0;31m# c.pk = None\u001b[0m\u001b[0;34m\u001b[0m\u001b[0;34m\u001b[0m\u001b[0m\n\u001b[1;32m      6\u001b[0m \u001b[0;31m# c.level = None\u001b[0m\u001b[0;34m\u001b[0m\u001b[0;34m\u001b[0m\u001b[0m\n\u001b[0;32m----> 7\u001b[0;31m \u001b[0mndict\u001b[0m \u001b[0;34m=\u001b[0m \u001b[0mc2\u001b[0m\u001b[0;34m.\u001b[0m\u001b[0mnode_dict\u001b[0m\u001b[0;34m(\u001b[0m\u001b[0;34m)\u001b[0m\u001b[0;34m\u001b[0m\u001b[0m\n\u001b[0m\u001b[1;32m      8\u001b[0m \u001b[0mlv\u001b[0m \u001b[0;34m=\u001b[0m \u001b[0mc2\u001b[0m\u001b[0;34m.\u001b[0m\u001b[0mlevel\u001b[0m\u001b[0;34m.\u001b[0m\u001b[0mid\u001b[0m\u001b[0;34m\u001b[0m\u001b[0m\n\u001b[1;32m      9\u001b[0m \u001b[0mc\u001b[0m \u001b[0;34m=\u001b[0m \u001b[0mclassification\u001b[0m\u001b[0;34m.\u001b[0m\u001b[0mobjects\u001b[0m\u001b[0;34m.\u001b[0m\u001b[0mcreate\u001b[0m\u001b[0;34m(\u001b[0m\u001b[0mlevel_id\u001b[0m\u001b[0;34m=\u001b[0m\u001b[0mlv\u001b[0m\u001b[0;34m+\u001b[0m\u001b[0;36m1\u001b[0m\u001b[0;34m,\u001b[0m\u001b[0mversion_id\u001b[0m \u001b[0;34m=\u001b[0m \u001b[0;36m2\u001b[0m\u001b[0;34m,\u001b[0m\u001b[0;34m**\u001b[0m\u001b[0mndict\u001b[0m\u001b[0;34m)\u001b[0m\u001b[0;34m\u001b[0m\u001b[0m\n",
      "\u001b[0;31mNameError\u001b[0m: name 'c2' is not defined"
     ]
    }
   ],
   "source": [
    "# c = c2.classification_set.all()[0]\n",
    "\n",
    "from copy import copy\n",
    "# c=copy(c2)\n",
    "# c.pk = None\n",
    "# c.level = None\n",
    "ndict = c2.node_dict()\n",
    "lv = c2.level.id\n",
    "c = classification.objects.create(level_id=lv+1,version_id = 2,**ndict)\n",
    "# c.level = level.objects.get(id = c2.level_id+1);\n",
    "c.save()\n",
    "print(c2.level_id,c.level_id)\n",
    "print(c2.level,c.level)\n",
    "\n",
    "c.delete()\n",
    "# c2.level_id"
   ]
  },
  {
   "cell_type": "code",
   "execution_count": 10,
   "metadata": {
    "collapsed": true
   },
   "outputs": [],
   "source": [
    "### Codes here before goes into utils_db.py\n",
    "### parse_domain add domain/s35 to the existing hierarchy \n",
    "\n",
    "from domutil.util import *\n",
    "from copy import copy\n",
    "def verify_version(ver):\n",
    "    #### Check whether this version is recorded in 'version' table\n",
    "#     try:\n",
    "    vset = version.objects.filter(name=ver)\n",
    "    if vset.count() > 1:\n",
    "        raise Exception,'multiple version with name %s'%(ver)\n",
    "    elif not vset.exists():\n",
    "        v = version(name=ver)\n",
    "        v.save()\n",
    "    else:\n",
    "        v = vset[0]\n",
    "    return v\n",
    "\n",
    "verify_version('putative')\n",
    "\n",
    "def parse_domain(line):\n",
    "    global cc\n",
    "    lst = line.split()\n",
    "    \n",
    "    domain_id = lst[0]\n",
    "    ver = 'putative'\n",
    "#     ver = lst[1]\n",
    "#     node_str = lst[2]\n",
    "    homsf_str = lst[1]    \n",
    "    chopping = lst[2]\n",
    "    \n",
    "    ### verify version\n",
    "    v = verify_version(ver)\n",
    "\n",
    "    #### Check whether this node exists in 'classification' table\n",
    "#     (node,success) = classification.objects.get_bytree(node_str)\n",
    "    (node,success) = classification.objects.get_bytree(homsf_str)\n",
    "    \n",
    "    ### recursively  create new superfamily if not existing\n",
    "#     print(levels)\n",
    "    if not success: \n",
    "        lv = node.level.id\n",
    "        lst = [int(x) for x in homsf_str.split('.')]\n",
    "        lst = [0,0] + lst\n",
    "        while lv != len(lst)-1:\n",
    "            \n",
    "            lv += 1\n",
    "            \n",
    "            ndict = node.node_dict()\n",
    "            ndict[levels[lv]] = lst[lv]\n",
    "            \n",
    "            node = classification.objects.create(level_id = lv,\n",
    "                                                 version = v,\n",
    "                                                 parent = node,\n",
    "                                                 **ndict)\n",
    "            node.save()\n",
    "            \n",
    "#             print('created %s for %s'%(str(node),homsf_str))\n",
    "            cc+=1\n",
    "            \n",
    "    ####\n",
    "    conflict = 0\n",
    "    try:\n",
    "        d = node.domain\n",
    "        check = 1\n",
    "    except:\n",
    "        d = domain.objects.create(classification = node,\n",
    "                                 domain_id = domain_id)\n",
    "        d.save()\n",
    "        check = 0\n",
    "\n",
    "    if check:\n",
    "        if str(node) in mapdict.keys():\n",
    "            pass\n",
    "        elif d.domain_id != domain_id:\n",
    "            conflict = 1\n",
    "            \n",
    "            \n",
    "            node = copy(node);\n",
    "            node.pk = None\n",
    "\n",
    "            lv = node.level.id\n",
    "            setattr(node, levels[lv],\n",
    "                    max( node.parent.classification_set.values_list( levels[lv],flat = True ) )+1\n",
    "                   )\n",
    "            node.version = v\n",
    "            node.save()\n",
    "\n",
    "            d = domain.objects.create(classification = node,\n",
    "                                 domain_id = domain_id)\n",
    "            d.save()\n",
    "\n",
    "        else:\n",
    "            pass\n",
    "\n",
    "    return([node,conflict])\n",
    "    \n",
    "        \n",
    "        \n",
    "    #### if superfamily exists, check whether domain_id agreed\n",
    "    conflict = 0;\n",
    "#     print(homsf,homsf_str,success)#     print(line)\n",
    "\n",
    "    if success:\n",
    "        pass\n",
    "\n",
    "    #### Otherwise, write conflict to file\n",
    "        "
   ]
  },
  {
   "cell_type": "code",
   "execution_count": 1,
   "metadata": {
    "collapsed": true
   },
   "outputs": [],
   "source": [
    "import urllib2\n",
    "from StringIO import StringIO\n",
    "import gzip\n",
    "\n",
    "#### Download s35 file from CATH\n",
    "\n",
    "putative_s35_url = 'http://download.cathdb.info/cath/releases/daily-release/newest/cath-b-s35-newest.gz'\n",
    "request = urllib2.Request( putative_s35_url )\n",
    "\n",
    "# request.add_header('Accept-encoding', 'gzip')\n",
    "response = urllib2.urlopen(request)\n",
    "# if response.info().get('Content-Encoding') == 'gz':\n",
    "\n",
    "if 1:\n",
    "    buf = StringIO(response.read())\n",
    "    f = gzip.GzipFile(fileobj=buf)\n",
    "    data = f.read()# len(f)\n",
    "\n",
    "mapdict = {}"
   ]
  },
  {
   "cell_type": "code",
   "execution_count": 2,
   "metadata": {
    "scrolled": true
   },
   "outputs": [],
   "source": [
    "### Writing extra domians to a temporary file\n",
    "\n",
    "dlist = domain.objects.values_list('domain_id',flat = True)\n",
    "s = set(dlist)\n",
    "dlist = list(s)\n",
    "\n",
    "lines = data.splitlines()\n",
    "from domutil.util import *\n",
    "newlines = [];\n",
    "c = counter(lines, per = 1000)\n",
    "\n",
    "for line in lines:\n",
    "    c.count()\n",
    "    if line.split()[0] not in dlist:\n",
    "        newlines.append(line)\n",
    "# print(newlines)\n",
    "\n",
    "data = '\\n'.join(newlines)\n",
    "with open('tmp','w') as f:\n",
    "    f.write(data)"
   ]
  },
  {
   "cell_type": "code",
   "execution_count": 11,
   "metadata": {
    "scrolled": true
   },
   "outputs": [
    {
     "name": "stdout",
     "output_type": "stream",
     "text": [
      "0 of 12951\n",
      "1000 of 12951\n",
      "2000 of 12951\n",
      "3000 of 12951\n",
      "4000 of 12951\n",
      "5000 of 12951\n",
      "6000 of 12951\n",
      "7000 of 12951\n",
      "8000 of 12951\n",
      "9000 of 12951\n",
      "10000 of 12951\n",
      "11000 of 12951\n",
      "12000 of 12951\n",
      "6054\n"
     ]
    }
   ],
   "source": [
    "#### Parse a CATH classification file and add nodes if necessary\n",
    "cc=0\n",
    "lines = data.splitlines()\n",
    "c = counter(lines, per = 1000)\n",
    "for line in lines:\n",
    "    n,conf = parse_domain(line)\n",
    "    if conf:\n",
    "#         print(n.domain.domain_id,line)\n",
    "        mapdict[ line.split()[1] + '.0' ] = str(n)\n",
    "#         maplst +=[ (line.split()[1],str(n).rstrip('.0')) ]\n",
    "#         print(line.split()[1],str(n).rstrip('.0'))\n",
    "        \n",
    "    else:\n",
    "        pass\n",
    "#         print('success',n.domain.domain_id,line)\n",
    "    c.count()\n",
    "#     pass\n",
    "#     print(line)\n",
    "    pass\n",
    "print(cc)"
   ]
  },
  {
   "cell_type": "code",
   "execution_count": 6,
   "metadata": {
    "collapsed": true,
    "scrolled": true
   },
   "outputs": [],
   "source": [
    "### Parse a cath flat file \n",
    "def cathb2clf(data):\n",
    "    lines = data.splitlines()\n",
    "    newlines = []\n",
    "    for l in lines:\n",
    "#         l = '    '+ l\n",
    "        lst = l.split()\n",
    "\n",
    "        domain_id = lst[0]\n",
    "        ver = 'putative'\n",
    "    #     ver = lst[1]\n",
    "    #     node_str = lst[2]\n",
    "        node_str = lst[1]    \n",
    "#         chopping = lst[2]\n",
    "\n",
    "        nodelst = node_str.split('.') \n",
    "        nodelst += ( 9 - len(nodelst)) * ['1']\n",
    "        l = [lst[0]] + nodelst + ['0','0'] \n",
    "        newlines += ['     '.join(l)]\n",
    "    return('\\n'.join(newlines))\n",
    "\n",
    "# from django.conf import settings as djangoSettings\n",
    "# print(djangoSettings.STATIC_ROOT)\n",
    "fname = '../doc/cath-b-s35-newest.clfd'\n",
    "\n",
    "with open(fname,'w') as f:\n",
    "    d = cathb2clf(data)\n",
    "    f.write(d)\n",
    "# print(cathb2clf(data)[:100])\n",
    "#     with open(fname) as f:\n",
    "#         f.read"
   ]
  },
  {
   "cell_type": "code",
   "execution_count": 1,
   "metadata": {},
   "outputs": [
    {
     "name": "stdout",
     "output_type": "stream",
     "text": [
      "<QuerySet [<version: putative>]>\n"
     ]
    },
    {
     "data": {
      "text/plain": [
       "(570L,\n",
       " {u'tst.classification': 286L,\n",
       "  u'tst.domain': 283L,\n",
       "  u'tst.domain_stat': 0L,\n",
       "  u'tst.node_stat': 0L,\n",
       "  u'tst.version': 1L})"
      ]
     },
     "execution_count": 1,
     "metadata": {},
     "output_type": "execute_result"
    }
   ],
   "source": [
    "### integrity check\n",
    "#### Checking for duplicated domains\n",
    "dupes = ( domain.objects.values('domain_id')\n",
    "    .annotate(Count('id')) \n",
    "#     .order_by()\n",
    "     .filter(id__count__gt=1)\n",
    ")\n",
    "# dupd.count()\n",
    "# dupd[0]\n",
    "\n",
    "dupset = domain.objects.filter(domain_id__in=[item['domain_id'] for item in dupes])\n",
    "print len(dupes)\n",
    "\n",
    "d = dupset[0]\n",
    "doms = d.classification.parent.classification_set.all().values_list('domain')\n",
    "doms[0]\n",
    "\n",
    "#### Delete nodes added after a version\n",
    "vset = version.objects.filter(id__gte=3)\n",
    "print(vset)\n",
    "vset.delete()\n"
   ]
  },
  {
   "cell_type": "code",
   "execution_count": 11,
   "metadata": {
    "scrolled": true
   },
   "outputs": [
    {
     "name": "stdout",
     "output_type": "stream",
     "text": [
      "0 of 10243\n",
      "100 of 10243\n",
      "200 of 10243\n"
     ]
    },
    {
     "ename": "KeyboardInterrupt",
     "evalue": "",
     "output_type": "error",
     "traceback": [
      "\u001b[0;31m---------------------------------------------------------------------------\u001b[0m",
      "\u001b[0;31mKeyboardInterrupt\u001b[0m                         Traceback (most recent call last)",
      "\u001b[0;32m<ipython-input-11-940dde72cf9e>\u001b[0m in \u001b[0;36m<module>\u001b[0;34m()\u001b[0m\n\u001b[1;32m     18\u001b[0m     \u001b[0mvlst\u001b[0m \u001b[0;34m=\u001b[0m \u001b[0mdoms\u001b[0m\u001b[0;34m.\u001b[0m\u001b[0mvalues_list\u001b[0m\u001b[0;34m(\u001b[0m\u001b[0;34m'classification__version__id'\u001b[0m\u001b[0;34m)\u001b[0m\u001b[0;34m\u001b[0m\u001b[0m\n\u001b[1;32m     19\u001b[0m     \u001b[0mtlst\u001b[0m \u001b[0;34m=\u001b[0m \u001b[0;34m[\u001b[0m\u001b[0mx\u001b[0m \u001b[0;34m==\u001b[0m \u001b[0mmin\u001b[0m\u001b[0;34m(\u001b[0m\u001b[0mvlst\u001b[0m\u001b[0;34m)\u001b[0m \u001b[0;32mfor\u001b[0m \u001b[0mx\u001b[0m \u001b[0;32min\u001b[0m \u001b[0mvlst\u001b[0m\u001b[0;34m]\u001b[0m\u001b[0;34m\u001b[0m\u001b[0m\n\u001b[0;32m---> 20\u001b[0;31m     \u001b[0;32mfor\u001b[0m \u001b[0mt\u001b[0m\u001b[0;34m,\u001b[0m\u001b[0mdom\u001b[0m \u001b[0;32min\u001b[0m \u001b[0mzip\u001b[0m\u001b[0;34m(\u001b[0m\u001b[0mtlst\u001b[0m\u001b[0;34m,\u001b[0m\u001b[0mdoms\u001b[0m\u001b[0;34m)\u001b[0m \u001b[0;34m:\u001b[0m\u001b[0;34m\u001b[0m\u001b[0m\n\u001b[0m\u001b[1;32m     21\u001b[0m         \u001b[0mct\u001b[0m\u001b[0;34m.\u001b[0m\u001b[0mcount\u001b[0m\u001b[0;34m(\u001b[0m\u001b[0;34m)\u001b[0m\u001b[0;34m\u001b[0m\u001b[0m\n\u001b[1;32m     22\u001b[0m         \u001b[0;32mif\u001b[0m \u001b[0;32mnot\u001b[0m \u001b[0mt\u001b[0m\u001b[0;34m:\u001b[0m\u001b[0;34m\u001b[0m\u001b[0m\n",
      "\u001b[0;32m/home/shouldsee/.local/lib/python2.7/site-packages/django/db/models/query.pyc\u001b[0m in \u001b[0;36m__len__\u001b[0;34m(self)\u001b[0m\n\u001b[1;32m    230\u001b[0m \u001b[0;34m\u001b[0m\u001b[0m\n\u001b[1;32m    231\u001b[0m     \u001b[0;32mdef\u001b[0m \u001b[0m__len__\u001b[0m\u001b[0;34m(\u001b[0m\u001b[0mself\u001b[0m\u001b[0;34m)\u001b[0m\u001b[0;34m:\u001b[0m\u001b[0;34m\u001b[0m\u001b[0m\n\u001b[0;32m--> 232\u001b[0;31m         \u001b[0mself\u001b[0m\u001b[0;34m.\u001b[0m\u001b[0m_fetch_all\u001b[0m\u001b[0;34m(\u001b[0m\u001b[0;34m)\u001b[0m\u001b[0;34m\u001b[0m\u001b[0m\n\u001b[0m\u001b[1;32m    233\u001b[0m         \u001b[0;32mreturn\u001b[0m \u001b[0mlen\u001b[0m\u001b[0;34m(\u001b[0m\u001b[0mself\u001b[0m\u001b[0;34m.\u001b[0m\u001b[0m_result_cache\u001b[0m\u001b[0;34m)\u001b[0m\u001b[0;34m\u001b[0m\u001b[0m\n\u001b[1;32m    234\u001b[0m \u001b[0;34m\u001b[0m\u001b[0m\n",
      "\u001b[0;32m/home/shouldsee/.local/lib/python2.7/site-packages/django/db/models/query.pyc\u001b[0m in \u001b[0;36m_fetch_all\u001b[0;34m(self)\u001b[0m\n\u001b[1;32m   1116\u001b[0m     \u001b[0;32mdef\u001b[0m \u001b[0m_fetch_all\u001b[0m\u001b[0;34m(\u001b[0m\u001b[0mself\u001b[0m\u001b[0;34m)\u001b[0m\u001b[0;34m:\u001b[0m\u001b[0;34m\u001b[0m\u001b[0m\n\u001b[1;32m   1117\u001b[0m         \u001b[0;32mif\u001b[0m \u001b[0mself\u001b[0m\u001b[0;34m.\u001b[0m\u001b[0m_result_cache\u001b[0m \u001b[0;32mis\u001b[0m \u001b[0mNone\u001b[0m\u001b[0;34m:\u001b[0m\u001b[0;34m\u001b[0m\u001b[0m\n\u001b[0;32m-> 1118\u001b[0;31m             \u001b[0mself\u001b[0m\u001b[0;34m.\u001b[0m\u001b[0m_result_cache\u001b[0m \u001b[0;34m=\u001b[0m \u001b[0mlist\u001b[0m\u001b[0;34m(\u001b[0m\u001b[0mself\u001b[0m\u001b[0;34m.\u001b[0m\u001b[0m_iterable_class\u001b[0m\u001b[0;34m(\u001b[0m\u001b[0mself\u001b[0m\u001b[0;34m)\u001b[0m\u001b[0;34m)\u001b[0m\u001b[0;34m\u001b[0m\u001b[0m\n\u001b[0m\u001b[1;32m   1119\u001b[0m         \u001b[0;32mif\u001b[0m \u001b[0mself\u001b[0m\u001b[0;34m.\u001b[0m\u001b[0m_prefetch_related_lookups\u001b[0m \u001b[0;32mand\u001b[0m \u001b[0;32mnot\u001b[0m \u001b[0mself\u001b[0m\u001b[0;34m.\u001b[0m\u001b[0m_prefetch_done\u001b[0m\u001b[0;34m:\u001b[0m\u001b[0;34m\u001b[0m\u001b[0m\n\u001b[1;32m   1120\u001b[0m             \u001b[0mself\u001b[0m\u001b[0;34m.\u001b[0m\u001b[0m_prefetch_related_objects\u001b[0m\u001b[0;34m(\u001b[0m\u001b[0;34m)\u001b[0m\u001b[0;34m\u001b[0m\u001b[0m\n",
      "\u001b[0;32m/home/shouldsee/.local/lib/python2.7/site-packages/django/db/models/query.pyc\u001b[0m in \u001b[0;36m__iter__\u001b[0;34m(self)\u001b[0m\n\u001b[1;32m     51\u001b[0m         \u001b[0;31m# Execute the query. This will also fill compiler.select, klass_info,\u001b[0m\u001b[0;34m\u001b[0m\u001b[0;34m\u001b[0m\u001b[0m\n\u001b[1;32m     52\u001b[0m         \u001b[0;31m# and annotations.\u001b[0m\u001b[0;34m\u001b[0m\u001b[0;34m\u001b[0m\u001b[0m\n\u001b[0;32m---> 53\u001b[0;31m         \u001b[0mresults\u001b[0m \u001b[0;34m=\u001b[0m \u001b[0mcompiler\u001b[0m\u001b[0;34m.\u001b[0m\u001b[0mexecute_sql\u001b[0m\u001b[0;34m(\u001b[0m\u001b[0mchunked_fetch\u001b[0m\u001b[0;34m=\u001b[0m\u001b[0mself\u001b[0m\u001b[0;34m.\u001b[0m\u001b[0mchunked_fetch\u001b[0m\u001b[0;34m)\u001b[0m\u001b[0;34m\u001b[0m\u001b[0m\n\u001b[0m\u001b[1;32m     54\u001b[0m         select, klass_info, annotation_col_map = (compiler.select, compiler.klass_info,\n\u001b[1;32m     55\u001b[0m                                                   compiler.annotation_col_map)\n",
      "\u001b[0;32m/home/shouldsee/.local/lib/python2.7/site-packages/django/db/models/sql/compiler.pyc\u001b[0m in \u001b[0;36mexecute_sql\u001b[0;34m(self, result_type, chunked_fetch)\u001b[0m\n\u001b[1;32m    861\u001b[0m             \u001b[0mresult_type\u001b[0m \u001b[0;34m=\u001b[0m \u001b[0mNO_RESULTS\u001b[0m\u001b[0;34m\u001b[0m\u001b[0m\n\u001b[1;32m    862\u001b[0m         \u001b[0;32mtry\u001b[0m\u001b[0;34m:\u001b[0m\u001b[0;34m\u001b[0m\u001b[0m\n\u001b[0;32m--> 863\u001b[0;31m             \u001b[0msql\u001b[0m\u001b[0;34m,\u001b[0m \u001b[0mparams\u001b[0m \u001b[0;34m=\u001b[0m \u001b[0mself\u001b[0m\u001b[0;34m.\u001b[0m\u001b[0mas_sql\u001b[0m\u001b[0;34m(\u001b[0m\u001b[0;34m)\u001b[0m\u001b[0;34m\u001b[0m\u001b[0m\n\u001b[0m\u001b[1;32m    864\u001b[0m             \u001b[0;32mif\u001b[0m \u001b[0;32mnot\u001b[0m \u001b[0msql\u001b[0m\u001b[0;34m:\u001b[0m\u001b[0;34m\u001b[0m\u001b[0m\n\u001b[1;32m    865\u001b[0m                 \u001b[0;32mraise\u001b[0m \u001b[0mEmptyResultSet\u001b[0m\u001b[0;34m\u001b[0m\u001b[0m\n",
      "\u001b[0;32m/home/shouldsee/.local/lib/python2.7/site-packages/django/db/models/sql/compiler.pyc\u001b[0m in \u001b[0;36mas_sql\u001b[0;34m(self, with_limits, with_col_aliases)\u001b[0m\n\u001b[1;32m    418\u001b[0m \u001b[0;34m\u001b[0m\u001b[0m\n\u001b[1;32m    419\u001b[0m             \u001b[0mfor_update_part\u001b[0m \u001b[0;34m=\u001b[0m \u001b[0mNone\u001b[0m\u001b[0;34m\u001b[0m\u001b[0m\n\u001b[0;32m--> 420\u001b[0;31m             \u001b[0mwhere\u001b[0m\u001b[0;34m,\u001b[0m \u001b[0mw_params\u001b[0m \u001b[0;34m=\u001b[0m \u001b[0mself\u001b[0m\u001b[0;34m.\u001b[0m\u001b[0mcompile\u001b[0m\u001b[0;34m(\u001b[0m\u001b[0mself\u001b[0m\u001b[0;34m.\u001b[0m\u001b[0mwhere\u001b[0m\u001b[0;34m)\u001b[0m \u001b[0;32mif\u001b[0m \u001b[0mself\u001b[0m\u001b[0;34m.\u001b[0m\u001b[0mwhere\u001b[0m \u001b[0;32mis\u001b[0m \u001b[0;32mnot\u001b[0m \u001b[0mNone\u001b[0m \u001b[0;32melse\u001b[0m \u001b[0;34m(\u001b[0m\u001b[0;34m\"\"\u001b[0m\u001b[0;34m,\u001b[0m \u001b[0;34m[\u001b[0m\u001b[0;34m]\u001b[0m\u001b[0;34m)\u001b[0m\u001b[0;34m\u001b[0m\u001b[0m\n\u001b[0m\u001b[1;32m    421\u001b[0m             \u001b[0mhaving\u001b[0m\u001b[0;34m,\u001b[0m \u001b[0mh_params\u001b[0m \u001b[0;34m=\u001b[0m \u001b[0mself\u001b[0m\u001b[0;34m.\u001b[0m\u001b[0mcompile\u001b[0m\u001b[0;34m(\u001b[0m\u001b[0mself\u001b[0m\u001b[0;34m.\u001b[0m\u001b[0mhaving\u001b[0m\u001b[0;34m)\u001b[0m \u001b[0;32mif\u001b[0m \u001b[0mself\u001b[0m\u001b[0;34m.\u001b[0m\u001b[0mhaving\u001b[0m \u001b[0;32mis\u001b[0m \u001b[0;32mnot\u001b[0m \u001b[0mNone\u001b[0m \u001b[0;32melse\u001b[0m \u001b[0;34m(\u001b[0m\u001b[0;34m\"\"\u001b[0m\u001b[0;34m,\u001b[0m \u001b[0;34m[\u001b[0m\u001b[0;34m]\u001b[0m\u001b[0;34m)\u001b[0m\u001b[0;34m\u001b[0m\u001b[0m\n\u001b[1;32m    422\u001b[0m \u001b[0;34m\u001b[0m\u001b[0m\n",
      "\u001b[0;32m/home/shouldsee/.local/lib/python2.7/site-packages/django/db/models/sql/compiler.pyc\u001b[0m in \u001b[0;36mcompile\u001b[0;34m(self, node, select_format)\u001b[0m\n\u001b[1;32m    371\u001b[0m             \u001b[0msql\u001b[0m\u001b[0;34m,\u001b[0m \u001b[0mparams\u001b[0m \u001b[0;34m=\u001b[0m \u001b[0mvendor_impl\u001b[0m\u001b[0;34m(\u001b[0m\u001b[0mself\u001b[0m\u001b[0;34m,\u001b[0m \u001b[0mself\u001b[0m\u001b[0;34m.\u001b[0m\u001b[0mconnection\u001b[0m\u001b[0;34m)\u001b[0m\u001b[0;34m\u001b[0m\u001b[0m\n\u001b[1;32m    372\u001b[0m         \u001b[0;32melse\u001b[0m\u001b[0;34m:\u001b[0m\u001b[0;34m\u001b[0m\u001b[0m\n\u001b[0;32m--> 373\u001b[0;31m             \u001b[0msql\u001b[0m\u001b[0;34m,\u001b[0m \u001b[0mparams\u001b[0m \u001b[0;34m=\u001b[0m \u001b[0mnode\u001b[0m\u001b[0;34m.\u001b[0m\u001b[0mas_sql\u001b[0m\u001b[0;34m(\u001b[0m\u001b[0mself\u001b[0m\u001b[0;34m,\u001b[0m \u001b[0mself\u001b[0m\u001b[0;34m.\u001b[0m\u001b[0mconnection\u001b[0m\u001b[0;34m)\u001b[0m\u001b[0;34m\u001b[0m\u001b[0m\n\u001b[0m\u001b[1;32m    374\u001b[0m         \u001b[0;32mif\u001b[0m \u001b[0mselect_format\u001b[0m \u001b[0;32mis\u001b[0m \u001b[0mFORCE\u001b[0m \u001b[0;32mor\u001b[0m \u001b[0;34m(\u001b[0m\u001b[0mselect_format\u001b[0m \u001b[0;32mand\u001b[0m \u001b[0;32mnot\u001b[0m \u001b[0mself\u001b[0m\u001b[0;34m.\u001b[0m\u001b[0mquery\u001b[0m\u001b[0;34m.\u001b[0m\u001b[0msubquery\u001b[0m\u001b[0;34m)\u001b[0m\u001b[0;34m:\u001b[0m\u001b[0;34m\u001b[0m\u001b[0m\n\u001b[1;32m    375\u001b[0m             \u001b[0;32mreturn\u001b[0m \u001b[0mnode\u001b[0m\u001b[0;34m.\u001b[0m\u001b[0moutput_field\u001b[0m\u001b[0;34m.\u001b[0m\u001b[0mselect_format\u001b[0m\u001b[0;34m(\u001b[0m\u001b[0mself\u001b[0m\u001b[0;34m,\u001b[0m \u001b[0msql\u001b[0m\u001b[0;34m,\u001b[0m \u001b[0mparams\u001b[0m\u001b[0;34m)\u001b[0m\u001b[0;34m\u001b[0m\u001b[0m\n",
      "\u001b[0;32m/home/shouldsee/.local/lib/python2.7/site-packages/django/db/models/sql/where.pyc\u001b[0m in \u001b[0;36mas_sql\u001b[0;34m(self, compiler, connection)\u001b[0m\n\u001b[1;32m     77\u001b[0m         \u001b[0;32mfor\u001b[0m \u001b[0mchild\u001b[0m \u001b[0;32min\u001b[0m \u001b[0mself\u001b[0m\u001b[0;34m.\u001b[0m\u001b[0mchildren\u001b[0m\u001b[0;34m:\u001b[0m\u001b[0;34m\u001b[0m\u001b[0m\n\u001b[1;32m     78\u001b[0m             \u001b[0;32mtry\u001b[0m\u001b[0;34m:\u001b[0m\u001b[0;34m\u001b[0m\u001b[0m\n\u001b[0;32m---> 79\u001b[0;31m                 \u001b[0msql\u001b[0m\u001b[0;34m,\u001b[0m \u001b[0mparams\u001b[0m \u001b[0;34m=\u001b[0m \u001b[0mcompiler\u001b[0m\u001b[0;34m.\u001b[0m\u001b[0mcompile\u001b[0m\u001b[0;34m(\u001b[0m\u001b[0mchild\u001b[0m\u001b[0;34m)\u001b[0m\u001b[0;34m\u001b[0m\u001b[0m\n\u001b[0m\u001b[1;32m     80\u001b[0m             \u001b[0;32mexcept\u001b[0m \u001b[0mEmptyResultSet\u001b[0m\u001b[0;34m:\u001b[0m\u001b[0;34m\u001b[0m\u001b[0m\n\u001b[1;32m     81\u001b[0m                 \u001b[0mempty_needed\u001b[0m \u001b[0;34m-=\u001b[0m \u001b[0;36m1\u001b[0m\u001b[0;34m\u001b[0m\u001b[0m\n",
      "\u001b[0;32m/home/shouldsee/.local/lib/python2.7/site-packages/django/db/models/sql/compiler.pyc\u001b[0m in \u001b[0;36mcompile\u001b[0;34m(self, node, select_format)\u001b[0m\n\u001b[1;32m    371\u001b[0m             \u001b[0msql\u001b[0m\u001b[0;34m,\u001b[0m \u001b[0mparams\u001b[0m \u001b[0;34m=\u001b[0m \u001b[0mvendor_impl\u001b[0m\u001b[0;34m(\u001b[0m\u001b[0mself\u001b[0m\u001b[0;34m,\u001b[0m \u001b[0mself\u001b[0m\u001b[0;34m.\u001b[0m\u001b[0mconnection\u001b[0m\u001b[0;34m)\u001b[0m\u001b[0;34m\u001b[0m\u001b[0m\n\u001b[1;32m    372\u001b[0m         \u001b[0;32melse\u001b[0m\u001b[0;34m:\u001b[0m\u001b[0;34m\u001b[0m\u001b[0m\n\u001b[0;32m--> 373\u001b[0;31m             \u001b[0msql\u001b[0m\u001b[0;34m,\u001b[0m \u001b[0mparams\u001b[0m \u001b[0;34m=\u001b[0m \u001b[0mnode\u001b[0m\u001b[0;34m.\u001b[0m\u001b[0mas_sql\u001b[0m\u001b[0;34m(\u001b[0m\u001b[0mself\u001b[0m\u001b[0;34m,\u001b[0m \u001b[0mself\u001b[0m\u001b[0;34m.\u001b[0m\u001b[0mconnection\u001b[0m\u001b[0;34m)\u001b[0m\u001b[0;34m\u001b[0m\u001b[0m\n\u001b[0m\u001b[1;32m    374\u001b[0m         \u001b[0;32mif\u001b[0m \u001b[0mselect_format\u001b[0m \u001b[0;32mis\u001b[0m \u001b[0mFORCE\u001b[0m \u001b[0;32mor\u001b[0m \u001b[0;34m(\u001b[0m\u001b[0mselect_format\u001b[0m \u001b[0;32mand\u001b[0m \u001b[0;32mnot\u001b[0m \u001b[0mself\u001b[0m\u001b[0;34m.\u001b[0m\u001b[0mquery\u001b[0m\u001b[0;34m.\u001b[0m\u001b[0msubquery\u001b[0m\u001b[0;34m)\u001b[0m\u001b[0;34m:\u001b[0m\u001b[0;34m\u001b[0m\u001b[0m\n\u001b[1;32m    375\u001b[0m             \u001b[0;32mreturn\u001b[0m \u001b[0mnode\u001b[0m\u001b[0;34m.\u001b[0m\u001b[0moutput_field\u001b[0m\u001b[0;34m.\u001b[0m\u001b[0mselect_format\u001b[0m\u001b[0;34m(\u001b[0m\u001b[0mself\u001b[0m\u001b[0;34m,\u001b[0m \u001b[0msql\u001b[0m\u001b[0;34m,\u001b[0m \u001b[0mparams\u001b[0m\u001b[0;34m)\u001b[0m\u001b[0;34m\u001b[0m\u001b[0m\n",
      "\u001b[0;32m/home/shouldsee/.local/lib/python2.7/site-packages/django/db/models/lookups.pyc\u001b[0m in \u001b[0;36mas_sql\u001b[0;34m(self, compiler, connection)\u001b[0m\n\u001b[1;32m    379\u001b[0m         \u001b[0;32mif\u001b[0m \u001b[0mself\u001b[0m\u001b[0;34m.\u001b[0m\u001b[0mrhs_is_direct_value\u001b[0m\u001b[0;34m(\u001b[0m\u001b[0;34m)\u001b[0m \u001b[0;32mand\u001b[0m \u001b[0mmax_in_list_size\u001b[0m \u001b[0;32mand\u001b[0m \u001b[0mlen\u001b[0m\u001b[0;34m(\u001b[0m\u001b[0mself\u001b[0m\u001b[0;34m.\u001b[0m\u001b[0mrhs\u001b[0m\u001b[0;34m)\u001b[0m \u001b[0;34m>\u001b[0m \u001b[0mmax_in_list_size\u001b[0m\u001b[0;34m:\u001b[0m\u001b[0;34m\u001b[0m\u001b[0m\n\u001b[1;32m    380\u001b[0m             \u001b[0;32mreturn\u001b[0m \u001b[0mself\u001b[0m\u001b[0;34m.\u001b[0m\u001b[0msplit_parameter_list_as_sql\u001b[0m\u001b[0;34m(\u001b[0m\u001b[0mcompiler\u001b[0m\u001b[0;34m,\u001b[0m \u001b[0mconnection\u001b[0m\u001b[0;34m)\u001b[0m\u001b[0;34m\u001b[0m\u001b[0m\n\u001b[0;32m--> 381\u001b[0;31m         \u001b[0;32mreturn\u001b[0m \u001b[0msuper\u001b[0m\u001b[0;34m(\u001b[0m\u001b[0mIn\u001b[0m\u001b[0;34m,\u001b[0m \u001b[0mself\u001b[0m\u001b[0;34m)\u001b[0m\u001b[0;34m.\u001b[0m\u001b[0mas_sql\u001b[0m\u001b[0;34m(\u001b[0m\u001b[0mcompiler\u001b[0m\u001b[0;34m,\u001b[0m \u001b[0mconnection\u001b[0m\u001b[0;34m)\u001b[0m\u001b[0;34m\u001b[0m\u001b[0m\n\u001b[0m\u001b[1;32m    382\u001b[0m \u001b[0;34m\u001b[0m\u001b[0m\n\u001b[1;32m    383\u001b[0m     \u001b[0;32mdef\u001b[0m \u001b[0msplit_parameter_list_as_sql\u001b[0m\u001b[0;34m(\u001b[0m\u001b[0mself\u001b[0m\u001b[0;34m,\u001b[0m \u001b[0mcompiler\u001b[0m\u001b[0;34m,\u001b[0m \u001b[0mconnection\u001b[0m\u001b[0;34m)\u001b[0m\u001b[0;34m:\u001b[0m\u001b[0;34m\u001b[0m\u001b[0m\n",
      "\u001b[0;32m/home/shouldsee/.local/lib/python2.7/site-packages/django/db/models/lookups.pyc\u001b[0m in \u001b[0;36mas_sql\u001b[0;34m(self, compiler, connection)\u001b[0m\n\u001b[1;32m    168\u001b[0m     \u001b[0;32mdef\u001b[0m \u001b[0mas_sql\u001b[0m\u001b[0;34m(\u001b[0m\u001b[0mself\u001b[0m\u001b[0;34m,\u001b[0m \u001b[0mcompiler\u001b[0m\u001b[0;34m,\u001b[0m \u001b[0mconnection\u001b[0m\u001b[0;34m)\u001b[0m\u001b[0;34m:\u001b[0m\u001b[0;34m\u001b[0m\u001b[0m\n\u001b[1;32m    169\u001b[0m         \u001b[0mlhs_sql\u001b[0m\u001b[0;34m,\u001b[0m \u001b[0mparams\u001b[0m \u001b[0;34m=\u001b[0m \u001b[0mself\u001b[0m\u001b[0;34m.\u001b[0m\u001b[0mprocess_lhs\u001b[0m\u001b[0;34m(\u001b[0m\u001b[0mcompiler\u001b[0m\u001b[0;34m,\u001b[0m \u001b[0mconnection\u001b[0m\u001b[0;34m)\u001b[0m\u001b[0;34m\u001b[0m\u001b[0m\n\u001b[0;32m--> 170\u001b[0;31m         \u001b[0mrhs_sql\u001b[0m\u001b[0;34m,\u001b[0m \u001b[0mrhs_params\u001b[0m \u001b[0;34m=\u001b[0m \u001b[0mself\u001b[0m\u001b[0;34m.\u001b[0m\u001b[0mprocess_rhs\u001b[0m\u001b[0;34m(\u001b[0m\u001b[0mcompiler\u001b[0m\u001b[0;34m,\u001b[0m \u001b[0mconnection\u001b[0m\u001b[0;34m)\u001b[0m\u001b[0;34m\u001b[0m\u001b[0m\n\u001b[0m\u001b[1;32m    171\u001b[0m         \u001b[0mparams\u001b[0m\u001b[0;34m.\u001b[0m\u001b[0mextend\u001b[0m\u001b[0;34m(\u001b[0m\u001b[0mrhs_params\u001b[0m\u001b[0;34m)\u001b[0m\u001b[0;34m\u001b[0m\u001b[0m\n\u001b[1;32m    172\u001b[0m         \u001b[0mrhs_sql\u001b[0m \u001b[0;34m=\u001b[0m \u001b[0mself\u001b[0m\u001b[0;34m.\u001b[0m\u001b[0mget_rhs_op\u001b[0m\u001b[0;34m(\u001b[0m\u001b[0mconnection\u001b[0m\u001b[0;34m,\u001b[0m \u001b[0mrhs_sql\u001b[0m\u001b[0;34m)\u001b[0m\u001b[0;34m\u001b[0m\u001b[0m\n",
      "\u001b[0;32m/home/shouldsee/.local/lib/python2.7/site-packages/django/db/models/lookups.pyc\u001b[0m in \u001b[0;36mprocess_rhs\u001b[0;34m(self, compiler, connection)\u001b[0m\n\u001b[1;32m    366\u001b[0m             \u001b[0;31m# rhs should be an iterable; use batch_process_rhs() to\u001b[0m\u001b[0;34m\u001b[0m\u001b[0;34m\u001b[0m\u001b[0m\n\u001b[1;32m    367\u001b[0m             \u001b[0;31m# prepare/transform those values.\u001b[0m\u001b[0;34m\u001b[0m\u001b[0;34m\u001b[0m\u001b[0m\n\u001b[0;32m--> 368\u001b[0;31m             \u001b[0msqls\u001b[0m\u001b[0;34m,\u001b[0m \u001b[0msqls_params\u001b[0m \u001b[0;34m=\u001b[0m \u001b[0mself\u001b[0m\u001b[0;34m.\u001b[0m\u001b[0mbatch_process_rhs\u001b[0m\u001b[0;34m(\u001b[0m\u001b[0mcompiler\u001b[0m\u001b[0;34m,\u001b[0m \u001b[0mconnection\u001b[0m\u001b[0;34m,\u001b[0m \u001b[0mrhs\u001b[0m\u001b[0;34m)\u001b[0m\u001b[0;34m\u001b[0m\u001b[0m\n\u001b[0m\u001b[1;32m    369\u001b[0m             \u001b[0mplaceholder\u001b[0m \u001b[0;34m=\u001b[0m \u001b[0;34m'('\u001b[0m \u001b[0;34m+\u001b[0m \u001b[0;34m', '\u001b[0m\u001b[0;34m.\u001b[0m\u001b[0mjoin\u001b[0m\u001b[0;34m(\u001b[0m\u001b[0msqls\u001b[0m\u001b[0;34m)\u001b[0m \u001b[0;34m+\u001b[0m \u001b[0;34m')'\u001b[0m\u001b[0;34m\u001b[0m\u001b[0m\n\u001b[1;32m    370\u001b[0m             \u001b[0;32mreturn\u001b[0m \u001b[0;34m(\u001b[0m\u001b[0mplaceholder\u001b[0m\u001b[0;34m,\u001b[0m \u001b[0msqls_params\u001b[0m\u001b[0;34m)\u001b[0m\u001b[0;34m\u001b[0m\u001b[0m\n",
      "\u001b[0;32m/home/shouldsee/.local/lib/python2.7/site-packages/django/db/models/lookups.pyc\u001b[0m in \u001b[0;36mbatch_process_rhs\u001b[0;34m(self, compiler, connection, rhs)\u001b[0m\n\u001b[1;32m    245\u001b[0m         sql, params = zip(*(\n\u001b[1;32m    246\u001b[0m             \u001b[0mself\u001b[0m\u001b[0;34m.\u001b[0m\u001b[0mresolve_expression_parameter\u001b[0m\u001b[0;34m(\u001b[0m\u001b[0mcompiler\u001b[0m\u001b[0;34m,\u001b[0m \u001b[0mconnection\u001b[0m\u001b[0;34m,\u001b[0m \u001b[0msql\u001b[0m\u001b[0;34m,\u001b[0m \u001b[0mparam\u001b[0m\u001b[0;34m)\u001b[0m\u001b[0;34m\u001b[0m\u001b[0m\n\u001b[0;32m--> 247\u001b[0;31m             \u001b[0;32mfor\u001b[0m \u001b[0msql\u001b[0m\u001b[0;34m,\u001b[0m \u001b[0mparam\u001b[0m \u001b[0;32min\u001b[0m \u001b[0mzip\u001b[0m\u001b[0;34m(\u001b[0m\u001b[0;34m*\u001b[0m\u001b[0mpre_processed\u001b[0m\u001b[0;34m)\u001b[0m\u001b[0;34m\u001b[0m\u001b[0m\n\u001b[0m\u001b[1;32m    248\u001b[0m         ))\n\u001b[1;32m    249\u001b[0m         \u001b[0mparams\u001b[0m \u001b[0;34m=\u001b[0m \u001b[0mitertools\u001b[0m\u001b[0;34m.\u001b[0m\u001b[0mchain\u001b[0m\u001b[0;34m.\u001b[0m\u001b[0mfrom_iterable\u001b[0m\u001b[0;34m(\u001b[0m\u001b[0mparams\u001b[0m\u001b[0;34m)\u001b[0m\u001b[0;34m\u001b[0m\u001b[0m\n",
      "\u001b[0;31mKeyboardInterrupt\u001b[0m: "
     ]
    }
   ],
   "source": [
    "### Deprecated\n",
    "# # dupes[0]\n",
    "# from domutil.util import *\n",
    "\n",
    "# ct = counter(dupes)\n",
    "# # for d in dupset:\n",
    "# #     doms = d.classification.parent.classification_set.all().domain\n",
    "\n",
    "# cid = [];\n",
    "# did = [];\n",
    "# cdel = classification.objects.none()\n",
    "# ddel = domain.objects.none()\n",
    "\n",
    "\n",
    "# for ele in dupes:\n",
    "# # domain_id = dupes[0]['domain_id']\n",
    "#     domain_id = ele['domain_id']\n",
    "#     doms = dupset.filter(domain_id=domain_id)\n",
    "#     vlst = doms.values_list('classification__version__id')\n",
    "#     tlst = [x == min(vlst) for x in vlst]\n",
    "#     for t,dom in zip(tlst,doms) :\n",
    "#         ct.count()\n",
    "#         if not t:\n",
    "# #             print(dom.domain_id)\n",
    "            \n",
    "#             c = dom.classification\n",
    "#             cid += [c.id]\n",
    "#             did += [dom.id]\n",
    "# #             cdel = cdel | c\n",
    "# #             ddel = ddel | dom\n",
    "# #             c.delete()\n",
    "# #             dom.delete()\n",
    "# # print(vlst)\n",
    "# # min(doms)\n",
    "# # print(dupd)"
   ]
  },
  {
   "cell_type": "code",
   "execution_count": 46,
   "metadata": {
    "collapsed": true
   },
   "outputs": [],
   "source": [
    "# import numpy as np \n",
    "# from domutil.util import *\n",
    "\n",
    "\n",
    "# def homsf_stat_fill(h):\n",
    "# # if 1:\n",
    "#     if h.level.letter == 'H':\n",
    "#         pass\n",
    "#     else:\n",
    "#         print \"Node %s is not filled because it is not a homsf, but a '%s'\" % (str(h),h.level.letter)\n",
    "    \n",
    "    \n",
    "#     try:\n",
    "#         nstat = h.node_stat\n",
    "#     except:\n",
    "#         nstat = node_stat(node = h)\n",
    "#         nstat.save()\n",
    "        \n",
    "\n",
    "#     hset  = h.classification_set;\n",
    "#     if hset.count()>10:\n",
    "#         hset = hset.annotate(Acount=Avg(\"domain__domain_stat__atom_count\"))\n",
    "#         hset = hset.annotate(Rcount=Avg(\"domain__domain_stat__res_count\"))\n",
    "#         hset = hset.annotate(NBcount=Avg(\"domain__domain_stat__nbpair_count\"))\n",
    "\n",
    "#     #     hset.domain\n",
    "#         l = hset.values_list('Acount','Rcount','NBcount')\n",
    "#         a = np.array(l)\n",
    "#     #     C = np.cov(a[:,0],a[:,1],a[:,2])\n",
    "#         c = np.cov(a.T)\n",
    "#         C = cov2corr(c); ## utils.cov2corr\n",
    "# #         print(C.shape)\n",
    "#         nstat.Rsq_NBcount_Acount = C[0,2] ** 2\n",
    "#         nstat.Rsq_NBcount_Rcount = C[1,2] ** 2\n",
    "#     else:\n",
    "#         nstat.Rsq_NBcount_Acount = None\n",
    "#         nstat.Rsq_NBcount_Rcount = None\n",
    "#     try:\n",
    "#         nstat.save()\n",
    "#     except:\n",
    "#         print nstat.__dict__\n",
    "#     return h\n",
    "\n",
    "# #     print l[:10]\n",
    "# #     print l[1]\n",
    "# #     print len(l)\n",
    "# h = lst[2]\n",
    "# homsf_stat_fill(h)"
   ]
  }
 ],
 "metadata": {
  "kernelspec": {
   "display_name": "Django Shell-Plus",
   "language": "python",
   "name": "django_extensions"
  },
  "language_info": {
   "codemirror_mode": {
    "name": "ipython",
    "version": 2
   },
   "file_extension": ".py",
   "mimetype": "text/x-python",
   "name": "python",
   "nbconvert_exporter": "python",
   "pygments_lexer": "ipython2",
   "version": "2.7.12"
  }
 },
 "nbformat": 4,
 "nbformat_minor": 2
}
