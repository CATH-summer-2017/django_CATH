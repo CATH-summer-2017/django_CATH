{
 "cells": [
  {
   "cell_type": "code",
   "execution_count": 1,
   "metadata": {},
   "outputs": [
    {
     "name": "stdout",
     "output_type": "stream",
     "text": [
      "settings.USE_MODELLER\n"
     ]
    }
   ],
   "source": [
    "\n",
    "from time import time\n",
    "import numpy as np\n",
    "from tst.domutil.util import *\n",
    "reset_database_connection()\n",
    "from tst.domutil.test import *\n",
    "from tst.utils_db import *\n",
    "\n",
    "from copy import copy\n",
    "from scipy.sparse import *\n",
    "from scipy.spatial.distance import *\n",
    "\n",
    "jdict = {\n",
    "    'name':'crosshit',\n",
    "    'version':'4_0_0',\n",
    "}\n",
    "sDB_crosshit = verify_exist_entry(seqDB,**jdict)"
   ]
  },
  {
   "cell_type": "code",
   "execution_count": 7,
   "metadata": {},
   "outputs": [
    {
     "name": "stdout",
     "output_type": "stream",
     "text": [
      "CPU times: user 0 ns, sys: 0 ns, total: 0 ns\n",
      "Wall time: 10 µs\n"
     ]
    }
   ],
   "source": [
    "%%time\n",
    "# keys\n",
    "# self = matObj\n",
    "\n",
    "def hitcount(self, **kwargs):\n",
    "#     if not kwargs:\n",
    "#         kwargs = {\"ISS_norm__gte\":0.5}\n",
    "    if self.sDB.name != 'crosshit':\n",
    "            kwargs.update({\n",
    "             'ISS_norm__gte' : 0.5,\n",
    "             'ISS_raw__gte' : 10,        \n",
    "            })\n",
    "    print self.rfield\n",
    "    self.mapper = {}\n",
    "    self.mapper['node2hitseq'] = self.rfield\n",
    "    self.mapper['node2hit'] = self.rfield.replace('__hits','__hit4hmm2hsp')\n",
    "    self.mapper['node2sDB'] = self.rfield + '__seqDB'\n",
    "    self.mapper['node2hmmnode2'] = self.rfield.rstrip('__hmmprofile__hits')\n",
    "    self.mapper['hmmnode2node'] = self.field.replace('cath_node__','')\n",
    "#     self.mapper['node'] = \n",
    "#     self.node2hitseq_field = self.rfield\n",
    "#     self.node2hit_field = \n",
    "#     self.seq_field = self.rfield\n",
    "    self.crosshits = self.sDB.hit4cath2cath_set.filter(\n",
    "        Q(node1__in=self.hmmnodes)|Q(node2__in=self.hmmnodes)\n",
    "    )\n",
    "    qset  = self.crosshits.values_list(\n",
    "    'node1__'+self.mapper['hmmnode2node'],\n",
    "    'node2__'+self.mapper['hmmnode2node'],\n",
    "    )\n",
    "    for k,v in kwargs.items():\n",
    "        qset = qset.filter(**{k:v})\n",
    "        \n",
    "        \n",
    "#     lst = zip(*list(qset))\n",
    "#     [self.forward_dict[e] for e in x]\n",
    "    \n",
    "    \n",
    "    lst = (tuple(sorted([self.forward_dict[e] for e in x])) for x in qset)\n",
    "    ###\n",
    "    ###\n",
    "    ###\n",
    "    m = matrify(lst, l = self.l )\n",
    "    return m"
   ]
  },
  {
   "cell_type": "code",
   "execution_count": 4,
   "metadata": {},
   "outputs": [],
   "source": [
    "def contrast__crosshit(sDB1,sDB2,hmms = None):\n",
    "    if not hmms:\n",
    "        hmms  = HMMprofile.objects\n",
    "    m1 = ctmat( hmms, sDB = sDB1, \n",
    "               alias = sDB1.name , letter = 'H')\n",
    "    m2 = ctmat( hmms, sDB = sDB2, \n",
    "               alias = sDB1.name , letter = 'H')    \n",
    "    ct1 = hitcount(m1)\n",
    "    ct2 = hitcount(m2)\n",
    "#     ct1 = m1.hitcount()\n",
    "#     ct2 = m2.hitcount()\n",
    "    ctc = concat_dok([ct1,ct2])\n",
    "#     return ctc\n",
    "    OUTPUT = contrast__qset( ctc, m1.reverse_dict )\n",
    "    return OUTPUT\n",
    "\n",
    "# sDB1 = seqDB.objects.get(name='CATH-S40-nr')\n",
    "# sDB2 = seqDB.objects.get(name='crosshit')\n",
    "# ctc = contrast__crosshit(sDB1,sDB2)"
   ]
  },
  {
   "cell_type": "code",
   "execution_count": 15,
   "metadata": {
    "collapsed": true
   },
   "outputs": [],
   "source": [
    "%load_ext autoreload\n",
    "%autoreload"
   ]
  },
  {
   "cell_type": "code",
   "execution_count": 31,
   "metadata": {
    "scrolled": true
   },
   "outputs": [
    {
     "name": "stdout",
     "output_type": "stream",
     "text": [
      "The autoreload extension is already loaded. To reload it, use:\n",
      "  %reload_ext autoreload\n",
      "settings.USE_MODELLER\n",
      "classification__hmmprofile__hits\n",
      "classification__hmmprofile__hits\n",
      "0 of -1\n",
      "\n",
      "[SUMMARY]:\n",
      "\t[Task]: finshed concatenating sparse matrix from  \n",
      "\t[Failrate]0 instances of 1116 failed, ( 0.00% )\n",
      "\t[Duration]:Ended after 0.0312 sec\n"
     ]
    }
   ],
   "source": [
    "%load_ext autoreload\n",
    "%autoreload\n",
    "sDB1 = seqDB.objects.get(name='CATH-S40-nr')\n",
    "sDB2 = seqDB.objects.get(name='crosshit')\n",
    "\n",
    "def test():\n",
    "    hmms  = HMMprofile.objects\n",
    "    m1 = ctmat( hmms, sDB = sDB1, \n",
    "               alias = sDB1.name , letter = 'H')\n",
    "    m2 = ctmat( hmms, sDB = sDB2, \n",
    "               alias = sDB2.name , letter = 'H') \n",
    "#     hitcount(m2)\n",
    "#     m2.hitcount\n",
    "#     sDB2 = seqDB.objects.get(name='crosshit')\n",
    "#     qset = contrast__crosshit(sDB1,sDB2)\n",
    "# %load_ext line_profiler\n",
    "# %reload_ext line_profiler\n",
    "%lprun -f ctmat.hitcount contrast__crosshit(sDB1,sDB2)"
   ]
  },
  {
   "cell_type": "code",
   "execution_count": 32,
   "metadata": {
    "scrolled": true
   },
   "outputs": [
    {
     "name": "stdout",
     "output_type": "stream",
     "text": [
      "classification__hmmprofile__hits\n",
      "classification__hmmprofile__hits\n",
      "0 of -1\n",
      "\n",
      "[SUMMARY]:\n",
      "\t[Task]: finshed concatenating sparse matrix from  \n",
      "\t[Failrate]0 instances of 1116 failed, ( 0.00% )\n",
      "\t[Duration]:Ended after 0.0107 sec\n",
      "CPU times: user 496 ms, sys: 16 ms, total: 512 ms\n",
      "Wall time: 3.26 s\n"
     ]
    }
   ],
   "source": [
    "%%time \n",
    "qset = contrast__crosshit(sDB1,sDB2)\n",
    "\n",
    "# %lprun -f \n",
    "\n",
    "# %lprun -f hitcount test()"
   ]
  },
  {
   "cell_type": "code",
   "execution_count": 8,
   "metadata": {},
   "outputs": [
    {
     "name": "stdout",
     "output_type": "stream",
     "text": [
      "\n",
      "Note: if you're in the IPython notebook, mpld3.show() is not the best command\n",
      "      to use. Consider using mpld3.display(), or mpld3.enable_notebook().\n",
      "      See more information at http://mpld3.github.io/quickstart.html .\n",
      "\n",
      "You must interrupt the kernel to end this command\n",
      "\n",
      "Serving to http://127.0.0.1:8889/    [Ctrl-C to exit]\n"
     ]
    },
    {
     "name": "stderr",
     "output_type": "stream",
     "text": [
      "127.0.0.1 - - [24/Sep/2017 12:02:34] \"GET / HTTP/1.1\" 200 -\n",
      "127.0.0.1 - - [24/Sep/2017 12:02:34] \"GET /d3.js HTTP/1.1\" 200 -\n",
      "127.0.0.1 - - [24/Sep/2017 12:02:34] \"GET /mpld3.js HTTP/1.1\" 200 -\n"
     ]
    },
    {
     "name": "stdout",
     "output_type": "stream",
     "text": [
      "\n",
      "stopping Server...\n"
     ]
    }
   ],
   "source": [
    "xs,ys = zip(*ctc.values()) \n",
    "ids = range(1,len(xs)+1)\n",
    "# xs = np.array(xs)\n",
    "# ys = np.array(ys)\n",
    "# xs = np.log(xs+1)\n",
    "# ys = np.log(ys+1) \n",
    "jdict = scatterplot_dict(xs,ys, \n",
    "                         ids,\n",
    "                         xoffset = 1,\n",
    "                         yoffset = 1,\n",
    "                         logx=1,\n",
    "                         logy=1,\n",
    "                        show = 1)"
   ]
  },
  {
   "cell_type": "code",
   "execution_count": 12,
   "metadata": {},
   "outputs": [
    {
     "name": "stdout",
     "output_type": "stream",
     "text": [
      "CPU times: user 0 ns, sys: 0 ns, total: 0 ns\n",
      "Wall time: 8.11 µs\n"
     ]
    }
   ],
   "source": [
    "%%time\n",
    "# keys\n",
    "# self = matObj\n",
    "\n",
    "def hitcount(self, **kwargs):\n",
    "#     if not kwargs:\n",
    "#         kwargs = {\"ISS_norm__gte\":0.5}\n",
    "    if self.sDB.name != 'crosshit':\n",
    "            kwargs.update({\n",
    "             'ISS_norm__gte' : 0.5,\n",
    "             'ISS_raw__gte' : 10,        \n",
    "            })\n",
    "    print self.rfield\n",
    "    self.mapper = {}\n",
    "    self.mapper['node2hitseq'] = self.rfield\n",
    "    self.mapper['node2hit'] = self.rfield.replace('__hits','__hit4hmm2hsp')\n",
    "    self.mapper['node2sDB'] = self.rfield + '__seqDB'\n",
    "    self.mapper['node2hmmnode2'] = self.rfield.rstrip('__hmmprofile__hits')\n",
    "    self.mapper['hmmnode2node'] = self.field.replace('cath_node__','')\n",
    "#     self.mapper['node'] = \n",
    "#     self.node2hitseq_field = self.rfield\n",
    "#     self.node2hit_field = \n",
    "#     self.seq_field = self.rfield\n",
    "    self.crosshits = self.sDB.hit4cath2cath_set.filter(\n",
    "        Q(node1__in=self.hmmnodes)|Q(node2__in=self.hmmnodes)\n",
    "    )\n",
    "    qset  = self.crosshits.values_list(\n",
    "    'node1__'+self.mapper['hmmnode2node'],\n",
    "    'node2__'+self.mapper['hmmnode2node'],\n",
    "    )\n",
    "    for k,v in kwargs.items():tab__hitlist__pair\n",
    "        qset = qset.filter(**{k:v})\n",
    "    lst = (tuple(sorted([self.forward_dict[e] for e in x])) for x in qset)\n",
    "    \n",
    "    m = matrify(lst, l = self.l )\n",
    "    return m\n"
   ]
  },
  {
   "cell_type": "code",
   "execution_count": 42,
   "metadata": {},
   "outputs": [
    {
     "name": "stdout",
     "output_type": "stream",
     "text": [
      "260\n"
     ]
    }
   ],
   "source": [
    "from tst.utils_db import *\n",
    "crit = {\n",
    "\n",
    "#     u'ISS_norm__gte': 0.5,\n",
    "#  u'ISS_raw__gte': 10,\n",
    " u'node1__parent__id': u'309887',\n",
    " u'node2__parent__id': u'310015'}tab__hitlist__pair\n",
    "\n",
    "sDB = seqDB.objects.get(name='CATH-S40-nr')\n",
    "qset = sDB.hit4cath2cath_set\n",
    "# qset = hit4cath2cath.objects\n",
    "qset = iter_filter(qset,**crit)\n",
    "print qset.count()"
   ]
  },
  {
   "cell_type": "code",
   "execution_count": 22,
   "metadata": {},
   "outputs": [
    {
     "data": {
      "text/plain": [
       "<classification: 1.20.5.780.0>"
      ]
     },
     "execution_count": 22,
     "metadata": {},
     "output_type": "execute_result"
    }
   ],
   "source": [
    "# from tst.models import *\n",
    "classification.objects.filter(id = '308880',).first()"
   ]
  },
  {
   "cell_type": "code",
   "execution_count": 3,
   "metadata": {
    "scrolled": true
   },
   "outputs": [],
   "source": [
    "lst = classification.objects.filter(id = '308880',).values_list('classification__hit4cath2cath1','classification__hit4cath2cath2')"
   ]
  },
  {
   "cell_type": "code",
   "execution_count": 34,
   "metadata": {},
   "outputs": [
    {
     "name": "stdout",
     "output_type": "stream",
     "text": [
      "<QuerySet []>\n"
     ]
    }
   ],
   "source": [
    "l =  [ x for x in list(set(sum(lst,()))) if x ]\n",
    "# l = set\n",
    "print hit4cath2cath.objects.filter(id__in=l).filter(ISS_norm__gte=0.5).filter(ISS_raw__gte=10).filter(node1__parent__id=u'308880').filter(node2__parent__id=u'309041')\n",
    "# .values_list('node1__parent')\n",
    "# print l"
   ]
  },
  {
   "cell_type": "code",
   "execution_count": null,
   "metadata": {
    "collapsed": true
   },
   "outputs": [],
   "source": [
    "print qset.filter({\n",
    "    \n",
    "})"
   ]
  }
 ],
 "metadata": {
  "kernelspec": {
   "display_name": "Django Shell-Plus",
   "language": "python",
   "name": "django_extensions"
  },
  "language_info": {
   "codemirror_mode": {
    "name": "ipython",
    "version": 2
   },
   "file_extension": ".py",
   "mimetype": "text/x-python",
   "name": "python",
   "nbconvert_exporter": "python",
   "pygments_lexer": "ipython2",
   "version": "2.7.12"
  }
 },
 "nbformat": 4,
 "nbformat_minor": 2
}
