{
 "cells": [
  {
   "cell_type": "code",
   "execution_count": 1,
   "metadata": {},
   "outputs": [
    {
     "name": "stderr",
     "output_type": "stream",
     "text": [
      "/export/people/zcbtfge/Documents/repos/test_envs/django_CATH/local/lib/python2.7/site-packages/Bio/SearchIO/__init__.py:211: BiopythonExperimentalWarning: Bio.SearchIO is an experimental submodule which may undergo significant changes prior to its future official release.\n",
      "  BiopythonExperimentalWarning)\n",
      "/export/people/zcbtfge/Documents/repos/test_envs/django_CATH/local/lib/python2.7/site-packages/subprocess32.py:472: RuntimeWarning: The _posixsubprocess module is not being used. Child process reliability may suffer if your program uses threads.\n",
      "  \"program uses threads.\", RuntimeWarning)\n"
     ]
    }
   ],
   "source": [
    "from tst.domutil.util import *\n",
    "from tst.domutil.test import *"
   ]
  },
  {
   "cell_type": "code",
   "execution_count": 7,
   "metadata": {
    "collapsed": true
   },
   "outputs": [],
   "source": [
    "import sys\n",
    "reload(sys.modules[\"tst.domutil.util\"])\n",
    "from tst.domutil.util import *\n",
    "reload(sys.modules[\"tst.domutil.test\"])\n",
    "from tst.domutil.test import *"
   ]
  },
  {
   "cell_type": "code",
   "execution_count": 2,
   "metadata": {},
   "outputs": [
    {
     "name": "stdout",
     "output_type": "stream",
     "text": [
      "CPU times: user 64 ms, sys: 4 ms, total: 68 ms\n",
      "Wall time: 38.9 s\n"
     ]
    }
   ],
   "source": [
    "%%time\n",
    "\n",
    "hmms = HMMprofile.objects.defer('text').all().prefetch_related('hits')\n",
    "hmms = hmms.annotate(hcount = Count('hits')).order_by('id')\n",
    "\n",
    "hmmids = list(hmms.values_list('id',flat = True))\n",
    "hcounts = list(hmms.values_list('hcount',flat = True))\n",
    "sfs = list(hmms.values_list('cath_node__parent',flat = True))\n",
    "\n",
    "\n",
    "\n",
    "###### Specify the sequence database to work with\n",
    "sDB = seqDB.objects.get(name = 'CATH')\n",
    "# sDB.sequence_set.count()\n",
    "seq = sDB.sequence_set.first()\n",
    "\n",
    "# seqset_all = sDB.sequence_set.all().prefetch_related('hmmprofile_set')\n",
    "\n",
    "# seq.hmmprofile_set.count()\n",
    "\n",
    "hmmids_pad = hmmids[:]\n",
    "hmmids_pad.insert(0, None)\n",
    "\n",
    "hcounts_pad = hcounts[:]\n",
    "hcounts_pad.insert(0,None)\n",
    "\n",
    "sfs_pad = sfs[:]\n",
    "sfs_pad.insert(0,None)\n"
   ]
  },
  {
   "cell_type": "code",
   "execution_count": 3,
   "metadata": {},
   "outputs": [
    {
     "name": "stdout",
     "output_type": "stream",
     "text": [
      "CPU times: user 23.3 s, sys: 356 ms, total: 23.6 s\n",
      "Wall time: 23.7 s\n"
     ]
    }
   ],
   "source": [
    "%%time \n",
    "D_raw  = pk_load('D_raw')\n",
    "D_norm = pk_load('D_norm')"
   ]
  },
  {
   "cell_type": "code",
   "execution_count": 4,
   "metadata": {},
   "outputs": [
    {
     "name": "stdout",
     "output_type": "stream",
     "text": [
      "[OK] HMM for 3.20.20.70.102.0  against HMM for 3.40.50.80.20.0  overlaps 1, with 1 from \n",
      "0 of -1\n",
      "[OK] HMM for 3.40.50.720.379.0  against HMM for 3.40.50.720.491.0  overlaps 3, with 3 from \n",
      "[OK] HMM for 3.40.50.300.138.0  against HMM for 3.40.50.2300.249.0  overlaps 9, with 9 from \n",
      "[OK] HMM for 3.40.190.10.284.0  against HMM for 3.40.190.10.186.0  overlaps 1, with 1 from \n",
      "[OK] HMM for 3.40.50.1820.101.0  against HMM for 3.90.1820.10.1.0  overlaps 1, with 1 from \n",
      "[OK] HMM for 3.20.20.70.102.0  against HMM for 3.40.50.80.20.0  overlaps:: Expected:0.121225155257, Actual:0.121225155257\n",
      "0 of -1\n",
      "[OK] HMM for 3.40.50.720.379.0  against HMM for 3.40.50.720.491.0  overlaps:: Expected:0.227541855883, Actual:0.227541855883\n",
      "[OK] HMM for 3.40.50.300.138.0  against HMM for 3.40.50.2300.249.0  overlaps:: Expected:0.388674527682, Actual:0.388674527682\n",
      "[OK] HMM for 3.40.190.10.284.0  against HMM for 3.40.190.10.186.0  overlaps:: Expected:0.138225282556, Actual:0.138225282556\n",
      "[OK] HMM for 3.40.50.1820.101.0  against HMM for 3.90.1820.10.1.0  overlaps:: Expected:0.106441299502, Actual:0.106441299502\n"
     ]
    }
   ],
   "source": [
    "test__raw(D_raw,hmms)\n",
    "test__norm( D_norm, hmms, ISS_normalise_new )"
   ]
  },
  {
   "cell_type": "code",
   "execution_count": 5,
   "metadata": {},
   "outputs": [
    {
     "name": "stdout",
     "output_type": "stream",
     "text": [
      "CPU times: user 20.2 s, sys: 356 ms, total: 20.6 s\n",
      "Wall time: 20.5 s\n"
     ]
    }
   ],
   "source": [
    "%%time\n",
    "sorted_D_norm = sort_coo( D_norm.tocoo(), order = -1)"
   ]
  },
  {
   "cell_type": "code",
   "execution_count": 12,
   "metadata": {},
   "outputs": [
    {
     "name": "stdout",
     "output_type": "stream",
     "text": [
      "CPU times: user 16.5 s, sys: 348 ms, total: 16.8 s\n",
      "Wall time: 16.7 s\n"
     ]
    }
   ],
   "source": [
    "it = izip(\n",
    "sorted_D_norm,\n",
    "# sfbools,    \n",
    ")"
   ]
  },
  {
   "cell_type": "code",
   "execution_count": 26,
   "metadata": {
    "collapsed": true
   },
   "outputs": [],
   "source": [
    "it = (x for x in sorted_D_norm)\n",
    "D_curr = D_raw.todok()"
   ]
  },
  {
   "cell_type": "code",
   "execution_count": null,
   "metadata": {
    "collapsed": true
   },
   "outputs": [],
   "source": []
  },
  {
   "cell_type": "code",
   "execution_count": 6,
   "metadata": {
    "scrolled": true
   },
   "outputs": [
    {
     "ename": "NameError",
     "evalue": "name 'it' is not defined",
     "output_type": "error",
     "traceback": [
      "\u001b[0;31m---------------------------------------------------------------------------\u001b[0m",
      "\u001b[0;31mNameError\u001b[0m                                 Traceback (most recent call last)",
      "\u001b[0;32m<ipython-input-6-b1a5337d26ae>\u001b[0m in \u001b[0;36m<module>\u001b[0;34m()\u001b[0m\n\u001b[1;32m      1\u001b[0m \u001b[0mi\u001b[0m \u001b[0;34m=\u001b[0m \u001b[0;36m0\u001b[0m\u001b[0;34m\u001b[0m\u001b[0m\n\u001b[1;32m      2\u001b[0m \u001b[0mc\u001b[0m \u001b[0;34m=\u001b[0m \u001b[0mcounter\u001b[0m\u001b[0;34m(\u001b[0m\u001b[0;34m[\u001b[0m\u001b[0;34m]\u001b[0m\u001b[0;34m,\u001b[0m\u001b[0mINF\u001b[0m \u001b[0;34m=\u001b[0m \u001b[0;36m1\u001b[0m\u001b[0;34m,\u001b[0m \u001b[0mper\u001b[0m \u001b[0;34m=\u001b[0m \u001b[0;36m10\u001b[0m \u001b[0;34m)\u001b[0m\u001b[0;34m\u001b[0m\u001b[0m\n\u001b[0;32m----> 3\u001b[0;31m \u001b[0;32mfor\u001b[0m \u001b[0;34m(\u001b[0m\u001b[0mhmmid1\u001b[0m\u001b[0;34m,\u001b[0m\u001b[0mhmmid2\u001b[0m\u001b[0;34m,\u001b[0m\u001b[0mv\u001b[0m\u001b[0;34m)\u001b[0m \u001b[0;32min\u001b[0m \u001b[0mit\u001b[0m\u001b[0;34m:\u001b[0m\u001b[0;34m\u001b[0m\u001b[0m\n\u001b[0m\u001b[1;32m      4\u001b[0m \u001b[0;31m# for (hmmid1,hmmid2,v),sfbool in it:\u001b[0m\u001b[0;34m\u001b[0m\u001b[0;34m\u001b[0m\u001b[0m\n\u001b[1;32m      5\u001b[0m     \u001b[0mc\u001b[0m\u001b[0;34m.\u001b[0m\u001b[0mcount\u001b[0m\u001b[0;34m(\u001b[0m\u001b[0;34m)\u001b[0m\u001b[0;34m\u001b[0m\u001b[0m\n",
      "\u001b[0;31mNameError\u001b[0m: name 'it' is not defined"
     ]
    }
   ],
   "source": [
    "i = 0\n",
    "c = counter([],INF = 1, per = 10 )\n",
    "for (hmmid1,hmmid2,v) in it:\n",
    "# for (hmmid1,hmmid2,v),sfbool in it:\n",
    "    c.count()   \n",
    "#     if sfbool:\n",
    "#         continue\n",
    "    \n",
    "#     print v\n",
    "    raw = D_curr[hmmid1,hmmid2]\n",
    "    hmmid1 = int(hmmid1)\n",
    "    hmmid2 = int(hmmid2)\n",
    "    hmm1 = hmms.get(id = hmmid1 )\n",
    "    hmm2 = hmms.get(id = hmmid2 )\n",
    "#     raise\n",
    "#     if hmm1.cath_node.parent == hmm2.cath_node.parent:\n",
    "    cnode1 = hmm1.cath_node\n",
    "    cnode2 = hmm2.cath_node\n",
    "#     if cnode1.Class == cnode2.Class:\n",
    "#     if cnode1.topo == cnode2.topo:\n",
    "    \n",
    "    if cnode1.homsf == cnode2.homsf:\n",
    "        continue\n",
    "#     if cnode1.superfamily() in ['3.30.200.20', '1.10.10.530']:\n",
    "#         continue\n",
    "    \n",
    "#     if c.i >= 2:\n",
    "    i+=1\n",
    "    print hmm1\n",
    "    print hmm2\n",
    "    print \"norm ISS is %s\"%v\n",
    "    print \"raw ISS is %d\"%raw\n",
    "    print hmm1.hits.count() + hmm2.hits.count()\n",
    "    \n",
    "    print \"http://xhits.cathdb.info/crosshits.php?sf2=%s&sf1=%s&db_source=Crosshits_v4_1_0\"%(cnode1.superfamily(),cnode2.superfamily())\n",
    "    if i == 10:\n",
    "        break"
   ]
  },
  {
   "cell_type": "code",
   "execution_count": 1,
   "metadata": {},
   "outputs": [
    {
     "data": {
      "text/html": [
       "[<b>CATH_CATH_ISShit</b>]:[Node1: <b>3.40.50.150.205.0</b> ,Node2: <b>3.50.50.60.143.0</b>]< raw_ISS: <b>27</b>, norm_ISS: <b>0.51</b>  >(from <b>CATH_Ver:4_1_0</b> )"
      ],
      "text/plain": [
       "<IPython.core.display.HTML object>"
      ]
     },
     "execution_count": 1,
     "metadata": {},
     "output_type": "execute_result"
    }
   ],
   "source": [
    "from IPython.display import HTML\n",
    "\n",
    "CChit = hit4cath2cath.objects.first()\n",
    "HTML(str(CChit))"
   ]
  },
  {
   "cell_type": "code",
   "execution_count": 6,
   "metadata": {},
   "outputs": [
    {
     "name": "stdout",
     "output_type": "stream",
     "text": [
      "1272541\n",
      "1272542\n"
     ]
    }
   ],
   "source": [
    "idlst = hit4cath2cath.objects.values_list('id', flat = 1 )\n",
    "print max(idlst) - min(idlst)\n",
    "print len(idlst)"
   ]
  },
  {
   "cell_type": "code",
   "execution_count": 4,
   "metadata": {},
   "outputs": [
    {
     "name": "stdout",
     "output_type": "stream",
     "text": [
      "{'ISS_norm': 0.506703406657695, '_state': <django.db.models.base.ModelState object at 0x7f9d1f0b8b90>, 'seqDB_id': 1L, 'ISS_raw': 27L, 'id': 337001L, 'node2_id': 294989L, 'node1_id': 290430L}\n"
     ]
    }
   ],
   "source": []
  }
 ],
 "metadata": {
  "kernelspec": {
   "display_name": "Django Shell-Plus",
   "language": "python",
   "name": "django_extensions"
  },
  "language_info": {
   "codemirror_mode": {
    "name": "ipython",
    "version": 2
   },
   "file_extension": ".py",
   "mimetype": "text/x-python",
   "name": "python",
   "nbconvert_exporter": "python",
   "pygments_lexer": "ipython2",
   "version": "2.7.12"
  }
 },
 "nbformat": 4,
 "nbformat_minor": 2
}
