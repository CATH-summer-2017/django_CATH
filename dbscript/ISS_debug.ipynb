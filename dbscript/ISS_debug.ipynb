{
 "cells": [
  {
   "cell_type": "code",
   "execution_count": 1,
   "metadata": {},
   "outputs": [
    {
     "name": "stdout",
     "output_type": "stream",
     "text": [
      "settings.USE_MODELLER\n",
      "settings.USE_MODELLER\n"
     ]
    }
   ],
   "source": [
    "\n",
    "from time import time\n",
    "import numpy as np\n",
    "from tst.domutil.util import *\n",
    "from tst.domutil.test import *\n",
    "from tst.utils_db import *\n",
    "\n",
    "\n",
    "from copy import copy\n",
    "from scipy.sparse import *\n",
    "from scipy.spatial.distance import *\n",
    "\n",
    "\n",
    "def Dnorm(hc1, hc2, hcboth):\n",
    "    log1 =  np.log10( hc1 + 1) \n",
    "    log2 =  np.log10( hc1 + 1) \n",
    "    log3 =  np.log10( hcboth + 1) \n",
    "    norm = (log1 + log2) / 2 - log3 \n",
    "    return norm\n",
    "\n",
    "reset_database_connection()\n",
    "\n",
    "# import sys\n",
    "reload(sys.modules[\"tst.domutil.util\"])\n",
    "from tst.domutil.util import *\n",
    "\n",
    "import sys\n",
    "reload(sys.modules[\"tst.domutil.test\"])\n",
    "from tst.domutil.test import *\n",
    "\n",
    "import sys\n",
    "reload(sys.modules[\"tst.utils_db\"])\n",
    "from tst.utils_db import *\n",
    "\n",
    "# %%time\n",
    "reset_database_connection()\n",
    "\n",
    "sDB = seqDB.objects.get(name = 'CATH')\n",
    "# sDB.sequence_set.count()\n",
    "seq = sDB.sequence_set.first()\n",
    "\n",
    "# seqset_all = sDB.sequence_set.all().prefetch_related('hmmprofile_set').filter(hit4hmm2hsp__bitscore__gte=30)\n",
    "\n",
    "# seq.HMMprofile\n",
    "# seq.hmmprofile\n",
    "# dir(seq)\n",
    "# seq.hmmprofile_set.count()\n",
    "\n",
    "sDB = seqDB.objects.get(name = 'CATH')\n",
    "# sDB.sequence_set.count()\n",
    "seq = sDB.sequence_set.first()\n",
    "\n",
    "# seqset_all = sDB.sequence_set.all().prefetch_related('hmmprofile_set').filter(hit4hmm2hsp__bitscore__gte=30)\n",
    "\n",
    "# seq.HMMprofile\n",
    "# seq.hmmprofile\n",
    "# dir(seq)\n",
    "# seq.hmmprofile_set.count()\n"
   ]
  },
  {
   "cell_type": "code",
   "execution_count": 2,
   "metadata": {
    "collapsed": true
   },
   "outputs": [],
   "source": [
    "seqs = sDB.sequence_set.all().defer('hmmprofile__text')\n",
    "matObj = ctmat( HMMprofile.objects, seqs = seqs, letter = 'H')\n",
    "\n",
    "classification.objects.filter(pk = 310499).values_list(\"classification\")\n",
    "# node = classification.objects.filter(pk__gte = 293169)[0]\n",
    "hmms = HMMprofile.objects.all()[:100]"
   ]
  },
  {
   "cell_type": "code",
   "execution_count": 10,
   "metadata": {},
   "outputs": [
    {
     "data": {
      "text/plain": [
       "True"
      ]
     },
     "execution_count": 10,
     "metadata": {},
     "output_type": "execute_result"
    }
   ],
   "source": [
    "hmms.__dict__\n",
    "hmms.values_list('id','hits').model == HMMprofile"
   ]
  },
  {
   "cell_type": "code",
   "execution_count": 11,
   "metadata": {},
   "outputs": [
    {
     "name": "stdout",
     "output_type": "stream",
     "text": [
      "The slowest run took 163.89 times longer than the fastest. This could mean that an intermediate result is being cached.\n",
      "10000000 loops, best of 3: 61.1 ns per loop\n"
     ]
    }
   ],
   "source": [
    "lst = list(range(1000))\n",
    "%timeit del lst[:]"
   ]
  },
  {
   "cell_type": "code",
   "execution_count": 12,
   "metadata": {},
   "outputs": [
    {
     "name": "stdout",
     "output_type": "stream",
     "text": [
      "10000000 loops, best of 3: 52 ns per loop\n"
     ]
    }
   ],
   "source": [
    "lst = list(range(1000))\n",
    "%timeit lst = []"
   ]
  }
 ],
 "metadata": {
  "kernelspec": {
   "display_name": "Django Shell-Plus",
   "language": "python",
   "name": "django_extensions"
  },
  "language_info": {
   "codemirror_mode": {
    "name": "ipython",
    "version": 2
   },
   "file_extension": ".py",
   "mimetype": "text/x-python",
   "name": "python",
   "nbconvert_exporter": "python",
   "pygments_lexer": "ipython2",
   "version": "2.7.12"
  }
 },
 "nbformat": 4,
 "nbformat_minor": 2
}
