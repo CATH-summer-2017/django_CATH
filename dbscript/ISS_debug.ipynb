{
 "cells": [
  {
   "cell_type": "code",
   "execution_count": 2,
   "metadata": {},
   "outputs": [
    {
     "name": "stdout",
     "output_type": "stream",
     "text": [
      "settings.USE_MODELLER\n",
      "settings.USE_MODELLER\n"
     ]
    }
   ],
   "source": [
    "\n",
    "from time import time\n",
    "import numpy as np\n",
    "from tst.domutil.util import *\n",
    "from tst.domutil.test import *\n",
    "from tst.utils_db import *\n",
    "\n",
    "\n",
    "from copy import copy\n",
    "from scipy.sparse import *\n",
    "from scipy.spatial.distance import *\n",
    "\n",
    "\n",
    "def Dnorm(hc1, hc2, hcboth):\n",
    "    log1 =  np.log10( hc1 + 1) \n",
    "    log2 =  np.log10( hc1 + 1) \n",
    "    log3 =  np.log10( hcboth + 1) \n",
    "    norm = (log1 + log2) / 2 - log3 \n",
    "    return norm\n",
    "\n",
    "reset_database_connection()\n",
    "\n",
    "# import sys\n",
    "reload(sys.modules[\"tst.domutil.util\"])\n",
    "from tst.domutil.util import *\n",
    "\n",
    "import sys\n",
    "reload(sys.modules[\"tst.domutil.test\"])\n",
    "from tst.domutil.test import *\n",
    "\n",
    "import sys\n",
    "reload(sys.modules[\"tst.utils_db\"])\n",
    "from tst.utils_db import *\n",
    "\n",
    "# %%time\n",
    "reset_database_connection()\n",
    "\n",
    "sDB = seqDB.objects.get(name = 'CATH')\n",
    "# sDB.sequence_set.count()\n",
    "seq = sDB.sequence_set.first()\n",
    "\n",
    "# seqset_all = sDB.sequence_set.all().prefetch_related('hmmprofile_set').filter(hit4hmm2hsp__bitscore__gte=30)\n",
    "\n",
    "# seq.HMMprofile\n",
    "# seq.hmmprofile\n",
    "# dir(seq)\n",
    "# seq.hmmprofile_set.count()\n",
    "\n",
    "sDB = seqDB.objects.get(name = 'CATH')\n",
    "# sDB.sequence_set.count()\n",
    "seq = sDB.sequence_set.first()\n",
    "\n",
    "# seqset_all = sDB.sequence_set.all().prefetch_related('hmmprofile_set').filter(hit4hmm2hsp__bitscore__gte=30)\n",
    "\n",
    "# seq.HMMprofile\n",
    "# seq.hmmprofile\n",
    "# dir(seq)\n",
    "# seq.hmmprofile_set.count()\n"
   ]
  },
  {
   "cell_type": "code",
   "execution_count": null,
   "metadata": {
    "collapsed": true
   },
   "outputs": [],
   "source": []
  },
  {
   "cell_type": "code",
   "execution_count": 2,
   "metadata": {
    "collapsed": true
   },
   "outputs": [],
   "source": [
    "seqs = sDB.sequence_set.all().defer('hmmprofile__text')\n",
    "matObj = ctmat( HMMprofile.objects, seqs = seqs, letter = 'H')\n",
    "\n",
    "classification.objects.filter(pk = 310499).values_list(\"classification\")\n",
    "# node = classification.objects.filter(pk__gte = 293169)[0]\n",
    "hmms = HMMprofile.objects.all()[:100]"
   ]
  },
  {
   "cell_type": "code",
   "execution_count": 10,
   "metadata": {},
   "outputs": [
    {
     "data": {
      "text/plain": [
       "True"
      ]
     },
     "execution_count": 10,
     "metadata": {},
     "output_type": "execute_result"
    }
   ],
   "source": [
    "hmms.__dict__\n",
    "hmms.values_list('id','hits').model == HMMprofile"
   ]
  },
  {
   "cell_type": "code",
   "execution_count": 8,
   "metadata": {},
   "outputs": [
    {
     "name": "stdout",
     "output_type": "stream",
     "text": [
      "45\n",
      "[debug]:length of qset is 0\n"
     ]
    },
    {
     "data": {
      "text/plain": [
       "0"
      ]
     },
     "execution_count": 8,
     "metadata": {},
     "output_type": "execute_result"
    }
   ],
   "source": [
    "def hitlist_compare(node1__id = 309754, node2__id = 310524, sDB = None, **kwargs):\n",
    "\n",
    "    qset1 = classification.objects.filter(id = node1__id)\n",
    "    qset2 = classification.objects.filter(id = node2__id)\n",
    "\n",
    "    node1 = qset1[0]\n",
    "    node2 = qset2[0]\n",
    "\n",
    "\n",
    "    rv_field = reverse_field[ node1.level.letter ]\n",
    "    sDB_field  = rv_field + \"__seqDB\"\n",
    "    text_field = rv_field.replace('__hits','__text')\n",
    "    rvid_field = rv_field.replace('__hits','__hit4hmm2hsp__id')\n",
    "    # qset1 = classification.objects.filter(id = self.node1.id)\n",
    "\n",
    "\n",
    "    rv_field = reverse_field[node2.level.letter]\n",
    "    sDB_field  = rv_field + \"__seqDB\"\n",
    "    text_field = rv_field.replace('__hits','__text')\n",
    "    rvid_field = rv_field.replace('__hits','__hit4hmm2hsp__id')\n",
    "\n",
    "    # qset2 = classification.objects.filter(id = self.node2.id)\n",
    "\n",
    "    # hitlist1 = qset1.defer(text_field).values_list(rvid_field, flat = True) \n",
    "    # hitlist2 = qset2.defer(text_field).values_list(rvid_field, flat = True) \n",
    "\n",
    "    # hits1_ids = {dict_hit2tid[ i ]: i for i in hitlist1 if i }\n",
    "    # hits2_ids = {dict_hit2tid[ i ]: i for i in hitlist2 if i }\n",
    "\n",
    "    hitlist1 = qset1.defer(text_field).values_list(rvid_field, sDB_field) \n",
    "    hitlist2 = qset2.defer(text_field).values_list(rvid_field, sDB_field) \n",
    "    sDB_id = sDB.id\n",
    "    hits1_ids = {dict_hit2tid[ i ]: i for i,j in hitlist1 if i and j==sDB_id}\n",
    "    hits2_ids = {dict_hit2tid[ i ]: i for i,j in hitlist2 if i and j==sDB_id}\n",
    "\n",
    "    # hits2_ids = {x.target.id: x for x in hits2dict.values()}\n",
    "    inter_ids = set( hits1_ids ) & set( hits2_ids )\n",
    "\n",
    "    hits1_obj = hit4hmm2hsp.objects.in_bulk( [hits1_ids[i] for i in inter_ids] )\n",
    "    hits2_obj = hit4hmm2hsp.objects.in_bulk( [hits2_ids[i] for i in inter_ids] )\n",
    "\n",
    "    print len(inter_ids)\n",
    "    qset = [ \n",
    "    hitP_obj(id = i,\n",
    "        hit1 = hit1,\n",
    "        hit2 = hit2) for i,hit1,hit2 in \n",
    "        izip(\n",
    "            inter_ids,hits1_obj.values(),hits2_obj.values()\n",
    "        )\n",
    "\n",
    "    ]\n",
    "\n",
    "\n",
    "    if isinstance(qset, list):\n",
    "        qset = fake__query_set(qset)\n",
    "        # qset.__str__ = lambda self:'%2.1f  %2.1f' % (self.hit1.bitscore, self.hit2.bitscore)\n",
    "    print \"[debug]:length of qset is\",len(qset)\n",
    "\n",
    "    return qset\n",
    "\n",
    "sDB = seqDB.objects.get(name ='CATH')\n",
    "len(hitlist_compare(sDB = sDB))"
   ]
  },
  {
   "cell_type": "code",
   "execution_count": null,
   "metadata": {
    "collapsed": true
   },
   "outputs": [],
   "source": [
    "from tst.views import *\n",
    "sDB = seqDB.objects.get(name ='CATH')\n"
   ]
  },
  {
   "cell_type": "code",
   "execution_count": 74,
   "metadata": {},
   "outputs": [
    {
     "name": "stdout",
     "output_type": "stream",
     "text": [
      "45\n",
      "[(21.0, 26.3, 21.0), (21.0, 41.0, 21.0), (214.0, 35.4, 214.0), (210.9, 35.4, 210.9), (209.6, 32.7, 209.6), (198.5, 32.7, 198.5), (192.7, 31.1, 192.7), (190.1, 28.3, 190.1), (180.5, 28.6, 180.5), (180.5, 29.0, 180.5), (179.3, 28.8, 179.3), (176.9, 28.6, 176.9), (173.3, 27.2, 173.3), (169.9, 26.3, 169.9), (169.7, 26.2, 169.7), (169.4, 26.2, 169.4), (169.0, 25.6, 169.0), (167.9, 26.2, 167.9), (165.7, 26.2, 165.7), (165.7, 25.5, 165.7), (163.4, 25.5, 163.4), (162.5, 25.4, 162.5), (161.2, 25.5, 161.2), (160.5, 24.4, 160.5), (158.9, 24.5, 158.9), (156.1, 23.0, 156.1), (155.2, 21.9, 155.2), (154.6, 23.3, 154.6), (146.1, 21.8, 146.1), (142.3, 21.8, 142.3), (138.5, 22.1, 138.5), (134.5, 22.2, 134.5), (134.5, 22.2, 134.5), (134.5, 22.1, 134.5), (134.5, 22.1, 134.5), (132.1, 22.1, 132.1), (129.2, 22.1, 129.2), (129.2, 20.1, 129.2), (127.5, 22.0, 127.5), (26.7, 171.2, 26.7), (21.9, 21.5, 21.9), (120.1, 20.4, 120.1), (26.6, 20.2, 26.6), (21.9, 21.6, 21.9), (127.5, 113.5, 127.5)]\n"
     ]
    }
   ],
   "source": [
    "#####\n",
    "### Symptom:  fake__query_set() produces an object of length 0.\n",
    "#####\n",
    "\n",
    "# qset = hitlist_compare(sDB = sDB)\n",
    "qset = fake__query_set(hitlist_compare(sDB = sDB))\n",
    "\n",
    "fields  = [\n",
    "    'hit1__bitscore',\n",
    "    'hit2__bitscore',\n",
    "    'id',\n",
    "    # 'superfamily',\n",
    "    ]\n",
    "\n",
    "fields  = [\n",
    "    'hit1__bitscore',\n",
    "    'hit2__bitscore',\n",
    "    'hit1__bitscore',\n",
    "    # 'superfamily',\n",
    "    ]\n",
    "it = qset.values_list(*fields)\n",
    "# print next(it)\n",
    "# print next(it)\n",
    "print list(it)"
   ]
  },
  {
   "cell_type": "code",
   "execution_count": null,
   "metadata": {
    "collapsed": true
   },
   "outputs": [],
   "source": [
    "help(hitlist_compare)"
   ]
  },
  {
   "cell_type": "code",
   "execution_count": 1,
   "metadata": {},
   "outputs": [
    {
     "data": {
      "text/plain": [
       "[<classification: 3.40.50.20.0>, <classification: 3.30.9.10.0>]"
      ]
     },
     "execution_count": 1,
     "metadata": {},
     "output_type": "execute_result"
    }
   ],
   "source": [
    "from tst.views import *\n",
    "qset = classification.objects.in_bulk([309877,310384]).values()\n",
    "qset = fake__query_set(qset)\n",
    "# qset.data\n",
    "qset"
   ]
  },
  {
   "cell_type": "code",
   "execution_count": 19,
   "metadata": {},
   "outputs": [
    {
     "data": {
      "text/plain": [
       "0"
      ]
     },
     "execution_count": 19,
     "metadata": {},
     "output_type": "execute_result"
    }
   ],
   "source": [
    "init_data()['node1'].dft"
   ]
  },
  {
   "cell_type": "code",
   "execution_count": 13,
   "metadata": {},
   "outputs": [
    {
     "data": {
      "text/plain": [
       "tst.models.hit4cath2cath"
      ]
     },
     "execution_count": 13,
     "metadata": {},
     "output_type": "execute_result"
    }
   ],
   "source": [
    "hit4cath2cath.objects.get(node1=309877,node2=310384)._meta.model"
   ]
  },
  {
   "cell_type": "code",
   "execution_count": 17,
   "metadata": {
    "collapsed": true
   },
   "outputs": [],
   "source": [
    "##########\n",
    "## test ##\n",
    "##########\n",
    "\n",
    "reset_database_connection()\n",
    "\n",
    "def init_data():\n",
    "    node1 = classification.objects.get(id=309877) ### supfam:3.30.9.10.0\n",
    "    node2 = classification.objects.get(id=310384) ### supfam:3.40.50.20.0\n",
    "    sDB = seqDB.objects.get(name = 'CATH')\n",
    "    exp = 68\n",
    "    return( {'node1':node1,'node2':node2,'sDB':sDB, 'exp':exp})\n",
    "\n",
    "\n",
    "def assert_expr(act, expr, behave = None, **kwargs):\n",
    "#     expr0 = expr[:]\n",
    "    fullexpr = ' act ' + expr\n",
    "    basemsg = \"Expecting:%s, Actual:%s \" % (expr,act)\n",
    "    success = eval(fullexpr,locals(),kwargs)\n",
    "    assert( success ),\"[FAILED]:\" + basemsg\n",
    "    print \"[PASSED]:\" + basemsg\n",
    "\n",
    "\n",
    "def test__hitlist_compare():\n",
    "#     locals().update(init_data())\n",
    "    func_name = 'hitlist_compare'\n",
    "    func = eval(func_name)\n",
    "    print \"[testing '%s']\" %func_name\n",
    "    data = init_data()\n",
    "        \n",
    "    hitPlist = func( data[\"node1\"].id, data[\"node2\"].id, data[\"sDB\"] )\n",
    "\n",
    "    \n",
    "    behave = \"Testing length of output list\"\n",
    "    exp = data[\"exp\"]\n",
    "    assert_expr( len(hitPlist), \" == exp \", **data )\n",
    "#     assert act == data[\"exp\"],'[failed] %s exp:%s, act:%s ' "
   ]
  },
  {
   "cell_type": "code",
   "execution_count": 208,
   "metadata": {},
   "outputs": [
    {
     "name": "stdout",
     "output_type": "stream",
     "text": [
      "[testing 'hitlist_compare']\n",
      "68\n",
      "[PASSED]:Expecting: == exp , Actual:68 \n"
     ]
    }
   ],
   "source": [
    "test__hitlist_compare()"
   ]
  },
  {
   "cell_type": "code",
   "execution_count": 207,
   "metadata": {
    "scrolled": true
   },
   "outputs": [
    {
     "name": "stdout",
     "output_type": "stream",
     "text": [
      "The line_profiler extension is already loaded. To reload it, use:\n",
      "  %reload_ext line_profiler\n",
      "45\n",
      "45\n",
      "45\n",
      "45\n",
      "45\n",
      "45\n",
      "45\n",
      "45\n",
      "45\n",
      "45\n",
      "45\n",
      "45\n",
      "45\n",
      "45\n",
      "45\n",
      "45\n",
      "45\n",
      "45\n",
      "45\n",
      "45\n"
     ]
    }
   ],
   "source": [
    "# %timeit hitlist_compare(sDB = sDB)\n",
    "%load_ext line_profiler\n",
    "def test():\n",
    "    for i in range(20):\n",
    "        hitlist_compare(sDB = sDB)\n",
    "\n",
    "%lprun -f hitlist_compare test()"
   ]
  },
  {
   "cell_type": "code",
   "execution_count": 206,
   "metadata": {
    "collapsed": true
   },
   "outputs": [],
   "source": [
    "def hitlist_compare(node1__id = 309754, node2__id = 310524, sDB = None, **kwargs):\n",
    "    sDB_id = sDB.id\n",
    "\n",
    "    qset1 = classification.objects.filter(id = node1__id)\n",
    "    qset2 = classification.objects.filter(id = node2__id)\n",
    "\n",
    "    node1 = qset1[0]\n",
    "    node2 = qset2[0]\n",
    "\n",
    "\n",
    "    rv_field = reverse_field[ node1.level.letter ]\n",
    "    sDB_field  = rv_field + \"__seqDB\"\n",
    "    text_field = rv_field.replace('__hits','__text')\n",
    "    rvid_field = rv_field.replace('__hits','__hit4hmm2hsp__id')\n",
    "\n",
    "    fs = [rv_field, rvid_field, sDB_field]\n",
    "    hitlist1 = qset1.values_list(*fs).distinct() \n",
    "\n",
    "    \n",
    "    rv_field = reverse_field[ node2.level.letter ]\n",
    "    sDB_field  = rv_field + \"__seqDB\"\n",
    "    text_field = rv_field.replace('__hits','__text')\n",
    "    rvid_field = rv_field.replace('__hits','__hit4hmm2hsp__id')\n",
    "    \n",
    "    fs = [rv_field, rvid_field, sDB_field]\n",
    "    hitlist2 = qset2.values_list(*fs).distinct() \n",
    "\n",
    "#     hitlist2 = filter(ffunc, hitlist2)\n",
    "#     hits1_ids = {x[0]: x[1] for x in hitlist1}\n",
    "#     hits2_ids = {x[0]: x[1] for x in hitlist2}\n",
    "\n",
    "    \n",
    "    hits1_ids = {seqid:hitid for seqid,hitid,sid in hitlist1 if sid == sDB_id}\n",
    "    hits2_ids = {seqid:hitid for seqid,hitid,sid in hitlist2 if sid == sDB_id}\n",
    "    inter_ids = set(hits1_ids) & set(hits2_ids)\n",
    "\n",
    "    hits1_obj = hit4hmm2hsp.objects.in_bulk( [hits1_ids[i] for i in inter_ids] )\n",
    "    hits2_obj = hit4hmm2hsp.objects.in_bulk( [hits2_ids[i] for i in inter_ids] )\n",
    "\n",
    "    print len(inter_ids)\n",
    "    qset = [ \n",
    "    hitP_obj(\n",
    "        id = i,\n",
    "        acc = hit1.target.acc,\n",
    "        hit1 = hit1,\n",
    "        hit2 = hit2) for i,hit1,hit2 in \n",
    "        izip(\n",
    "            inter_ids,hits1_obj.values(),hits2_obj.values()\n",
    "        )\n",
    "\n",
    "    ]\n",
    "\n",
    "\n",
    "    return qset\n"
   ]
  },
  {
   "cell_type": "code",
   "execution_count": 82,
   "metadata": {},
   "outputs": [
    {
     "name": "stdout",
     "output_type": "stream",
     "text": [
      "3.30.9.10.0\n",
      "3.40.50.20.0\n"
     ]
    }
   ],
   "source": [
    "n1 = classification.objects.get(id=309877)\n",
    "n2 = classification.objects.get(id=310384)\n",
    "print n1\n",
    "print n2"
   ]
  }
 ],
 "metadata": {
  "kernelspec": {
   "display_name": "Django Shell-Plus",
   "language": "python",
   "name": "django_extensions"
  },
  "language_info": {
   "codemirror_mode": {
    "name": "ipython",
    "version": 2
   },
   "file_extension": ".py",
   "mimetype": "text/x-python",
   "name": "python",
   "nbconvert_exporter": "python",
   "pygments_lexer": "ipython2",
   "version": "2.7.12"
  }
 },
 "nbformat": 4,
 "nbformat_minor": 2
}
