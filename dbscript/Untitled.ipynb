{
 "cells": [
  {
   "cell_type": "code",
   "execution_count": 3,
   "metadata": {
    "collapsed": true
   },
   "outputs": [],
   "source": [
    "from shutil import copyfile\n",
    "import os\n"
   ]
  },
  {
   "cell_type": "code",
   "execution_count": 10,
   "metadata": {},
   "outputs": [
    {
     "data": {
      "text/plain": [
       "u'/home/shouldsee/Documents/repos/cathdb/temppdbs/tmp/3fghA00'"
      ]
     },
     "execution_count": 10,
     "metadata": {},
     "output_type": "execute_result"
    }
   ],
   "source": [
    "os.environ['PDBlib'] = os.path.expandvars('$repos/cathdb/temppdbs')\n",
    "os.path.expandvars('$PDBlib/tmp/'+d.domain_id)"
   ]
  },
  {
   "cell_type": "code",
   "execution_count": 12,
   "metadata": {},
   "outputs": [
    {
     "name": "stdout",
     "output_type": "stream",
     "text": [
      "4p0fA02 failed\n",
      "4au2B02 failed\n",
      "4au2D01 failed\n"
     ]
    }
   ],
   "source": [
    "dset = domain.objects.all()\n",
    "for d in dset:\n",
    "    path = os.path.expandvars('$PDBlib/'+d.domain_id)\n",
    "#     copyfile(path,os.path.expandvars('$PDBlib/../tmp/'+d.domain_id))\n",
    "    try:\n",
    "        copyfile(path,os.path.expandvars('$PDBlib/../tmp/'+d.domain_id))\n",
    "    except:\n",
    "        print \"%s failed\"%d.domain_id"
   ]
  }
 ],
 "metadata": {
  "kernelspec": {
   "display_name": "Django Shell-Plus",
   "language": "python",
   "name": "django_extensions"
  },
  "language_info": {
   "codemirror_mode": {
    "name": "ipython",
    "version": 2
   },
   "file_extension": ".py",
   "mimetype": "text/x-python",
   "name": "python",
   "nbconvert_exporter": "python",
   "pygments_lexer": "ipython2",
   "version": "2.7.12"
  }
 },
 "nbformat": 4,
 "nbformat_minor": 2
}
